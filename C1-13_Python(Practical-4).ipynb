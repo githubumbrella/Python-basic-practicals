{
  "nbformat": 4,
  "nbformat_minor": 0,
  "metadata": {
    "colab": {
      "provenance": []
    },
    "kernelspec": {
      "name": "python3",
      "display_name": "Python 3"
    },
    "language_info": {
      "name": "python"
    }
  },
  "cells": [
    {
      "cell_type": "markdown",
      "source": [
        "## Python Programming Lab \n",
        "## Practical no. 4\n",
        "## Topic Covered: Dictionary and Function\n",
        "## Roll no: 13"
      ],
      "metadata": {
        "id": "CaBUnTvWhEJg"
      }
    },
    {
      "cell_type": "markdown",
      "source": [
        "1. Consider the information given below and answer the following question.\n",
        "Employee_data = { 101:[&#39;Shiva&#39;, 24, &#39;Content Strategist&#39;] ,102:[&#39;Udit&#39;,25,&#39;Content Strategist&#39;],\n",
        "103:[&#39;Sonam&#39;, 28,&#39;Sr Manager&#39;], 104:[&#39;Ansari&#39;,29,&#39;Product Lead&#39; ],105:[&#39;Huzefa&#39;,32,&#39;Project\n",
        "Manager&#39; ]}\n",
        "\n",
        "    a. Get details of the oldest Employee"
      ],
      "metadata": {
        "id": "WpQnGoxxgwHV"
      }
    },
    {
      "cell_type": "code",
      "source": [
        "Employee_data={101:['Shiva',24,'Content Strategist'],102:['Udit',25,'Content Strategist'],103:['Sonam',28,'Sr Manager'],104:['Ansari',29,'Product Lead'],105:['Huzefa',32,'Project Manager']}\n",
        "a=Employee_data[101]\n",
        "old=a[1]\n",
        "for i in Employee_data.values():\n",
        "  if(i[1]>old):\n",
        "    old=i[1]\n",
        "print(\"Oldest employee \",i)"
      ],
      "metadata": {
        "colab": {
          "base_uri": "https://localhost:8080/"
        },
        "id": "upwKAQ0dhP5r",
        "outputId": "e64dfad5-06b7-4e14-e405-5ebf29422263"
      },
      "execution_count": 18,
      "outputs": [
        {
          "output_type": "stream",
          "name": "stdout",
          "text": [
            "Oldest employee  ['Huzefa', 32, 'Project Manager']\n"
          ]
        }
      ]
    },
    {
      "cell_type": "markdown",
      "source": [
        "b. Identify the age of the employee with employee id 159 [ If the employee isn&#39;t present\n",
        "return NA]"
      ],
      "metadata": {
        "id": "M_EDK8_yhsbU"
      }
    },
    {
      "cell_type": "code",
      "source": [
        "if 159 in Employee_data:\n",
        "    print(Employee_data[159])\n",
        "else:\n",
        "    print(\"NA\")"
      ],
      "metadata": {
        "colab": {
          "base_uri": "https://localhost:8080/"
        },
        "id": "TLgc3iVNhqDK",
        "outputId": "9e2b068e-8641-4b82-8457-ab3f2dfd7fd0"
      },
      "execution_count": 7,
      "outputs": [
        {
          "output_type": "stream",
          "name": "stdout",
          "text": [
            "NA\n"
          ]
        }
      ]
    },
    {
      "cell_type": "markdown",
      "source": [
        "c. Count the total number of employees in the organization"
      ],
      "metadata": {
        "id": "O1r5pu8Xh23h"
      }
    },
    {
      "cell_type": "code",
      "source": [
        "count=len(Employee_data)\n",
        "print(\"Total number of employees in the organasization: \",count)"
      ],
      "metadata": {
        "colab": {
          "base_uri": "https://localhost:8080/"
        },
        "id": "9s-I_hAjh77p",
        "outputId": "1d141a6c-d566-4e6e-c641-546a9ea5317a"
      },
      "execution_count": 7,
      "outputs": [
        {
          "output_type": "stream",
          "name": "stdout",
          "text": [
            "Total number of employees in the organasization:  5\n"
          ]
        }
      ]
    },
    {
      "cell_type": "markdown",
      "source": [
        "d. Calculate the mean age of the employees"
      ],
      "metadata": {
        "id": "xliP6Gi-iE1Y"
      }
    },
    {
      "cell_type": "code",
      "source": [
        "m=0\n",
        "for i in range(101,106):\n",
        "    m=m+Employee_data[i][1]\n",
        "mean=m/len(Employee_data)   \n",
        "print(\"Mean age of employees: \",mean)"
      ],
      "metadata": {
        "colab": {
          "base_uri": "https://localhost:8080/"
        },
        "id": "y2zIM-BYiCe_",
        "outputId": "0034adb7-9837-4c57-f468-25179463c879"
      },
      "execution_count": 9,
      "outputs": [
        {
          "output_type": "stream",
          "name": "stdout",
          "text": [
            "Mean age of employees:  27.6\n"
          ]
        }
      ]
    },
    {
      "cell_type": "markdown",
      "source": [
        "e. Perform the following two tasks and then calculate the updated mean age of the employees.Update the ages of employee id - 104,140, and 164 as 27"
      ],
      "metadata": {
        "id": "38XaJiMeiNL9"
      }
    },
    {
      "cell_type": "code",
      "source": [
        "Employee_data[104][1]=27\n",
        "Employee_data[140]=['Saloni',27,'Dancer']\n",
        "Employee_data[164]=['Aman',27,'Dancer']\n",
        "print(\"Age of employee id 104: \",Employee_data[104][1])\n",
        "print(\"Age of employee id 140: \",Employee_data[140][1])\n",
        "print(\"Age of employee id 164: \",Employee_data[164][1])\n",
        "print(Employee_data)"
      ],
      "metadata": {
        "colab": {
          "base_uri": "https://localhost:8080/"
        },
        "id": "c09X2Lk-iKvZ",
        "outputId": "999bb181-e5d7-4288-860e-e8d6940af16b"
      },
      "execution_count": 10,
      "outputs": [
        {
          "output_type": "stream",
          "name": "stdout",
          "text": [
            "Age of employee id 104:  27\n",
            "Age of employee id 140:  27\n",
            "Age of employee id 164:  27\n",
            "{101: ['Shiva', 24, 'Content Strategist'], 102: ['Udit', 25, 'Content Strategist'], 103: ['Sonam', 28, 'Sr Manager'], 104: ['Ansari', 27, 'Product Lead'], 105: ['Huzefa', 32, 'Project Manager'], 140: ['Saloni', 27, 'Dancer'], 164: ['Aman', 27, 'Dancer']}\n"
          ]
        }
      ]
    },
    {
      "cell_type": "code",
      "source": [
        "m=0\n",
        "for i in range(101,106):\n",
        "    m=m+Employee_data[i][1]\n",
        "mean=(m+Employee_data[140][1]+Employee_data[164][1])/len(Employee_data)\n",
        "print(\"Updated mean age of the employees:\",mean)"
      ],
      "metadata": {
        "colab": {
          "base_uri": "https://localhost:8080/"
        },
        "id": "wjSDMr0ZiUAd",
        "outputId": "16b8fe79-1d8e-4f5b-df42-beed60cbc7af"
      },
      "execution_count": 12,
      "outputs": [
        {
          "output_type": "stream",
          "name": "stdout",
          "text": [
            "Updated mean age of the employees: 27.142857142857142\n"
          ]
        }
      ]
    },
    {
      "cell_type": "markdown",
      "source": [
        "2. Create a SORTED list of all values from the dictionary input_dict = {&#39;Jack Dorsey&#39; : &#39;Twitter&#39; ,\n",
        "&#39;Tim Cook&#39; : &#39;Apple&#39;, &#39;Jeff Bezos&#39; : &#39;Amazon&#39; , &#39;Mukesh Ambani&#39; : &#39;RJIO&#39;}\n",
        "Sample Output: [&#39;Amazon&#39;, &#39;Apple&#39;, &#39;RJIO&#39;, &#39;Twitter&#39;]"
      ],
      "metadata": {
        "id": "tuHWDg4OjVC5"
      }
    },
    {
      "cell_type": "code",
      "source": [
        "input_dict={'Jack Dorsey':'Twitter','Tim Cook':'Apple','Jeff Bezos':'Amazon','Mukesh Ambani':'RJIO'}\n",
        "for item in input_dict.items():\n",
        "    print(item)\n",
        "print(list(sorted(input_dict.values())))    "
      ],
      "metadata": {
        "colab": {
          "base_uri": "https://localhost:8080/"
        },
        "id": "GHT9wT1qjWOr",
        "outputId": "52efd4a0-c08f-4d4c-f7f3-f8df9b675dc3"
      },
      "execution_count": 13,
      "outputs": [
        {
          "output_type": "stream",
          "name": "stdout",
          "text": [
            "('Jack Dorsey', 'Twitter')\n",
            "('Tim Cook', 'Apple')\n",
            "('Jeff Bezos', 'Amazon')\n",
            "('Mukesh Ambani', 'RJIO')\n",
            "['Amazon', 'Apple', 'RJIO', 'Twitter']\n"
          ]
        }
      ]
    },
    {
      "cell_type": "markdown",
      "source": [
        "3. Scenario: You are the manager of a supermarket. You have a list of items together with their\n",
        "prices that consumers bought on a particular day. Your task is to print each item_name and\n",
        "net_price.\n",
        "item_name = Name of the item.\n",
        "net_price = Quantity of the item sold multiplied by the price of each item.\n",
        "##### Input Format\n",
        "The first line contains the number of items\n",
        "The next lines contains the item&#39;s name and price, separated by a space.\n",
        "##### Constraint\n",
        "0&lt;n&lt;=100\n",
        "###### Output Format####\n",
        "Print the item_name and net_price in order\n",
        "###### Sample####"
      ],
      "metadata": {
        "id": "8tXExE-jjfwd"
      }
    },
    {
      "cell_type": "code",
      "source": [
        "print(\"Enter the number of items: \")\n",
        "n=int(input())\n",
        "items_dict=dict()\n",
        "for i in range(n):\n",
        "  print(\"Enter item\",i+1)\n",
        "  item=input()\n",
        "  item_name,item_price=item.split(' ')\n",
        "  item_price=int(item_price)\n",
        "  if(item_name in items_dict):\n",
        "    items_dict[item_name]+=item_price\n",
        "  else:\n",
        "    items_dict[item_name]=item_price\n",
        "print(\"Items and their net price are : \")\n",
        "for keys in items_dict:\n",
        "  print(keys,items_dict[keys])"
      ],
      "metadata": {
        "colab": {
          "base_uri": "https://localhost:8080/"
        },
        "id": "1C9k8Hizjojk",
        "outputId": "97110bc2-7777-4c33-94df-80fce8d2b5e1"
      },
      "execution_count": 1,
      "outputs": [
        {
          "output_type": "stream",
          "name": "stdout",
          "text": [
            "Enter the number of items: \n",
            "3\n",
            "Enter item 1\n",
            "Bread 15\n",
            "Enter item 2\n",
            "Milk 25\n",
            "Enter item 3\n",
            "Butter 40\n",
            "Items and their net price are : \n",
            "Bread 15\n",
            "Milk 25\n",
            "Butter 40\n"
          ]
        }
      ]
    },
    {
      "cell_type": "markdown",
      "source": [
        "4. Create a Nested Dictionary Using the given table in the format:\n",
        "Olympic = {County1 : {Country Code-1 : {Gold : value , Silver : value Bronze:value} },\n",
        "\n",
        "County2 : {Country Code-2 : {Gold : value , Silver : value , Bronze : value} }, ….}\n",
        "\n",
        "Country || Country Code ||Year ||Medal-Gold|| Medal-Silver || Medal- Bronze\n",
        "\n",
        "Great Britain || GBR ||2012 || 29 || 17 || 19\n",
        "\n",
        "China || CHN || 2012 || 38 || 28 || 22\n",
        "\n",
        "Russia || RUS || 2012 || 24 || 25 || 32\n",
        "\n",
        "United States|| US || 2012 || 46 || 28 || 29\n",
        "\n",
        "Korea || KOR || 2012 || 13 || 8 || 7\n",
        "\n",
        "Japan || JPN || 2012 || 7 || 14 || 17\n",
        "\n",
        "Germany || GER || 2012 || 11 || 11 || 14"
      ],
      "metadata": {
        "id": "FKS7Qz5flMSK"
      }
    },
    {
      "cell_type": "code",
      "source": [
        "Olympic={'Great Britain':{'GBR':{'Gold':27,'Silver':17,'Bronze':19}},'China':{'CHN':{'Gold':38,'Silver':28,'Bronze':22}},'Russia':{'RUS':{'Gold':24,'Silver':25,'Bronze':32}},'United States':{'US':{'Gold':46,'Silver':28,'Bronze':29}},\n",
        "     'Korea':{'KOR':{'Gold':13,'Silver':8,'Bronze':7}},'Japan':{'JPN':{'Gold':7,'Silver':14,'Bronze':17}},'Germany':{'GER':{'Gold':11,'Silver':11,'Bronze':14}}}\n",
        "print(Olympic)"
      ],
      "metadata": {
        "colab": {
          "base_uri": "https://localhost:8080/"
        },
        "id": "iuDFqW5tlQ8y",
        "outputId": "752d2123-6685-4b06-ae5e-710c352627a0"
      },
      "execution_count": 2,
      "outputs": [
        {
          "output_type": "stream",
          "name": "stdout",
          "text": [
            "{'Great Britain': {'GBR': {'Gold': 27, 'Silver': 17, 'Bronze': 19}}, 'China': {'CHN': {'Gold': 38, 'Silver': 28, 'Bronze': 22}}, 'Russia': {'RUS': {'Gold': 24, 'Silver': 25, 'Bronze': 32}}, 'United States': {'US': {'Gold': 46, 'Silver': 28, 'Bronze': 29}}, 'Korea': {'KOR': {'Gold': 13, 'Silver': 8, 'Bronze': 7}}, 'Japan': {'JPN': {'Gold': 7, 'Silver': 14, 'Bronze': 17}}, 'Germany': {'GER': {'Gold': 11, 'Silver': 11, 'Bronze': 14}}}\n"
          ]
        }
      ]
    },
    {
      "cell_type": "markdown",
      "source": [
        "a.Find the country with maximum gold medals"
      ],
      "metadata": {
        "id": "k5HSzRmzlYeo"
      }
    },
    {
      "cell_type": "code",
      "source": [
        "temp=Olympic['Great Britain']['GBR']['Gold']\n",
        "for i in Olympic.values():\n",
        "  for j in i.values():\n",
        "    while temp<j['Gold']:\n",
        "      temp=j['Gold']\n",
        "      max=i.items()\n",
        "      \n",
        "print(max,\"has maximum gold \")"
      ],
      "metadata": {
        "colab": {
          "base_uri": "https://localhost:8080/"
        },
        "id": "vqX0ameqlln-",
        "outputId": "fd65f37e-0786-43a0-cf6e-bd6131b99932"
      },
      "execution_count": 9,
      "outputs": [
        {
          "output_type": "stream",
          "name": "stdout",
          "text": [
            "dict_items([('US', {'Gold': 46, 'Silver': 28, 'Bronze': 29})]) has maximum gold \n"
          ]
        }
      ]
    },
    {
      "cell_type": "markdown",
      "source": [
        "b. Find the countries with more than 20 gold medals"
      ],
      "metadata": {
        "id": "gYplTqq7lZeN"
      }
    },
    {
      "cell_type": "code",
      "source": [
        "print(\"Countries with more than 20 medals are:\\n \")\n",
        "for i in Olympic.values():\n",
        "  for j in i.values():\n",
        "    if j['Gold']>20:\n",
        "      \n",
        "      print(i.items())"
      ],
      "metadata": {
        "colab": {
          "base_uri": "https://localhost:8080/"
        },
        "id": "ApvN2zCclmM9",
        "outputId": "2d8d1b49-9bad-4b3e-9776-0f18561ca17c"
      },
      "execution_count": 10,
      "outputs": [
        {
          "output_type": "stream",
          "name": "stdout",
          "text": [
            "Countries with more than 20 medals are:\n",
            " \n",
            "dict_items([('GBR', {'Gold': 27, 'Silver': 17, 'Bronze': 19})])\n",
            "dict_items([('CHN', {'Gold': 38, 'Silver': 28, 'Bronze': 22})])\n",
            "dict_items([('RUS', {'Gold': 24, 'Silver': 25, 'Bronze': 32})])\n",
            "dict_items([('US', {'Gold': 46, 'Silver': 28, 'Bronze': 29})])\n"
          ]
        }
      ]
    },
    {
      "cell_type": "markdown",
      "source": [
        "c. Evaluate the Dictionary and print the name of each country with its gold medals and total number of medals"
      ],
      "metadata": {
        "id": "OtvvLoKklZhe"
      }
    },
    {
      "cell_type": "code",
      "source": [
        "for i in Olympic.values():\n",
        "  sum=0\n",
        "  for j in i.values():\n",
        "    sum=sum+j['Gold']+j['Silver']+j['Bronze']\n",
        "    print(\"all gold medals of \",i.keys() ,\"is \", j['Gold'])\n",
        "    \n",
        "    print(\"Sum of all medals of \",i.keys(),\"is \",sum)\n",
        "    print(\"\\n\")"
      ],
      "metadata": {
        "colab": {
          "base_uri": "https://localhost:8080/"
        },
        "id": "mhiGjoWwliPa",
        "outputId": "bee46f8e-5ab7-4cc2-91b0-e93ece1a92d1"
      },
      "execution_count": 11,
      "outputs": [
        {
          "output_type": "stream",
          "name": "stdout",
          "text": [
            "all gold medals of  dict_keys(['GBR']) is  27\n",
            "Sum of all medals of  dict_keys(['GBR']) is  63\n",
            "\n",
            "\n",
            "all gold medals of  dict_keys(['CHN']) is  38\n",
            "Sum of all medals of  dict_keys(['CHN']) is  88\n",
            "\n",
            "\n",
            "all gold medals of  dict_keys(['RUS']) is  24\n",
            "Sum of all medals of  dict_keys(['RUS']) is  81\n",
            "\n",
            "\n",
            "all gold medals of  dict_keys(['US']) is  46\n",
            "Sum of all medals of  dict_keys(['US']) is  103\n",
            "\n",
            "\n",
            "all gold medals of  dict_keys(['KOR']) is  13\n",
            "Sum of all medals of  dict_keys(['KOR']) is  28\n",
            "\n",
            "\n",
            "all gold medals of  dict_keys(['JPN']) is  7\n",
            "Sum of all medals of  dict_keys(['JPN']) is  38\n",
            "\n",
            "\n",
            "all gold medals of  dict_keys(['GER']) is  11\n",
            "Sum of all medals of  dict_keys(['GER']) is  36\n",
            "\n",
            "\n"
          ]
        }
      ]
    },
    {
      "cell_type": "markdown",
      "source": [
        "5. Write a Python Program to Count the Number of Each Vowel, consonants and spaces in the\n",
        "given String(Multiline) using Dictionary (Use V_dict for vowels and C_dict for consonants and\n",
        "spaces)"
      ],
      "metadata": {
        "id": "CHU4b_Qzlm5e"
      }
    },
    {
      "cell_type": "code",
      "source": [
        "str = input( \"Enter the string=\" )\n",
        "vowels = 0\n",
        "consonants = 0\n",
        "\n",
        "str = str.lower()\n",
        "for i in range(0, len(str)):\n",
        "      if(str[i] == 'a' or str[i] == 'e' or str[i] == 'i'\n",
        "          or str[i] == 'o' or str[i] == 'u'):\n",
        "          vowels = vowels + 1\n",
        "      elif((str[i] >= 'a'and str[i] <= 'z')):\n",
        "          consonants = consonants + 1\n",
        "\n",
        "print(\"Vowels=\", vowels)\n",
        "print(\"Consonants=\", consonants)"
      ],
      "metadata": {
        "colab": {
          "base_uri": "https://localhost:8080/"
        },
        "id": "8LdPDv9klpBX",
        "outputId": "3016f358-55cb-47e8-c661-1248c2364ef4"
      },
      "execution_count": 3,
      "outputs": [
        {
          "output_type": "stream",
          "name": "stdout",
          "text": [
            "Enter the string=Why are you reading my document?\n",
            "Vowels= 10\n",
            "Consonants= 16\n"
          ]
        }
      ]
    },
    {
      "cell_type": "markdown",
      "source": [
        "6) Take the string your name as input (Ex. Firstname middlename surname). Generate the mail id\n",
        "as surname followed by first letter from firstname, first letter from middle name, @rknec.edu and\n",
        "store this into the dictionary as { Mail ID: Name} using function . Do it for 5 students."
      ],
      "metadata": {
        "id": "J6Rwxue-l8IC"
      }
    },
    {
      "cell_type": "code",
      "source": [
        "def mail(name,name_dict):\n",
        "  \n",
        "  lst=name.split(\" \")\n",
        "  id=lst[2]+lst[0][0]+lst[1]+\"@rknec.edu\"\n",
        "  name_dict[id]=name\n",
        "  \n",
        "name_dict={}\n",
        "for i in range(5):\n",
        "  \n",
        "  name=input(\"Enter name : \")\n",
        "  mail(name,name_dict);\n",
        "print(name_dict)"
      ],
      "metadata": {
        "colab": {
          "base_uri": "https://localhost:8080/"
        },
        "id": "pdMgIKnlmEs0",
        "outputId": "fad4de6f-3a86-4929-c6b6-626044be9460"
      },
      "execution_count": 12,
      "outputs": [
        {
          "output_type": "stream",
          "name": "stdout",
          "text": [
            "Enter name : Saloni Vinod Vishwakarma\n",
            "Enter name : Aishwarya Rai Bachhan\n",
            "Enter name : Akshay Kumar Bhatia\n",
            "Enter name : Priya Dilip Panpaliya\n",
            "Enter name : Radhika Anil Laddha\n",
            "{'VishwakarmaSVinod@rknec.edu': 'Saloni Vinod Vishwakarma', 'BachhanARai@rknec.edu': 'Aishwarya Rai Bachhan', 'BhatiaAKumar@rknec.edu': 'Akshay Kumar Bhatia', 'PanpaliyaPDilip@rknec.edu': 'Priya Dilip Panpaliya', 'LaddhaRAnil@rknec.edu': 'Radhika Anil Laddha'}\n"
          ]
        }
      ]
    },
    {
      "cell_type": "markdown",
      "source": [
        "7) Use functions to calculate the trip&#39;s costs: "
      ],
      "metadata": {
        "id": "yEz54XKbqsPy"
      }
    },
    {
      "cell_type": "markdown",
      "source": [
        "(i) Define a function called hotel_cost with one argument nights as input. The hotel costs $140 per night. So, the function hotel_cost should returns 140 * nights."
      ],
      "metadata": {
        "id": "Cb2qzhglq67n"
      }
    },
    {
      "cell_type": "code",
      "source": [
        "def hotel_cost(night):\n",
        "  return 140*night\n",
        "night=int(input(\"Enter number of nights: \"))\n",
        "print(\"\\n Total hotel cost is $\",hotel_cost(night))"
      ],
      "metadata": {
        "colab": {
          "base_uri": "https://localhost:8080/"
        },
        "id": "pMepo1tQrFaK",
        "outputId": "c8a3da35-2df2-461a-c0f5-bd2e43581aeb"
      },
      "execution_count": 14,
      "outputs": [
        {
          "output_type": "stream",
          "name": "stdout",
          "text": [
            "Enter number of nights: 5\n",
            "\n",
            " Total hotel cost is $ 700\n"
          ]
        }
      ]
    },
    {
      "cell_type": "markdown",
      "source": [
        "(ii) Define a function called plane_ride_cost that takes a string city as input. The function should return a different price depending on the location.\n",
        "**Below are the valid destinations and their corresponding round-trip prices.\n",
        "o &quot;Charlotte&quot;: 183, &quot;Tampa&quot;: 220, &quot;Pittsburgh&quot;: 222, &quot;Los Angeles&quot;: 475**"
      ],
      "metadata": {
        "id": "_wl-60fPq7TU"
      }
    },
    {
      "cell_type": "code",
      "source": [
        "def plane_ride_cost(city):\n",
        "  if (city==\"Charlotte\"):\n",
        "    return 183\n",
        "  elif (city==\"Tampa\"):\n",
        "    return 220\n",
        "  elif (city==\"Pittsburgh\"):\n",
        "    return 222\n",
        "  elif (city==\"Los Angeles\"):\n",
        "    return 475\n",
        "  else :\n",
        "    return \"invalid desitination\"\n",
        "city=input(\"Enter location\")\n",
        "print(\"Round-trip prices \",plane_ride_cost(city))"
      ],
      "metadata": {
        "colab": {
          "base_uri": "https://localhost:8080/"
        },
        "id": "l0C35PoTrSuv",
        "outputId": "b9d25d0d-0a19-4293-dfae-c9a177f80a4a"
      },
      "execution_count": 15,
      "outputs": [
        {
          "output_type": "stream",
          "name": "stdout",
          "text": [
            "Enter locationLos Angeles\n",
            "Round-trip prices  475\n"
          ]
        }
      ]
    },
    {
      "cell_type": "markdown",
      "source": [
        "(iii) -Below your existing code, define a function called rental_car_cost with an argument\n",
        "called days. Calculate the cost of renting the car: Every day you rent the car costs\n",
        "$40.(cost=40*days)\n",
        "\n",
        "if you rent the car for 7 or more days, you get $50 off your total(cost-=50). Alternatively (elif), if you rent the car for 3 or more days, you get $20 off your total. You cannot get\n",
        "both of the above discounts. Return that cost."
      ],
      "metadata": {
        "id": "idJcVQAyq71k"
      }
    },
    {
      "cell_type": "code",
      "source": [
        "def rental_car_cost(days):\n",
        "  if (days>=3 and days>=7):\n",
        "      return (40*days)-50\n",
        "  \n",
        "  elif (days>=3 and days<=7):\n",
        "    return (40*days)-20\n",
        "  \n",
        "days=int(input(\"Enter no days : \"))\n",
        "print(\"Total rent of car is  $\",rental_car_cost(days))"
      ],
      "metadata": {
        "colab": {
          "base_uri": "https://localhost:8080/"
        },
        "id": "RoqwEFHQrt3H",
        "outputId": "e8f11e30-710b-4192-e23b-d47ae586deec"
      },
      "execution_count": 16,
      "outputs": [
        {
          "output_type": "stream",
          "name": "stdout",
          "text": [
            "Enter no days : 5\n",
            "Total rent of car is  $ 180\n"
          ]
        }
      ]
    },
    {
      "cell_type": "markdown",
      "source": [
        "(iv) -Then, define a function called trip_cost that takes two arguments, city and days. Have\n",
        "your function return the sum of calling the rental_car_cost(days), hotel_cost(days), and\n",
        "plane_ride_cost(city) functions."
      ],
      "metadata": {
        "id": "UBw19aPwq8S4"
      }
    },
    {
      "cell_type": "code",
      "source": [
        "def trip_cost(city,days):\n",
        "  return rental_car_cost(days)+hotel_cost(days)+plane_ride_cost(city)\n",
        "city=input(\"Enter city :\")\n",
        "days=int(input(\"Enter number of days :\"))\n",
        "print(\"Total cost of trip  is $\",trip_cost(city,days))"
      ],
      "metadata": {
        "colab": {
          "base_uri": "https://localhost:8080/"
        },
        "id": "w9Aw6YzYsQng",
        "outputId": "d225188a-768c-41e8-ff82-30a546db4717"
      },
      "execution_count": 17,
      "outputs": [
        {
          "output_type": "stream",
          "name": "stdout",
          "text": [
            "Enter city :Tampa\n",
            "Enter number of days :5\n",
            "Total cost of trip  is $ 1100\n"
          ]
        }
      ]
    },
    {
      "cell_type": "code",
      "source": [],
      "metadata": {
        "id": "YXrSmytZqkr1"
      },
      "execution_count": null,
      "outputs": []
    }
  ]
}