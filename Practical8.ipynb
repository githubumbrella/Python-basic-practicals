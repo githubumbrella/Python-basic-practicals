{
  "nbformat": 4,
  "nbformat_minor": 0,
  "metadata": {
    "colab": {
      "provenance": []
    },
    "kernelspec": {
      "name": "python3",
      "display_name": "Python 3"
    },
    "language_info": {
      "name": "python"
    }
  },
  "cells": [
    {
      "cell_type": "markdown",
      "source": [
        "Python Programming Lab"
      ],
      "metadata": {
        "id": "oFKuqx1a8cOm"
      }
    },
    {
      "cell_type": "markdown",
      "source": [
        "PRACTICAL No. 8"
      ],
      "metadata": {
        "id": "65clSQ4u8jxU"
      }
    },
    {
      "cell_type": "markdown",
      "source": [
        "Write a program to visualize Company Sales Data &amp; perform the following task"
      ],
      "metadata": {
        "id": "-5qySvD68nYM"
      }
    },
    {
      "cell_type": "markdown",
      "source": [
        "1. Get total profit of all months and show line plot with the following Style properties.\n",
        "\n",
        "Generated line plot must include following Style properties: –\n",
        "\n",
        " Line Style dotted and Line-color should be red\n",
        "\n",
        " Show legend at the lower right location.\n",
        "\n",
        " X label name = Month Number\n",
        "\n",
        " Y label name = Sold units number\n",
        "\n",
        " Add a circle marker.\n",
        "\n",
        " Line marker color as red\n",
        "\n",
        " Line width should be 3"
      ],
      "metadata": {
        "id": "-tAAYr778r_k"
      }
    },
    {
      "cell_type": "code",
      "source": [
        "import pandas as pd\n",
        "import numpy as np\n",
        "import matplotlib.pyplot as plt\n",
        "import seaborn as sns"
      ],
      "metadata": {
        "id": "wlgrUHDx8t1t"
      },
      "execution_count": 1,
      "outputs": []
    },
    {
      "cell_type": "code",
      "source": [
        "datafile=\"company_sales_data.csv\""
      ],
      "metadata": {
        "id": "QaMASpGf-u1E"
      },
      "execution_count": 2,
      "outputs": []
    },
    {
      "cell_type": "code",
      "source": [
        "dataset=pd.read_csv(datafile)\n",
        "dataset"
      ],
      "metadata": {
        "colab": {
          "base_uri": "https://localhost:8080/",
          "height": 490
        },
        "id": "IP_BsAM5-vG0",
        "outputId": "3ce9a0b9-b973-460a-d649-23a22666c1c7"
      },
      "execution_count": 3,
      "outputs": [
        {
          "output_type": "execute_result",
          "data": {
            "text/plain": [
              "    month_number  facecream  facewash  toothpaste  bathingsoap  shampoo  \\\n",
              "0              1       2500      1500        5200         9200     1200   \n",
              "1              2       2630      1200        5100         6100     2100   \n",
              "2              3       2140      1340        4550         9550     3550   \n",
              "3              4       3400      1130        5870         8870     1870   \n",
              "4              5       3600      1740        4560         7760     1560   \n",
              "5              6       2760      1555        4890         7490     1890   \n",
              "6              7       2980      1120        4780         8980     1780   \n",
              "7              8       3700      1400        5860         9960     2860   \n",
              "8              9       3540      1780        6100         8100     2100   \n",
              "9             10       1990      1890        8300        10300     2300   \n",
              "10            11       2340      2100        7300        13300     2400   \n",
              "11            12       2900      1760        7400        14400     1800   \n",
              "\n",
              "    moisturizer  total_units  total_profit  \n",
              "0          1500        21100        211000  \n",
              "1          1200        18330        183300  \n",
              "2          1340        22470        224700  \n",
              "3          1130        22270        222700  \n",
              "4          1740        20960        209600  \n",
              "5          1555        20140        201400  \n",
              "6          1120        29550        295500  \n",
              "7          1400        36140        361400  \n",
              "8          1780        23400        234000  \n",
              "9          1890        26670        266700  \n",
              "10         2100        41280        412800  \n",
              "11         1760        30020        300200  "
            ],
            "text/html": [
              "\n",
              "  <div id=\"df-db70e89f-a5b7-40fd-be99-a7e31e4259d3\">\n",
              "    <div class=\"colab-df-container\">\n",
              "      <div>\n",
              "<style scoped>\n",
              "    .dataframe tbody tr th:only-of-type {\n",
              "        vertical-align: middle;\n",
              "    }\n",
              "\n",
              "    .dataframe tbody tr th {\n",
              "        vertical-align: top;\n",
              "    }\n",
              "\n",
              "    .dataframe thead th {\n",
              "        text-align: right;\n",
              "    }\n",
              "</style>\n",
              "<table border=\"1\" class=\"dataframe\">\n",
              "  <thead>\n",
              "    <tr style=\"text-align: right;\">\n",
              "      <th></th>\n",
              "      <th>month_number</th>\n",
              "      <th>facecream</th>\n",
              "      <th>facewash</th>\n",
              "      <th>toothpaste</th>\n",
              "      <th>bathingsoap</th>\n",
              "      <th>shampoo</th>\n",
              "      <th>moisturizer</th>\n",
              "      <th>total_units</th>\n",
              "      <th>total_profit</th>\n",
              "    </tr>\n",
              "  </thead>\n",
              "  <tbody>\n",
              "    <tr>\n",
              "      <th>0</th>\n",
              "      <td>1</td>\n",
              "      <td>2500</td>\n",
              "      <td>1500</td>\n",
              "      <td>5200</td>\n",
              "      <td>9200</td>\n",
              "      <td>1200</td>\n",
              "      <td>1500</td>\n",
              "      <td>21100</td>\n",
              "      <td>211000</td>\n",
              "    </tr>\n",
              "    <tr>\n",
              "      <th>1</th>\n",
              "      <td>2</td>\n",
              "      <td>2630</td>\n",
              "      <td>1200</td>\n",
              "      <td>5100</td>\n",
              "      <td>6100</td>\n",
              "      <td>2100</td>\n",
              "      <td>1200</td>\n",
              "      <td>18330</td>\n",
              "      <td>183300</td>\n",
              "    </tr>\n",
              "    <tr>\n",
              "      <th>2</th>\n",
              "      <td>3</td>\n",
              "      <td>2140</td>\n",
              "      <td>1340</td>\n",
              "      <td>4550</td>\n",
              "      <td>9550</td>\n",
              "      <td>3550</td>\n",
              "      <td>1340</td>\n",
              "      <td>22470</td>\n",
              "      <td>224700</td>\n",
              "    </tr>\n",
              "    <tr>\n",
              "      <th>3</th>\n",
              "      <td>4</td>\n",
              "      <td>3400</td>\n",
              "      <td>1130</td>\n",
              "      <td>5870</td>\n",
              "      <td>8870</td>\n",
              "      <td>1870</td>\n",
              "      <td>1130</td>\n",
              "      <td>22270</td>\n",
              "      <td>222700</td>\n",
              "    </tr>\n",
              "    <tr>\n",
              "      <th>4</th>\n",
              "      <td>5</td>\n",
              "      <td>3600</td>\n",
              "      <td>1740</td>\n",
              "      <td>4560</td>\n",
              "      <td>7760</td>\n",
              "      <td>1560</td>\n",
              "      <td>1740</td>\n",
              "      <td>20960</td>\n",
              "      <td>209600</td>\n",
              "    </tr>\n",
              "    <tr>\n",
              "      <th>5</th>\n",
              "      <td>6</td>\n",
              "      <td>2760</td>\n",
              "      <td>1555</td>\n",
              "      <td>4890</td>\n",
              "      <td>7490</td>\n",
              "      <td>1890</td>\n",
              "      <td>1555</td>\n",
              "      <td>20140</td>\n",
              "      <td>201400</td>\n",
              "    </tr>\n",
              "    <tr>\n",
              "      <th>6</th>\n",
              "      <td>7</td>\n",
              "      <td>2980</td>\n",
              "      <td>1120</td>\n",
              "      <td>4780</td>\n",
              "      <td>8980</td>\n",
              "      <td>1780</td>\n",
              "      <td>1120</td>\n",
              "      <td>29550</td>\n",
              "      <td>295500</td>\n",
              "    </tr>\n",
              "    <tr>\n",
              "      <th>7</th>\n",
              "      <td>8</td>\n",
              "      <td>3700</td>\n",
              "      <td>1400</td>\n",
              "      <td>5860</td>\n",
              "      <td>9960</td>\n",
              "      <td>2860</td>\n",
              "      <td>1400</td>\n",
              "      <td>36140</td>\n",
              "      <td>361400</td>\n",
              "    </tr>\n",
              "    <tr>\n",
              "      <th>8</th>\n",
              "      <td>9</td>\n",
              "      <td>3540</td>\n",
              "      <td>1780</td>\n",
              "      <td>6100</td>\n",
              "      <td>8100</td>\n",
              "      <td>2100</td>\n",
              "      <td>1780</td>\n",
              "      <td>23400</td>\n",
              "      <td>234000</td>\n",
              "    </tr>\n",
              "    <tr>\n",
              "      <th>9</th>\n",
              "      <td>10</td>\n",
              "      <td>1990</td>\n",
              "      <td>1890</td>\n",
              "      <td>8300</td>\n",
              "      <td>10300</td>\n",
              "      <td>2300</td>\n",
              "      <td>1890</td>\n",
              "      <td>26670</td>\n",
              "      <td>266700</td>\n",
              "    </tr>\n",
              "    <tr>\n",
              "      <th>10</th>\n",
              "      <td>11</td>\n",
              "      <td>2340</td>\n",
              "      <td>2100</td>\n",
              "      <td>7300</td>\n",
              "      <td>13300</td>\n",
              "      <td>2400</td>\n",
              "      <td>2100</td>\n",
              "      <td>41280</td>\n",
              "      <td>412800</td>\n",
              "    </tr>\n",
              "    <tr>\n",
              "      <th>11</th>\n",
              "      <td>12</td>\n",
              "      <td>2900</td>\n",
              "      <td>1760</td>\n",
              "      <td>7400</td>\n",
              "      <td>14400</td>\n",
              "      <td>1800</td>\n",
              "      <td>1760</td>\n",
              "      <td>30020</td>\n",
              "      <td>300200</td>\n",
              "    </tr>\n",
              "  </tbody>\n",
              "</table>\n",
              "</div>\n",
              "      <button class=\"colab-df-convert\" onclick=\"convertToInteractive('df-db70e89f-a5b7-40fd-be99-a7e31e4259d3')\"\n",
              "              title=\"Convert this dataframe to an interactive table.\"\n",
              "              style=\"display:none;\">\n",
              "        \n",
              "  <svg xmlns=\"http://www.w3.org/2000/svg\" height=\"24px\"viewBox=\"0 0 24 24\"\n",
              "       width=\"24px\">\n",
              "    <path d=\"M0 0h24v24H0V0z\" fill=\"none\"/>\n",
              "    <path d=\"M18.56 5.44l.94 2.06.94-2.06 2.06-.94-2.06-.94-.94-2.06-.94 2.06-2.06.94zm-11 1L8.5 8.5l.94-2.06 2.06-.94-2.06-.94L8.5 2.5l-.94 2.06-2.06.94zm10 10l.94 2.06.94-2.06 2.06-.94-2.06-.94-.94-2.06-.94 2.06-2.06.94z\"/><path d=\"M17.41 7.96l-1.37-1.37c-.4-.4-.92-.59-1.43-.59-.52 0-1.04.2-1.43.59L10.3 9.45l-7.72 7.72c-.78.78-.78 2.05 0 2.83L4 21.41c.39.39.9.59 1.41.59.51 0 1.02-.2 1.41-.59l7.78-7.78 2.81-2.81c.8-.78.8-2.07 0-2.86zM5.41 20L4 18.59l7.72-7.72 1.47 1.35L5.41 20z\"/>\n",
              "  </svg>\n",
              "      </button>\n",
              "      \n",
              "  <style>\n",
              "    .colab-df-container {\n",
              "      display:flex;\n",
              "      flex-wrap:wrap;\n",
              "      gap: 12px;\n",
              "    }\n",
              "\n",
              "    .colab-df-convert {\n",
              "      background-color: #E8F0FE;\n",
              "      border: none;\n",
              "      border-radius: 50%;\n",
              "      cursor: pointer;\n",
              "      display: none;\n",
              "      fill: #1967D2;\n",
              "      height: 32px;\n",
              "      padding: 0 0 0 0;\n",
              "      width: 32px;\n",
              "    }\n",
              "\n",
              "    .colab-df-convert:hover {\n",
              "      background-color: #E2EBFA;\n",
              "      box-shadow: 0px 1px 2px rgba(60, 64, 67, 0.3), 0px 1px 3px 1px rgba(60, 64, 67, 0.15);\n",
              "      fill: #174EA6;\n",
              "    }\n",
              "\n",
              "    [theme=dark] .colab-df-convert {\n",
              "      background-color: #3B4455;\n",
              "      fill: #D2E3FC;\n",
              "    }\n",
              "\n",
              "    [theme=dark] .colab-df-convert:hover {\n",
              "      background-color: #434B5C;\n",
              "      box-shadow: 0px 1px 3px 1px rgba(0, 0, 0, 0.15);\n",
              "      filter: drop-shadow(0px 1px 2px rgba(0, 0, 0, 0.3));\n",
              "      fill: #FFFFFF;\n",
              "    }\n",
              "  </style>\n",
              "\n",
              "      <script>\n",
              "        const buttonEl =\n",
              "          document.querySelector('#df-db70e89f-a5b7-40fd-be99-a7e31e4259d3 button.colab-df-convert');\n",
              "        buttonEl.style.display =\n",
              "          google.colab.kernel.accessAllowed ? 'block' : 'none';\n",
              "\n",
              "        async function convertToInteractive(key) {\n",
              "          const element = document.querySelector('#df-db70e89f-a5b7-40fd-be99-a7e31e4259d3');\n",
              "          const dataTable =\n",
              "            await google.colab.kernel.invokeFunction('convertToInteractive',\n",
              "                                                     [key], {});\n",
              "          if (!dataTable) return;\n",
              "\n",
              "          const docLinkHtml = 'Like what you see? Visit the ' +\n",
              "            '<a target=\"_blank\" href=https://colab.research.google.com/notebooks/data_table.ipynb>data table notebook</a>'\n",
              "            + ' to learn more about interactive tables.';\n",
              "          element.innerHTML = '';\n",
              "          dataTable['output_type'] = 'display_data';\n",
              "          await google.colab.output.renderOutput(dataTable, element);\n",
              "          const docLink = document.createElement('div');\n",
              "          docLink.innerHTML = docLinkHtml;\n",
              "          element.appendChild(docLink);\n",
              "        }\n",
              "      </script>\n",
              "    </div>\n",
              "  </div>\n",
              "  "
            ]
          },
          "metadata": {},
          "execution_count": 3
        }
      ]
    },
    {
      "cell_type": "code",
      "source": [
        "df=pd.DataFrame(dataset)"
      ],
      "metadata": {
        "id": "KCaE_urtBCyP"
      },
      "execution_count": 9,
      "outputs": []
    },
    {
      "cell_type": "code",
      "source": [
        "x=np.array(df.month_number)\n",
        "y=np.array(df.total_profit)\n",
        "plt.plot(x,y,linestyle=\"dotted\",marker='o',color='r',linewidth='3')\n",
        "plt.xlabel(\"Month Number\")\n",
        "plt.ylabel(\"Solid Units Number\")\n",
        "plt.legend(['profit graph'],loc='lower right')"
      ],
      "metadata": {
        "colab": {
          "base_uri": "https://localhost:8080/",
          "height": 296
        },
        "id": "F0xcNdV1-vd0",
        "outputId": "ef65dace-45a6-472a-c9a3-1a3cde6e8cd0"
      },
      "execution_count": 16,
      "outputs": [
        {
          "output_type": "execute_result",
          "data": {
            "text/plain": [
              "<matplotlib.legend.Legend at 0x7f6d1a9ec760>"
            ]
          },
          "metadata": {},
          "execution_count": 16
        },
        {
          "output_type": "display_data",
          "data": {
            "text/plain": [
              "<Figure size 432x288 with 1 Axes>"
            ],
            "image/png": "[encoded data removed]"
          },
          "metadata": {
            "needs_background": "light"
          }
        }
      ]
    },
    {
      "cell_type": "markdown",
      "source": [
        "2. Read all product sales data and show it using a multiline plot\n",
        "Display the number of units sold per month for each product using multiline plots. (i.e.,\n",
        "Separate Plotline for each product)."
      ],
      "metadata": {
        "id": "mT44zHML8zzL"
      }
    },
    {
      "cell_type": "code",
      "source": [
        "x=np.array(df.month_number)\n",
        "y1=np.array(df.facecream)\n",
        "y2=np.array(df.facewash)\n",
        "y3=np.array(df.toothpaste)\n",
        "y4=np.array(df.bathingsoap)\n",
        "y5=np.array(df.shampoo)\n",
        "y6=np.array(df.moisturizer)\n",
        "plt.plot(x,y1,color='red')\n",
        "plt.plot(x,y2,color='pink')\n",
        "plt.plot(x,y3,color='green')\n",
        "plt.plot(x,y4,color='purple')\n",
        "plt.plot(x,y5,color='blue')\n",
        "plt.plot(x,y6,color='black')\n",
        "plt.xlabel(\"Month Number\")\n",
        "plt.ylabel(\"Product Sales\")"
      ],
      "metadata": {
        "colab": {
          "base_uri": "https://localhost:8080/",
          "height": 296
        },
        "id": "YVDDMI2X83Or",
        "outputId": "cf61f708-da19-48d3-f148-93e03e31de90"
      },
      "execution_count": 53,
      "outputs": [
        {
          "output_type": "execute_result",
          "data": {
            "text/plain": [
              "Text(0, 0.5, 'Product Sales')"
            ]
          },
          "metadata": {},
          "execution_count": 53
        },
        {
          "output_type": "display_data",
          "data": {
            "text/plain": [
              "<Figure size 432x288 with 1 Axes>"
            ],
            "image/png": "[encoded data removed]"
          },
          "metadata": {
            "needs_background": "light"
          }
        }
      ]
    },
    {
      "cell_type": "markdown",
      "source": [
        "3. Read toothpaste sales data of each month and show it using a scatter plot."
      ],
      "metadata": {
        "id": "xxssJ3VT84Gk"
      }
    },
    {
      "cell_type": "code",
      "source": [
        "x=np.array(df.month_number)\n",
        "y=np.array(df.toothpaste)\n",
        "plt.scatter(x,y)\n",
        "plt.xlabel(\"Month Number\")\n",
        "plt.ylabel(\"Toothapaste Sales\")"
      ],
      "metadata": {
        "colab": {
          "base_uri": "https://localhost:8080/",
          "height": 296
        },
        "id": "5Ag9QtUZ86Kz",
        "outputId": "de335ce3-69e6-4d5a-be96-69c4bd51207a"
      },
      "execution_count": 33,
      "outputs": [
        {
          "output_type": "execute_result",
          "data": {
            "text/plain": [
              "Text(0, 0.5, 'Toothapaste Sales')"
            ]
          },
          "metadata": {},
          "execution_count": 33
        },
        {
          "output_type": "display_data",
          "data": {
            "text/plain": [
              "<Figure size 432x288 with 1 Axes>"
            ],
            "image/png": "[encoded data removed]"
          },
          "metadata": {
            "needs_background": "light"
          }
        }
      ]
    },
    {
      "cell_type": "markdown",
      "source": [
        "4. Read face cream and facewash product sales data and show it using the bar chart."
      ],
      "metadata": {
        "id": "p13oK-r_86qj"
      }
    },
    {
      "cell_type": "code",
      "source": [
        "x1=np.array(df.month_number)\n",
        "y1=np.array(df.facecream)\n",
        "plt.bar(x1,y1)\n"
      ],
      "metadata": {
        "colab": {
          "base_uri": "https://localhost:8080/",
          "height": 282
        },
        "id": "g-xM9Y4e88vj",
        "outputId": "3f6bcf8c-8417-4417-df6a-ae8242d57b5b"
      },
      "execution_count": 48,
      "outputs": [
        {
          "output_type": "execute_result",
          "data": {
            "text/plain": [
              "<BarContainer object of 12 artists>"
            ]
          },
          "metadata": {},
          "execution_count": 48
        },
        {
          "output_type": "display_data",
          "data": {
            "text/plain": [
              "<Figure size 432x288 with 1 Axes>"
            ],
            "image/png": "[encoded data removed]"
          },
          "metadata": {
            "needs_background": "light"
          }
        }
      ]
    },
    {
      "cell_type": "code",
      "source": [
        "x2=np.array(df.month_number)\n",
        "y2=np.array(df.facewash)\n",
        "plt.bar(x2,y2)"
      ],
      "metadata": {
        "colab": {
          "base_uri": "https://localhost:8080/",
          "height": 282
        },
        "id": "k2oJLEqzNn5A",
        "outputId": "930ebb7f-bd31-4cb2-8935-3b8bc8338fc9"
      },
      "execution_count": 47,
      "outputs": [
        {
          "output_type": "execute_result",
          "data": {
            "text/plain": [
              "<BarContainer object of 12 artists>"
            ]
          },
          "metadata": {},
          "execution_count": 47
        },
        {
          "output_type": "display_data",
          "data": {
            "text/plain": [
              "<Figure size 432x288 with 1 Axes>"
            ],
            "image/png": "[encoded data removed]"
          },
          "metadata": {
            "needs_background": "light"
          }
        }
      ]
    },
    {
      "cell_type": "markdown",
      "source": [
        "5. Read sales data of bathing soap of all months and show it using a bar chart. Save this plot\n",
        "to your hard disk"
      ],
      "metadata": {
        "id": "axaIYVHc89KL"
      }
    },
    {
      "cell_type": "code",
      "source": [
        "x=np.array(df.month_number)\n",
        "y=np.array(df.bathingsoap)\n",
        "plt.bar(x,y)\n",
        "plt.xlabel(\"Month Number\")\n",
        "plt.ylabel(\"Bathing Soap Sales\")\n",
        "plt.savefig('abc.jpg')"
      ],
      "metadata": {
        "colab": {
          "base_uri": "https://localhost:8080/",
          "height": 279
        },
        "id": "ExgNHIBQ9ACb",
        "outputId": "aeba9bb8-115e-48e8-c92f-b033228852f4"
      },
      "execution_count": 52,
      "outputs": [
        {
          "output_type": "display_data",
          "data": {
            "text/plain": [
              "<Figure size 432x288 with 1 Axes>"
            ],
            "image/png": "[encoded data removed]"
          },
          "metadata": {
            "needs_background": "light"
          }
        }
      ]
    },
    {
      "cell_type": "markdown",
      "source": [
        "6. Read the total profit of each month and show it using the histogram to see the most common profit ranges"
      ],
      "metadata": {
        "id": "Q_u1c1nK9CTL"
      }
    },
    {
      "cell_type": "code",
      "source": [
        "x=np.array(df.total_profit)\n",
        "plt.hist(x)\n"
      ],
      "metadata": {
        "colab": {
          "base_uri": "https://localhost:8080/",
          "height": 334
        },
        "id": "Qc14kmp79SEs",
        "outputId": "66f43a38-ef6e-4a38-d4b6-6653d98da203"
      },
      "execution_count": 21,
      "outputs": [
        {
          "output_type": "execute_result",
          "data": {
            "text/plain": [
              "(array([2., 4., 1., 1., 1., 1., 0., 1., 0., 1.]),\n",
              " array([183300., 206250., 229200., 252150., 275100., 298050., 321000.,\n",
              "        343950., 366900., 389850., 412800.]),\n",
              " <a list of 10 Patch objects>)"
            ]
          },
          "metadata": {},
          "execution_count": 21
        },
        {
          "output_type": "display_data",
          "data": {
            "text/plain": [
              "<Figure size 432x288 with 1 Axes>"
            ],
            "image/png": "[encoded data removed]"
          },
          "metadata": {
            "needs_background": "light"
          }
        }
      ]
    },
    {
      "cell_type": "markdown",
      "source": [
        "7. Calculate total sale data for last year for each product and show it using a Pie chart."
      ],
      "metadata": {
        "id": "69Q-f0e99EFT"
      }
    },
    {
      "cell_type": "code",
      "source": [
        "x=np.array([df['facecream'].sum(),df['facewash'].sum(),df['toothpaste'].sum(),df['bathingsoap'].sum(),df['moisturizer'].sum(),df['shampoo'].sum()])\n",
        "mylabels=[\"Face cream\",\"Face wash\",\"Toothpaste\",\"Bathing soap\",\"Moisturizer\",\"Shampoo\"]\n",
        "plt.pie(x, labels = mylabels)\n"
      ],
      "metadata": {
        "colab": {
          "base_uri": "https://localhost:8080/",
          "height": 456
        },
        "id": "XRU12k1D9Hg0",
        "outputId": "a0f466f0-1a71-42b1-f682-7d061a718e17"
      },
      "execution_count": 51,
      "outputs": [
        {
          "output_type": "execute_result",
          "data": {
            "text/plain": [
              "([<matplotlib.patches.Wedge at 0x7f6d189247c0>,\n",
              "  <matplotlib.patches.Wedge at 0x7f6d18924d00>,\n",
              "  <matplotlib.patches.Wedge at 0x7f6d189244f0>,\n",
              "  <matplotlib.patches.Wedge at 0x7f6d18881af0>,\n",
              "  <matplotlib.patches.Wedge at 0x7f6d188ecaf0>,\n",
              "  <matplotlib.patches.Wedge at 0x7f6d188ec1f0>],\n",
              " [Text(1.0191857113582774, 0.4138363030995739, 'Face cream'),\n",
              "  Text(0.6140655913722997, 0.912646398936953, 'Face wash'),\n",
              "  Text(-0.4252111998343268, 1.0144926986112084, 'Toothpaste'),\n",
              "  Text(-0.6978920809686103, -0.8502626907734472, 'Bathing soap'),\n",
              "  Text(0.7853933909714922, -0.7701670087833554, 'Moisturizer'),\n",
              "  Text(1.0558604387478188, -0.30847809304270474, 'Shampoo')])"
            ]
          },
          "metadata": {},
          "execution_count": 51
        },
        {
          "output_type": "display_data",
          "data": {
            "text/plain": [
              "<Figure size 432x288 with 1 Axes>"
            ],
            "image/png": "[encoded data removed]"
          },
          "metadata": {}
        }
      ]
    },
    {
      "cell_type": "markdown",
      "source": [
        "8. Read Bathing soap facewash of all months and display it using the Subplot"
      ],
      "metadata": {
        "id": "bzWcLsbG9L7M"
      }
    },
    {
      "cell_type": "code",
      "source": [
        "#plot 1\n",
        "x = np.array(df.month_number)\n",
        "y = np.array(df.facecream)\n",
        "\n",
        "plt.subplot(6, 1, 6) # (R,C,No.)\n",
        "plt.plot(x,y, color='r')\n",
        "plt.xlabel(\"Month number\")\n",
        "plt.ylabel(\"Face cream sales\")\n",
        "  #add a title to each plot with the title() function:\n",
        "\n",
        "\n",
        "#plot 2:\n",
        "x = np.array(df.month_number)\n",
        "y = np.array(df.facewash)\n",
        "plt.subplot(6, 1, 5)\n",
        "plt.plot(x,y,color='green')\n",
        "plt.xlabel(\"Month number\")\n",
        "plt.ylabel(\"Face wash sales\")\n",
        "\n",
        "\n",
        "#You can add a title to the entire figure with the suptitle() function:\n",
        "\n",
        "#plot 3:\n",
        "x = np.array(df.month_number)\n",
        "y = np.array(df.toothpaste)\n",
        "plt.subplot(6, 1, 4)\n",
        "plt.plot(x,y, color='black')\n",
        "plt.xlabel(\"Month number\")\n",
        "plt.ylabel(\"Toothpaste sales\")\n",
        "\n",
        "#plot 4:\n",
        "x = np.array(df.month_number)\n",
        "y = np.array(df.bathingsoap)\n",
        "plt.subplot(6, 1, 3)\n",
        "plt.plot(x,y, color='blue')\n",
        "plt.xlabel(\"Month number\")\n",
        "plt.ylabel(\"Bathing soap sales\")\n",
        "\n",
        "#plot 5:\n",
        "x = np.array(df.month_number)\n",
        "y = np.array(df.shampoo)\n",
        "plt.subplot(6, 1, 2)\n",
        "plt.plot(x,y, color='red')\n",
        "plt.xlabel(\"Month number\")\n",
        "plt.ylabel(\"Shampoo sales\")\n",
        "\n",
        "#plot 6:\n",
        "x = np.array(df.month_number)\n",
        "y = np.array(df.moisturizer)\n",
        "plt.subplot(6, 1, 1)\n",
        "plt.plot(x,y, color='pink')\n",
        "plt.xlabel(\"Month number\")\n",
        "plt.ylabel(\"Moisturizer sales\")\n",
        "\n",
        "\n"
      ],
      "metadata": {
        "colab": {
          "base_uri": "https://localhost:8080/",
          "height": 323
        },
        "id": "i7INJa4K9QLs",
        "outputId": "5169d384-340c-4f0d-cd72-131f9a30b246"
      },
      "execution_count": 55,
      "outputs": [
        {
          "output_type": "execute_result",
          "data": {
            "text/plain": [
              "Text(0, 0.5, 'Moisturizer sales')"
            ]
          },
          "metadata": {},
          "execution_count": 55
        },
        {
          "output_type": "display_data",
          "data": {
            "text/plain": [
              "<Figure size 432x288 with 6 Axes>"
            ],
            "image/png": "[encoded data removed]"
          },
          "metadata": {
            "needs_background": "light"
          }
        }
      ]
    },
    {
      "cell_type": "code",
      "source": [],
      "metadata": {
        "id": "VvsDdd-sRdNq"
      },
      "execution_count": null,
      "outputs": []
    }
  ]
}