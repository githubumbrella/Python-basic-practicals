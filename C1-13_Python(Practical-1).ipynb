{
 "cells": [
  {
   "cell_type": "markdown",
   "id": "842c1f06",
   "metadata": {},
   "source": [
    "## Python Programming Lab [CCP202]\n",
    "## Practical no. 1\n"
   ]
  },
  {
   "cell_type": "markdown",
   "id": "80b4c2d4",
   "metadata": {},
   "source": [
    "## Aim: 1)Write a program to calculate Euclidean distance between two points A(x1,y1) and B(x2,y2)\n",
    "## AB = √[(x2-x1)2+(y2-y1)2]"
   ]
  },
  {
   "cell_type": "code",
   "execution_count": 4,
   "id": "47197e5c",
   "metadata": {},
   "outputs": [
    {
     "name": "stdout",
     "output_type": "stream",
     "text": [
      "Enter the value of x1: 5\n",
      "Enter the value of y1: 7\n",
      "Enter the value of x2: 2\n",
      "Enter the value of y2: 9\n",
      "Euclidean distance= 3.605551275463989\n"
     ]
    }
   ],
   "source": [
    "import math\n",
    "x1=int(input('Enter the value of x1: '))\n",
    "y1=int(input('Enter the value of y1: '))\n",
    "x2=int(input('Enter the value of x2: '))\n",
    "y2=int(input('Enter the value of y2: '))\n",
    "distance=math.sqrt((x2-x1)**2+(y2-y1)**2)\n",
    "print('Euclidean distance=',distance)\n"
   ]
  },
  {
   "cell_type": "markdown",
   "id": "b48ea936",
   "metadata": {},
   "source": [
    "## Aim: 2)Write a python program to generate a bill of grocery store. Accept from user: name of item, quantity,cost for three items. Compute the actual cost payable by applying discount(in %) and tax(in %). Print the bill in following format."
   ]
  },
  {
   "cell_type": "code",
   "execution_count": 5,
   "id": "456c584c",
   "metadata": {},
   "outputs": [
    {
     "name": "stdout",
     "output_type": "stream",
     "text": [
      "Enter the name of item-1: pen\n",
      "Enter the quantity of item-1: 20\n",
      "Enter the cost of item-1: 45\n",
      "Enter the name of item-2: Whitener\n",
      "Enter the quantity of item-2: 5\n",
      "Enter the cost of item-2: 25\n",
      "Enter the name of item-3: Refill\n",
      "Enter the quantity of item-3: 30\n",
      "Enter the cost of item-3: 20\n"
     ]
    }
   ],
   "source": [
    "name1=input('Enter the name of item-1: ')\n",
    "quant1=int(input('Enter the quantity of item-1: '))\n",
    "cost1=float(input('Enter the cost of item-1: '))\n",
    "name2=input('Enter the name of item-2: ')\n",
    "quant2=int(input('Enter the quantity of item-2: '))\n",
    "cost2=float(input('Enter the cost of item-2: '))\n",
    "name3=input('Enter the name of item-3: ')\n",
    "quant3=int(input('Enter the quantity of item-3: '))\n",
    "cost3=float(input('Enter the cost of item-3: '))"
   ]
  },
  {
   "cell_type": "code",
   "execution_count": 48,
   "id": "fb6752c7",
   "metadata": {},
   "outputs": [],
   "source": [
    "total=quant1*cost1+quant2*cost2+quant3*cost3\n",
    "discount=12\n",
    "tax=5\n",
    "pay=total+(tax*total)/100-(discount*total)/100"
   ]
  },
  {
   "cell_type": "code",
   "execution_count": 64,
   "id": "b2aa8846",
   "metadata": {},
   "outputs": [
    {
     "name": "stdout",
     "output_type": "stream",
     "text": [
      "*************BILL*************\n",
      "Item name   Quantity    Price\n",
      "pen           20         45.0\n",
      "Whitener       5         25.0\n",
      "Refill        30         20.0\n",
      "******************************\n",
      "TOTAL                  1625.0\n",
      "******************************\n",
      "DISCOUNT                12 %\n",
      "TAX                      5 %\n",
      "******************************\n",
      "Payable amount        1511.25\n",
      "******************************\n"
     ]
    }
   ],
   "source": [
    "print('*************BILL*************')\n",
    "print('Item name',' ','Quantity','  ','Price')\n",
    "print(name1,'         ',quant1,'       ',cost1)\n",
    "print(name2,'     ',quant2,'       ',cost2)\n",
    "print(name3,'      ',quant3,'       ',cost3)\n",
    "print('******************************')\n",
    "print('TOTAL','                ',total)\n",
    "print('******************************')\n",
    "print('DISCOUNT','              ',discount,'%')\n",
    "print('TAX','                    ',tax,'%')\n",
    "print('******************************')\n",
    "print('Payable amount','      ',pay)\n",
    "print('******************************')"
   ]
  },
  {
   "cell_type": "code",
   "execution_count": null,
   "id": "5abc920f",
   "metadata": {},
   "outputs": [],
   "source": []
  }
 ],
 "metadata": {
  "kernelspec": {
   "display_name": "Python 3 (ipykernel)",
   "language": "python",
   "name": "python3"
  },
  "language_info": {
   "codemirror_mode": {
    "name": "ipython",
    "version": 3
   },
   "file_extension": ".py",
   "mimetype": "text/x-python",
   "name": "python",
   "nbconvert_exporter": "python",
   "pygments_lexer": "ipython3",
   "version": "3.9.13"
  }
 },
 "nbformat": 4,
 "nbformat_minor": 5
}
