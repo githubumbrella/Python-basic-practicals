{
 "cells": [
  {
   "cell_type": "markdown",
   "metadata": {
    "id": "XQMrYCM0pjnI"
   },
   "source": [
    "## Name: Saloni Vishwakarma\n",
    "## roll no.: 13\n",
    "## batch: C1"
   ]
  },
  {
   "cell_type": "markdown",
   "metadata": {
    "id": "-WKU1tlEqckg"
   },
   "source": [
    "1.Write a program that reads a file and performs the following tasks:\n",
    "\n",
    "2.Count and display the term frequencies of all the words [exclude stop words like- the, a, and] and find the keyword for the document & write the output in a separate file.\n",
    "\n",
    "3.Now read the file created in a). .Your program should convert all the input to lowercase  & display the updated count.\n",
    "\n"
   ]
  },
  {
   "cell_type": "code",
   "execution_count": 4,
   "metadata": {
    "colab": {
     "base_uri": "https://localhost:8080/"
    },
    "id": "zFb29SF7rs6G",
    "outputId": "6891fb2d-76ed-47f1-d1e2-9cc42d7b71b0"
   },
   "outputs": [
    {
     "name": "stdout",
     "output_type": "stream",
     "text": [
      "The : 1\n",
      "drama : 1\n",
      "Train : 1\n",
      "To : 1\n",
      "Busan : 1\n",
      "empathized : 1\n",
      "on : 1\n",
      "morality,behaviour,kindness : 1\n",
      "humanity : 1\n",
      "offered : 1\n",
      "in : 1\n",
      "this : 1\n",
      "world : 1\n",
      "instead : 1\n",
      "of : 1\n",
      "focussing : 1\n",
      "zombie : 1\n",
      "apocalypse. : 1\n",
      "in is a keyword\n"
     ]
    },
    {
     "data": {
      "text/plain": [
       "246"
      ]
     },
     "execution_count": 4,
     "metadata": {},
     "output_type": "execute_result"
    }
   ],
   "source": [
    "#a\n",
    "import keyword \n",
    "keys = keyword.kwlist \n",
    "\n",
    "f1=open(\"sample.txt\",\"r\")\n",
    "content=f1.read()\n",
    "content2=content.split(' ')\n",
    "\n",
    "stopword=[\"the\",\"a\",\"and\"]\n",
    "newtext=[x for x in content2 if x not in stopword]\n",
    "' '.join(newtext)\n",
    "d=dict()\n",
    "for i in newtext:\n",
    "  words=i.split(\" \")\n",
    "  for word in words:\n",
    "    if word in d:\n",
    "      d[word]=d[word]+1\n",
    "    else:\n",
    "      d[word]=1\n",
    "for key in list(d.keys()):\n",
    "  print(key,\":\", d[key])\n",
    "\n",
    "\n",
    "for i in range (len(newtext)):\n",
    "  if keyword.iskeyword(newtext[i]):\n",
    "    print(newtext[i] + \" is a keyword\")\n",
    "\n",
    "\n",
    "f2=open(\"sam1.txt\",\"w\")\n",
    "f2.write(str(d))\n",
    "\n",
    "\n",
    "\n",
    "\n"
   ]
  },
  {
   "cell_type": "code",
   "execution_count": 7,
   "metadata": {
    "colab": {
     "base_uri": "https://localhost:8080/"
    },
    "id": "xMex99ewrtTM",
    "outputId": "c49fa5aa-dbf6-4c7e-fe82-0c7ba553b6ad"
   },
   "outputs": [
    {
     "name": "stdout",
     "output_type": "stream",
     "text": [
      "The : 1\n",
      "drama : 4\n",
      "Train : 1\n",
      "To : 1\n",
      "Busan : 1\n",
      "empathized : 4\n",
      "on : 4\n",
      "morality,behaviour,kindness : 4\n",
      "humanity : 4\n",
      "offered : 4\n",
      "in : 4\n",
      "this : 4\n",
      "world : 4\n",
      "instead : 4\n",
      "of : 4\n",
      "focussing : 4\n",
      "zombie : 4\n",
      "apocalypse. : 4\n",
      "the : 3\n",
      "train : 3\n",
      "to : 3\n",
      "busan : 3\n"
     ]
    }
   ],
   "source": [
    "#b\n",
    "for i in newtext:\n",
    "  \n",
    "  i=i.lower()\n",
    "  words=i.split(\" \")\n",
    "\n",
    "  \n",
    "\n",
    "  for word in words:\n",
    "    \n",
    "\n",
    "    if word in d:\n",
    "      d[word]=d[word]+1\n",
    "\n",
    "\n",
    "    else:\n",
    "      d[word]=1\n",
    "\n",
    "for key in list(d.keys()):\n",
    "  print(key,\":\", d[key])"
   ]
  },
  {
   "cell_type": "markdown",
   "metadata": {
    "id": "lhfvIOg0ruQc"
   },
   "source": [
    "Write a program to read through the mailbox data and when you find a line that starts with “From”, you will split the line into words using the split function. We are interested in who sent the message, which is the second word on the From line. \n",
    "Example: From stephen.marquard@uct.ac.za Sat Jan 5 09:14:16 2008 \n",
    "[Note: first create such file]\n",
    "You will parse the From line and print out the second word for each From line, then you will also count the number of From lines and print out a count at the end. \n"
   ]
  },
  {
   "cell_type": "code",
   "execution_count": null,
   "metadata": {
    "colab": {
     "base_uri": "https://localhost:8080/"
    },
    "id": "1eHRiAAerxZ6",
    "outputId": "d38dee56-b117-40bb-c7eb-c6653cf3aa24"
   },
   "outputs": [
    {
     "name": "stdout",
     "output_type": "stream",
     "text": [
      "the required address is: \n",
      "stephen.marquard@uct.ac.za\n",
      "the required address is: \n",
      "purva.gholse@gmail.com\n",
      "the required address is: \n",
      "abcd@gmail.com\n",
      "the required address is: \n",
      "pqrs@gmail.com\n",
      "the required address is: \n",
      "wxyz@gmail.com\n"
     ]
    }
   ],
   "source": [
    "with open(\"que.txt\",'r') as data_file:\n",
    "  \n",
    "    for line in data_file:\n",
    "        data = line.split()[1]\n",
    "        print(\"the required address is: \")\n",
    "        print(data)\n"
   ]
  },
  {
   "cell_type": "code",
   "execution_count": 8,
   "metadata": {
    "colab": {
     "base_uri": "https://localhost:8080/"
    },
    "id": "o8ulqEutrz4E",
    "outputId": "5e43727f-8b7b-4cb7-9a8f-d0a4f5a2a217"
   },
   "outputs": [
    {
     "name": "stdout",
     "output_type": "stream",
     "text": [
      "the count will be:  6\n"
     ]
    }
   ],
   "source": [
    "with open(\"que.txt\",'r') as data_file:\n",
    "  count=len(data_file.readlines())\n",
    "  print(\"the count will be: \",count)"
   ]
  },
  {
   "cell_type": "code",
   "execution_count": null,
   "metadata": {
    "id": "yWls2MI8rz7b"
   },
   "outputs": [],
   "source": []
  },
  {
   "cell_type": "markdown",
   "metadata": {
    "id": "xnMmQVy2r0Y0"
   },
   "source": [
    "Write a program using functions and file. The create_file function writes information to the file “food.txt”. The contents_of_file function takes the names of the food items as arguments and returns the information of the food item in a nicely formatted block. The file should have contents like- Name of the item, ingrediants, recepie, star, etc.  Further read the file and find all the items, create a list of itemname and display.\n"
   ]
  },
  {
   "cell_type": "code",
   "execution_count": 9,
   "metadata": {
    "colab": {
     "base_uri": "https://localhost:8080/"
    },
    "id": "y3lJ5OGkMABV",
    "outputId": "f7f113c2-7b09-44f4-d46e-394e7b7f6f69"
   },
   "outputs": [
    {
     "name": "stdout",
     "output_type": "stream",
     "text": [
      "enter the number of items: 4\n",
      "name of the item: Bhel\n",
      "ingredients: Murmure Chatni Pyaj Aaloo\n",
      "recepie: Mix every item well and \n",
      "star: 5\n",
      "name of the item: Cheese Corn Sandwich\n",
      "ingredients: cheese corn bread mayo \n",
      "recepie: Put corn-paste between the two bread slices\n",
      "star: 5\n",
      "name of the item: Softy\n",
      "ingredients: Icecream cone\n",
      "recepie: put the icecream on the top of the cone\n",
      "star: 5\n",
      "name of the item: Maggi\n",
      "ingredients: maggi maggi-masala salt water\n",
      "recepie: boil the noodles in water add the masala with a pinch of salt and after 2 min your maggi will be ready\n",
      "star: 5\n"
     ]
    }
   ],
   "source": [
    "f=open(\"hunger.txt\",\"w\")\n",
    "with open(\"hunger.txt\",\"w\") as f: \n",
    "  n=int(input(\"enter the number of items: \"))\n",
    "  for x in range (n): \n",
    "    a=str(input(\"name of the item: \"))\n",
    "    b=str(input(\"ingredients: \"))\n",
    "    c=str(input(\"recepie: \"))\n",
    "    d=str(input(\"star: \"))\n",
    "    new_line=\"\\n\"\n",
    "    f.write(\"item name\")\n",
    "    f.write(new_line)\n",
    "    f.write(a)\n",
    "    f.write(new_line)\n",
    "    f.write(\"ingredients \")\n",
    "    f.write(new_line)\n",
    "    f.write(b)\n",
    "    f.write(new_line)\n",
    "    f.write(\"recipie\")\n",
    "    f.write(new_line)\n",
    "    f.write(c)\n",
    "    f.write(new_line)\n",
    "    f.write(\"star\")\n",
    "    f.write(new_line)\n",
    "    f.write(d)    \n",
    "f.close()\n",
    " "
   ]
  },
  {
   "cell_type": "code",
   "execution_count": 10,
   "metadata": {
    "colab": {
     "base_uri": "https://localhost:8080/"
    },
    "id": "aiep8xJ744Ys",
    "outputId": "96801919-4098-4405-a399-298ff4257f09"
   },
   "outputs": [
    {
     "name": "stdout",
     "output_type": "stream",
     "text": [
      "item name\n",
      "Bhel\n",
      "ingredients \n",
      "Murmure Chatni Pyaj Aaloo\n",
      "recipie\n",
      "Mix every item well and \n",
      "star\n",
      "5item name\n",
      "Cheese Corn Sandwich\n",
      "ingredients \n",
      "cheese corn bread mayo \n",
      "recipie\n",
      "Put corn-paste between the two bread slices\n",
      "star\n",
      "5item name\n",
      "Softy\n",
      "ingredients \n",
      "Icecream cone\n",
      "recipie\n",
      "put the icecream on the top of the cone\n",
      "star\n",
      "5item name\n",
      "Maggi\n",
      "ingredients \n",
      "maggi maggi-masala salt water\n",
      "recipie\n",
      "boil the noodles in water add the masala with a pinch of salt and after 2 min your maggi will be ready\n",
      "star\n",
      "5\n"
     ]
    }
   ],
   "source": [
    "p=open(\"hunger.txt\",\"r\")\n",
    "print(p.read())"
   ]
  },
  {
   "cell_type": "code",
   "execution_count": null,
   "metadata": {
    "id": "f0mLxRLiCgvB"
   },
   "outputs": [],
   "source": []
  }
 ],
 "metadata": {
  "colab": {
   "provenance": []
  },
  "kernelspec": {
   "display_name": "Python 3 (ipykernel)",
   "language": "python",
   "name": "python3"
  },
  "language_info": {
   "codemirror_mode": {
    "name": "ipython",
    "version": 3
   },
   "file_extension": ".py",
   "mimetype": "text/x-python",
   "name": "python",
   "nbconvert_exporter": "python",
   "pygments_lexer": "ipython3",
   "version": "3.9.13"
  }
 },
 "nbformat": 4,
 "nbformat_minor": 1
}
