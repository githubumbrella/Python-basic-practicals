{
 "cells": [
  {
   "cell_type": "markdown",
   "metadata": {},
   "source": [
    "-Python dictionary is an unordered collection of items. \n",
    "-Each item of a dictionary has a key/value pair.\n",
    "-Dictionaries are optimized to retrieve values when the key is known.\n",
    "dict_name = {key_1:value1,\n",
    "\n",
    "             key_2:value2,\n",
    "\n",
    "             key_3:value3}\n",
    "-- An item has a key and a corresponding value that is expressed as a pair (key: value).\n",
    "\n",
    "-- While the values can be of any data type and can repeat, keys must be of immutable type (string, number or tuple with immutable elements) and must be unique."
   ]
  },
  {
   "cell_type": "code",
   "execution_count": 4,
   "metadata": {},
   "outputs": [
    {
     "name": "stdout",
     "output_type": "stream",
     "text": [
      "{1, 2, 3, 4}\n",
      "{}\n",
      "{1: 'apple', 2: 'ball', 5: 'banana'}\n",
      "{'name': 'abc', 1: [2, 4, 3]}\n",
      "{1: 'apple', 2: 'apple'}\n",
      "{1: 'apple', 2: 'ball'}\n"
     ]
    }
   ],
   "source": [
    "# An item has a key and a corresponding value that is expressed \n",
    "# as a pair (key: value)\n",
    "List= [1,2,3,4,2,3,4]\n",
    "print(set(List))\n",
    "\n",
    "# empty dictionary\n",
    "my_dict = {}  # [] tuple ()\n",
    "print(my_dict)\n",
    "\n",
    "# dictionary with integer keys\n",
    "my_dict = {1: 'apple', 2: 'ball',5: 'banana'}\n",
    "print(my_dict)\n",
    "\n",
    "# dictionary with mixed keys\n",
    "my_dict = {'name': 'abc', 1: [2, 4, 3]}\n",
    "print(my_dict)\n",
    "\n",
    "# using dict()\n",
    "my_dict = dict({1:'apple', 2:'ball', 2:'bat',2: 'apple'})\n",
    "print(my_dict)\n",
    "\n",
    "# from sequence having each item as a pair\n",
    "my_dict = dict([(1, 'apple'), (2, 'ball')])\n",
    "print(my_dict)"
   ]
  },
  {
   "cell_type": "code",
   "execution_count": 5,
   "metadata": {},
   "outputs": [
    {
     "name": "stdout",
     "output_type": "stream",
     "text": [
      "<class 'dict'>\n",
      "<class 'set'>\n"
     ]
    }
   ],
   "source": [
    "# Distinguish set and dictionary while creating empty set\n",
    "\n",
    "# initialize a with {}\n",
    "a = {}\n",
    "\n",
    "# check data type of a\n",
    "print(type(a))\n",
    "\n",
    "# initialize a with set()\n",
    "a = {1,2,3}\n",
    "\n",
    "# check data type of a\n",
    "print(type(a))"
   ]
  },
  {
   "cell_type": "code",
   "execution_count": null,
   "metadata": {},
   "outputs": [],
   "source": [
    "ACCESSING VALUES IN A DICTIONARY\n",
    "-- While indexing is used with other data types to access values, \n",
    "--a dictionary uses keys. Keys can be used either inside square \n",
    "brackets [] or with the get() method.\n",
    "-- If we use the square brackets [], KeyError is raised in case a \n",
    "key is not found in the dictionary. \n",
    "On the other hand, the get() method returns None if the key is not found."
   ]
  },
  {
   "cell_type": "code",
   "execution_count": 11,
   "metadata": {},
   "outputs": [
    {
     "name": "stdout",
     "output_type": "stream",
     "text": [
      "Ram\n",
      "26\n",
      "26\n",
      "Ramdeobaba\n",
      "Ramdeobaba\n"
     ]
    },
    {
     "ename": "KeyError",
     "evalue": "'accountnumber'",
     "output_type": "error",
     "traceback": [
      "\u001b[1;31m---------------------------------------------------------------------------\u001b[0m",
      "\u001b[1;31mKeyError\u001b[0m                                  Traceback (most recent call last)",
      "\u001b[1;32m<ipython-input-11-6a4f6f86040f>\u001b[0m in \u001b[0;36m<module>\u001b[1;34m\u001b[0m\n\u001b[0;32m     11\u001b[0m \u001b[0mprint\u001b[0m\u001b[1;33m(\u001b[0m\u001b[0mmy_dict\u001b[0m\u001b[1;33m[\u001b[0m\u001b[1;34m'address'\u001b[0m\u001b[1;33m]\u001b[0m\u001b[1;33m)\u001b[0m\u001b[1;33m\u001b[0m\u001b[1;33m\u001b[0m\u001b[0m\n\u001b[0;32m     12\u001b[0m \u001b[1;33m\u001b[0m\u001b[0m\n\u001b[1;32m---> 13\u001b[1;33m \u001b[0mprint\u001b[0m\u001b[1;33m(\u001b[0m\u001b[0mmy_dict\u001b[0m\u001b[1;33m[\u001b[0m\u001b[1;34m'accountnumber'\u001b[0m\u001b[1;33m]\u001b[0m\u001b[1;33m)\u001b[0m\u001b[1;33m\u001b[0m\u001b[1;33m\u001b[0m\u001b[0m\n\u001b[0m",
      "\u001b[1;31mKeyError\u001b[0m: 'accountnumber'"
     ]
    }
   ],
   "source": [
    "# Accessing Elements from Dictionary     get vs [] for retrieving elements\n",
    "my_dict = {'name': 'Ram', 'age': 26,'address':'Ramdeobaba'}\n",
    "my_dict1 = {1:78 , 2: 26, 3: 45, 4:65}\n",
    "print(my_dict['name'])\n",
    "print(my_dict['age'])\n",
    "print(my_dict.get('age'))\n",
    "\n",
    "# Trying to access keys which doesn't exist throws error\n",
    "print(my_dict.get('address'))\n",
    "\n",
    "print(my_dict['address'])\n",
    "\n",
    "print(my_dict['accountnumber'])"
   ]
  },
  {
   "cell_type": "code",
   "execution_count": 13,
   "metadata": {},
   "outputs": [
    {
     "name": "stdout",
     "output_type": "stream",
     "text": [
      "{'name': 'Ram', 'age': 26}\n",
      "{'name': 'Ram', 'age': 27}\n",
      "{'name': 'Ram', 'age': 27, 'address': 'Downtown', 'Location': 'Nagpur', 'Pin code': '440014'}\n"
     ]
    }
   ],
   "source": [
    "# Changing and Adding Dictionary elements\n",
    "my_dict = {'name': 'Ram', 'age': 26, }\n",
    "print(my_dict)\n",
    "# update value\n",
    "my_dict['age'] = 27\n",
    "print(my_dict)\n",
    "# add item\n",
    "my_dict['address'] = 'Downtown'\n",
    "my_dict['Location'] = 'Nagpur'\n",
    "my_dict['Pin code'] = '440014'\n",
    "print(my_dict)"
   ]
  },
  {
   "cell_type": "code",
   "execution_count": 15,
   "metadata": {},
   "outputs": [
    {
     "name": "stdout",
     "output_type": "stream",
     "text": [
      "{'name': 'Shayam A.', 'age': 27, 'address': 'Downtown', 'Location': 'Nagpur', 'Pin code': '440014'}\n",
      "{'name': 'Shayam A.', 'age': 27, 'address': 'Downtown', 'Location': 'Nagpur', 'Pin code': '440014'}\n"
     ]
    }
   ],
   "source": [
    "print(my_dict)\n",
    "my_dict['name']= 'Shayam A.'\n",
    "print(my_dict)"
   ]
  },
  {
   "cell_type": "code",
   "execution_count": 16,
   "metadata": {},
   "outputs": [
    {
     "name": "stdout",
     "output_type": "stream",
     "text": [
      "{'name': 'Shayam A.', 'age': 27, 'address': 'Downtown', 'Location': 'Nagpur', 'Pin code': '440014', 'mobile': '9892343456'}\n"
     ]
    }
   ],
   "source": [
    "my_dict['mobile']= '9892343456'\n",
    "print(my_dict)"
   ]
  },
  {
   "cell_type": "code",
   "execution_count": 17,
   "metadata": {},
   "outputs": [
    {
     "name": "stdout",
     "output_type": "stream",
     "text": [
      "('mobile', '9892343456')\n",
      "('Pin code', '440014')\n",
      "{'name': 'Shayam A.', 'age': 27, 'address': 'Downtown', 'Location': 'Nagpur'}\n"
     ]
    }
   ],
   "source": [
    "print(my_dict.popitem())\n",
    "print(my_dict.popitem())\n",
    "print(my_dict)"
   ]
  },
  {
   "cell_type": "code",
   "execution_count": 24,
   "metadata": {},
   "outputs": [
    {
     "ename": "KeyError",
     "evalue": "'age'",
     "output_type": "error",
     "traceback": [
      "\u001b[1;31m---------------------------------------------------------------------------\u001b[0m",
      "\u001b[1;31mKeyError\u001b[0m                                  Traceback (most recent call last)",
      "\u001b[1;32m<ipython-input-24-084dc981a6de>\u001b[0m in \u001b[0;36m<module>\u001b[1;34m\u001b[0m\n\u001b[1;32m----> 1\u001b[1;33m \u001b[0mprint\u001b[0m\u001b[1;33m(\u001b[0m\u001b[0mmy_dict\u001b[0m\u001b[1;33m.\u001b[0m\u001b[0mpop\u001b[0m\u001b[1;33m(\u001b[0m\u001b[1;34m'age'\u001b[0m\u001b[1;33m)\u001b[0m\u001b[1;33m)\u001b[0m\u001b[1;33m\u001b[0m\u001b[1;33m\u001b[0m\u001b[0m\n\u001b[0m\u001b[0;32m      2\u001b[0m \u001b[1;31m#print(my_dict)\u001b[0m\u001b[1;33m\u001b[0m\u001b[1;33m\u001b[0m\u001b[1;33m\u001b[0m\u001b[0m\n\u001b[0;32m      3\u001b[0m \u001b[1;31m#print(my_dict.popitem())\u001b[0m\u001b[1;33m\u001b[0m\u001b[1;33m\u001b[0m\u001b[1;33m\u001b[0m\u001b[0m\n\u001b[0;32m      4\u001b[0m \u001b[1;31m#print(my_dict)\u001b[0m\u001b[1;33m\u001b[0m\u001b[1;33m\u001b[0m\u001b[1;33m\u001b[0m\u001b[0m\n",
      "\u001b[1;31mKeyError\u001b[0m: 'age'"
     ]
    }
   ],
   "source": [
    "print(my_dict.pop('age'))\n",
    "#print(my_dict)\n",
    "#print(my_dict.popitem())\n",
    "#print(my_dict)\n"
   ]
  },
  {
   "cell_type": "code",
   "execution_count": 26,
   "metadata": {},
   "outputs": [
    {
     "name": "stdout",
     "output_type": "stream",
     "text": [
      "16\n",
      "{1: 1, 2: 4, 3: 9, 5: 25}\n",
      "(5, 25)\n",
      "{1: 1, 2: 4, 3: 9}\n",
      "{}\n"
     ]
    },
    {
     "ename": "NameError",
     "evalue": "name 'squares' is not defined",
     "output_type": "error",
     "traceback": [
      "\u001b[1;31m---------------------------------------------------------------------------\u001b[0m",
      "\u001b[1;31mNameError\u001b[0m                                 Traceback (most recent call last)",
      "\u001b[1;32m<ipython-input-26-566b7cd9fdc4>\u001b[0m in \u001b[0;36m<module>\u001b[1;34m\u001b[0m\n\u001b[0;32m     20\u001b[0m \u001b[1;33m\u001b[0m\u001b[0m\n\u001b[0;32m     21\u001b[0m \u001b[1;31m# Throws Error\u001b[0m\u001b[1;33m\u001b[0m\u001b[1;33m\u001b[0m\u001b[1;33m\u001b[0m\u001b[0m\n\u001b[1;32m---> 22\u001b[1;33m \u001b[0mprint\u001b[0m\u001b[1;33m(\u001b[0m\u001b[0msquares\u001b[0m\u001b[1;33m)\u001b[0m\u001b[1;33m\u001b[0m\u001b[1;33m\u001b[0m\u001b[0m\n\u001b[0m",
      "\u001b[1;31mNameError\u001b[0m: name 'squares' is not defined"
     ]
    }
   ],
   "source": [
    "# Removing elements from a dictionary\n",
    "\n",
    "# create a dictionary\n",
    "squares = {1: 1, 2: 4, 3: 9, 4: 16, 5: 25}\n",
    "\n",
    "# remove a particular item, returns its value\n",
    "print(squares.pop(4))  #pop(key value)\n",
    "print(squares)\n",
    "\n",
    "# remove an arbitrary item, return (key,value)\n",
    "print(squares.popitem())\n",
    "print(squares)\n",
    "\n",
    "# remove all items\n",
    "squares.clear()\n",
    "print(squares)\n",
    "\n",
    "# delete the dictionary itself\n",
    "del squares\n",
    "\n",
    "# Throws Error\n",
    "print(squares)"
   ]
  },
  {
   "cell_type": "code",
   "execution_count": 29,
   "metadata": {},
   "outputs": [],
   "source": [
    "# program to check single key in a dictionary\n",
    "squares = {1: 1, 2: 4, 3: 9, 4: 16, 5: 25}\n",
    "if 9 in squares:\n",
    "  print('Got It')"
   ]
  },
  {
   "cell_type": "code",
   "execution_count": 30,
   "metadata": {},
   "outputs": [
    {
     "name": "stdout",
     "output_type": "stream",
     "text": [
      "False\n"
     ]
    }
   ],
   "source": [
    "print(16 in squares)"
   ]
  },
  {
   "cell_type": "code",
   "execution_count": 31,
   "metadata": {},
   "outputs": [
    {
     "name": "stdout",
     "output_type": "stream",
     "text": [
      "1\n",
      "9\n",
      "25\n",
      "49\n",
      "81\n"
     ]
    }
   ],
   "source": [
    "# Iterating through a Dictionary\n",
    "squares = {1: 1, 3: 9, 5: 25, 7: 49, 9: 81}\n",
    "for i in squares:\n",
    "    print(squares[i])"
   ]
  },
  {
   "cell_type": "code",
   "execution_count": 32,
   "metadata": {},
   "outputs": [
    {
     "name": "stdout",
     "output_type": "stream",
     "text": [
      "1\n",
      "3\n",
      "5\n",
      "7\n",
      "9\n",
      "1\n",
      "3\n",
      "5\n",
      "7\n",
      "9\n"
     ]
    }
   ],
   "source": [
    "# keys() Returns list of dictionary’s keys\n",
    "for i in squares.keys():\n",
    "  print(i)\n",
    "for key in squares.keys():\n",
    "    print(key)"
   ]
  },
  {
   "cell_type": "code",
   "execution_count": 33,
   "metadata": {},
   "outputs": [
    {
     "name": "stdout",
     "output_type": "stream",
     "text": [
      "1\n",
      "9\n",
      "25\n",
      "49\n",
      "81\n"
     ]
    }
   ],
   "source": [
    "# dict_name.values() dictionary_name.values()\treturns a list of all the \n",
    "#values available in a given dictionary.\n",
    "for val in squares.values():\n",
    "    print(val)"
   ]
  },
  {
   "cell_type": "code",
   "execution_count": 34,
   "metadata": {},
   "outputs": [
    {
     "name": "stdout",
     "output_type": "stream",
     "text": [
      "1 1\n",
      "3 9\n",
      "5 25\n",
      "7 49\n",
      "9 81\n"
     ]
    }
   ],
   "source": [
    " #items() Returns a list of dict’s (key, value) tuple pairs\n",
    "for key,val in squares.items():\n",
    "    print(key,val)\n",
    "    #print(key,val,end=\"\\n\")"
   ]
  },
  {
   "cell_type": "code",
   "execution_count": 36,
   "metadata": {},
   "outputs": [],
   "source": [
    "# Dictionary Built-in Functions\n",
    "\n",
    "#-- len() Return the length (the number of items) in the dictionary.\n",
    "#-- sorted() Return a new sorted list of keys in the dictionary."
   ]
  },
  {
   "cell_type": "code",
   "execution_count": 37,
   "metadata": {},
   "outputs": [
    {
     "name": "stdout",
     "output_type": "stream",
     "text": [
      "The length of dictionary 6\n",
      "The sorted dictionary square is [0, 1, 3, 5, 7, 9]\n",
      "The sorted dictionary square1 is [0, 1, 3, 5, 7, 9]\n"
     ]
    }
   ],
   "source": [
    "squares = {0: 0, 1: 1, 3: 9, 5: 25, 7: 49, 9: 81}\n",
    "squares1 = {0: 0, 1: 1, 5: 25, 3: 9, 7: 49, 9: 81}\n",
    "\n",
    "print(\"The length of dictionary\", len(squares))\n",
    "\n",
    "print(\"The sorted dictionary square is\",sorted(squares))\n",
    "print(\"The sorted dictionary square1 is\",sorted(squares1))"
   ]
  },
  {
   "cell_type": "code",
   "execution_count": 38,
   "metadata": {},
   "outputs": [
    {
     "name": "stdout",
     "output_type": "stream",
     "text": [
      "original:  {1: 'AAA', 2: 'BBB'}\n",
      "new:  {1: 'AAA', 2: 'BBB'}\n",
      "new:  {}\n",
      "original:  {}\n"
     ]
    }
   ],
   "source": [
    "#copy()\tReturns a shallow copy of the dictionary\n",
    "original = {1:'AAA', 2:'BBB'}\n",
    "print('original: ', original)\n",
    "new = original.copy()\n",
    "print('new: ', new)\n",
    "new.clear()\n",
    "original.clear()\n",
    "print('new: ', new)\n",
    "print('original: ', original)"
   ]
  },
  {
   "cell_type": "code",
   "execution_count": 39,
   "metadata": {},
   "outputs": [
    {
     "name": "stdout",
     "output_type": "stream",
     "text": [
      "new:  {}\n",
      "original:  {}\n"
     ]
    }
   ],
   "source": [
    "original = {1:'one', 2:'two'}\n",
    "new = original\n",
    "new.clear()\n",
    "print('new: ', new)\n",
    "print('original: ', original)"
   ]
  },
  {
   "cell_type": "code",
   "execution_count": 40,
   "metadata": {},
   "outputs": [
    {
     "data": {
      "text/plain": [
       "'{0: 0, 1: 1, 3: 9, 5: 25, 7: 49, 9: 81}'"
      ]
     },
     "execution_count": 40,
     "metadata": {},
     "output_type": "execute_result"
    }
   ],
   "source": [
    "# str()\tProduces a printable string representation of a dictionary.\n",
    "str(squares)"
   ]
  },
  {
   "cell_type": "code",
   "execution_count": 41,
   "metadata": {},
   "outputs": [
    {
     "name": "stdout",
     "output_type": "stream",
     "text": [
      "The newly created dict with None values : {'d': None, 'b': None, 'c': None, 'a': None, 'e': None}\n",
      "The newly created dict with 1 as value : {'d': 1, 'b': 1, 'c': 1, 'a': 1, 'e': 1}\n"
     ]
    }
   ],
   "source": [
    "# fromkeys()\tCreate a new dictionary with keys from seq and \n",
    "# values set to value.\n",
    "\n",
    "seq = { 'a', 'b', 'c', 'd', 'e' }\n",
    "\n",
    "# using fromkeys() to convert sequence to dict\n",
    "# initializing with None\n",
    "res_dict = dict.fromkeys(seq)\n",
    "\n",
    "print (\"The newly created dict with None values : \" + str(res_dict))\n",
    "\n",
    "# using fromkeys() to convert sequence to dict\n",
    "# initializing with 1\n",
    "res_dict2 = dict.fromkeys(seq, 1)\n",
    "\n",
    "# Printing created dict\n",
    "print (\"The newly created dict with 1 as value : \" + str(res_dict2))\n"
   ]
  },
  {
   "cell_type": "code",
   "execution_count": 43,
   "metadata": {},
   "outputs": [
    {
     "name": "stdout",
     "output_type": "stream",
     "text": [
      "The dictionary after updation is: {'name': 'aaa', 'marks': 50}\n",
      "The dictionary after updation is: {1: 'a', 2: 'b', 'name': 'aaa', 'marks': 50}\n",
      "The dictionary after updation is: {'name': 'aaa', 'marks': 50, 1: 'a', 2: 'b'}\n"
     ]
    }
   ],
   "source": [
    "# update() Adds dictionary dict2’s key-values pairs to dict1\n",
    "dict1 = {1:'a',2:'b'}\n",
    "dict2 = {'name':'aaa','marks':50}\n",
    "dict1.update(dict2)\n",
    "print(\"The dictionary after updation is:\", dict2)\n",
    "print(\"The dictionary after updation is:\", dict1)\n",
    "dict2.update(dict1)\n",
    "print(\"The dictionary after updation is:\", dict2)"
   ]
  },
  {
   "cell_type": "code",
   "execution_count": 44,
   "metadata": {},
   "outputs": [
    {
     "name": "stdout",
     "output_type": "stream",
     "text": [
      "Dictionary: {'A': 'a', 'B': 'b', 'C': None}\n",
      "Third_value: None\n",
      "Dictionary: {'A': 'a', 'B': 'b', 'C': None, 'D': 'd'}\n",
      "Fourth_value: d\n"
     ]
    }
   ],
   "source": [
    "# setdefault()\tSet dict[key]=default if key is not already in dict\n",
    "\n",
    "Dictionary1 = { 'A': 'a', 'B': 'b'}\n",
    "# using setdefault() method when key is not in the Dictionary\n",
    "Third_value = Dictionary1.setdefault('C')\n",
    "print(\"Dictionary:\", Dictionary1)\n",
    "print(\"Third_value:\", Third_value)\n",
    "\n",
    "# using setdefault() method when key is not in the Dictionary but default value is provided\n",
    "Fourth_value = Dictionary1.setdefault('D', 'd')\n",
    "print(\"Dictionary:\", Dictionary1)\n",
    "print(\"Fourth_value:\", Fourth_value)\n"
   ]
  },
  {
   "cell_type": "code",
   "execution_count": 45,
   "metadata": {},
   "outputs": [
    {
     "name": "stdout",
     "output_type": "stream",
     "text": [
      "Empty Dictionary: \n",
      "{}\n",
      "\n",
      "Dictionary after adding 3 elements: \n",
      "{0: 'Hello', 3: 1, 2: 'World'}\n",
      "\n",
      "Dictionary after adding 3 elements: \n",
      "{0: 'Hello', 3: 1, 2: 'World', 'Value_set': (2, 3, 4)}\n",
      "\n",
      "Updated key value: \n",
      "{0: 'Hello', 3: 1, 2: 'Welcome', 'Value_set': (2, 3, 4)}\n",
      "\n",
      "Adding a Nested Key: \n",
      "{0: 'Hello', 3: 1, 2: 'Welcome', 'Value_set': (2, 3, 4), 5: {'Nested': {'1': 'Good', '2': 'Morning'}}}\n"
     ]
    }
   ],
   "source": [
    "# Creating an empty Dictionary\n",
    "Dict = {}\n",
    "print(\"Empty Dictionary: \")\n",
    "print(Dict)\n",
    "\n",
    "# Adding elements one at a time\n",
    "Dict[0] = 'Hello'\n",
    "Dict[3] = 1\n",
    "Dict[2] = 'World'\n",
    "print(\"\\nDictionary after adding 3 elements: \")\n",
    "print(Dict)\n",
    "\n",
    "# Adding set of values # to a single Key\n",
    "Dict['Value_set'] = 2, 3, 4\n",
    "print(\"\\nDictionary after adding 3 elements: \")\n",
    "print(Dict)\n",
    "\n",
    "# Updating existing Key's Value\n",
    "Dict[2] = 'Welcome'\n",
    "print(\"\\nUpdated key value: \")\n",
    "print(Dict)\n",
    "\n",
    "# Adding Nested Key value to Dictionary\n",
    "Dict[5] = {'Nested' :{'1' : 'Good', '2' : 'Morning'}}\n",
    "print(\"\\nAdding a Nested Key: \")\n",
    "print(Dict)\n"
   ]
  },
  {
   "cell_type": "code",
   "execution_count": 47,
   "metadata": {},
   "outputs": [
    {
     "name": "stdout",
     "output_type": "stream",
     "text": [
      "{1: 'AAA'}\n",
      "AAA\n",
      "BBB\n"
     ]
    }
   ],
   "source": [
    "#Accessing element of a nested dictionary\n",
    "Dict = {'Dict1': {1: 'AAA'},'Dict2': {'Name': 'BBB'}}\n",
    "# Accessing element using key\n",
    "print(Dict['Dict1'])\n",
    "print(Dict['Dict1'][1])\n",
    "#print(Dict['Dict1']['Name'])\n",
    "print(Dict['Dict2']['Name'])"
   ]
  },
  {
   "cell_type": "code",
   "execution_count": 48,
   "metadata": {},
   "outputs": [
    {
     "ename": "TypeError",
     "evalue": "unhashable type: 'list'",
     "output_type": "error",
     "traceback": [
      "\u001b[1;31m---------------------------------------------------------------------------\u001b[0m",
      "\u001b[1;31mTypeError\u001b[0m                                 Traceback (most recent call last)",
      "\u001b[1;32m<ipython-input-48-af72a6a46081>\u001b[0m in \u001b[0;36m<module>\u001b[1;34m\u001b[0m\n\u001b[0;32m      1\u001b[0m \u001b[1;31m# what is the output?\u001b[0m\u001b[1;33m\u001b[0m\u001b[1;33m\u001b[0m\u001b[1;33m\u001b[0m\u001b[0m\n\u001b[1;32m----> 2\u001b[1;33m \u001b[0mdict\u001b[0m \u001b[1;33m=\u001b[0m \u001b[1;33m{\u001b[0m\u001b[1;33m(\u001b[0m\u001b[1;36m1\u001b[0m\u001b[1;33m,\u001b[0m\u001b[1;36m2\u001b[0m\u001b[1;33m)\u001b[0m\u001b[1;33m,\u001b[0m\u001b[1;33m(\u001b[0m\u001b[1;33m[\u001b[0m\u001b[1;36m4\u001b[0m\u001b[1;33m,\u001b[0m\u001b[1;36m5\u001b[0m\u001b[1;33m,\u001b[0m\u001b[1;36m6\u001b[0m\u001b[1;33m]\u001b[0m\u001b[1;33m)\u001b[0m\u001b[1;33m}\u001b[0m\u001b[1;33m\u001b[0m\u001b[1;33m\u001b[0m\u001b[0m\n\u001b[0m\u001b[0;32m      3\u001b[0m \u001b[0mprint\u001b[0m\u001b[1;33m(\u001b[0m\u001b[0mdict\u001b[0m\u001b[1;33m)\u001b[0m\u001b[1;33m\u001b[0m\u001b[1;33m\u001b[0m\u001b[0m\n",
      "\u001b[1;31mTypeError\u001b[0m: unhashable type: 'list'"
     ]
    }
   ],
   "source": [
    "# what is the output?\n",
    "dict = {(1,2),([4,5,6])}\n",
    "print(dict)"
   ]
  },
  {
   "cell_type": "markdown",
   "metadata": {},
   "source": [
    "Python Program to Count the Number of Each Vowel using Dictionary\n",
    "Program to count the number of each vowels  o/p {'a': 3, 'e': 4, 'i': 3, 'o': 6, 'u': 3}"
   ]
  },
  {
   "cell_type": "code",
   "execution_count": 49,
   "metadata": {},
   "outputs": [
    {
     "name": "stdout",
     "output_type": "stream",
     "text": [
      "The dictionary before {'a': 0, 'e': 0, 'i': 0, 'o': 0, 'u': 0}\n",
      "The dictionary after {'a': 1, 'e': 2, 'i': 0, 'o': 3, 'u': 1}\n"
     ]
    }
   ],
   "source": [
    "# string of vowels\n",
    "vowels = 'aeiou'\n",
    "Str = 'Hello, how are you?'\n",
    "# make it suitable for caseless comparisions\n",
    "Str = Str.casefold()\n",
    "# make a dictionary with each vowel a key and value 0\n",
    "count = {}.fromkeys(vowels,0)\n",
    "print(\"The dictionary before\", count)\n",
    "# count the vowels\n",
    "for char in Str:\n",
    "   if char in count:\n",
    "       count[char] += 1\n",
    "\n",
    "print(\"The dictionary after\", count)\n",
    "#We use the dictionary method fromkeys() to construct a new dictionary \n",
    "#with each vowel as its key and all values equal to 0. \n",
    "#This is the initialization of the count.Next, we iterate over the input string using a for loop.\n",
    "#In each iteration, we check if the character is in the dictionary keys \n",
    "#(True if it is a vowel) and increment the value by 1 if true.\n",
    "\n"
   ]
  },
  {
   "cell_type": "code",
   "execution_count": 50,
   "metadata": {},
   "outputs": [
    {
     "name": "stdout",
     "output_type": "stream",
     "text": [
      "{'a': 1, 'e': 2, 'i': 0, 'o': 3, 'u': 1}\n"
     ]
    }
   ],
   "source": [
    "# Using dictionary and list comprehension\n",
    "Str = 'Hello, how are you?'\n",
    "\n",
    "# make it suitable for caseless comparisions\n",
    "Str = Str.casefold()\n",
    "\n",
    "# count the vowels\n",
    "count = {x:sum([1 for char in Str if char == x]) for x in 'aeiou'}\n",
    "\n",
    "print(count)"
   ]
  },
  {
   "cell_type": "markdown",
   "metadata": {},
   "source": [
    "Explanation of program above:Here, we have nested a list comprehension inside a\n",
    "dictionary comprehension to count the vowels in a single line.\n",
    "The dictionary comprehension runs for all vowel characters and the list \n",
    "comprehension inside the dictionary comprehension checks if any characters \n",
    "in the string match that particular vowel.\n",
    "At the end, a list with 1s is generated for the number of each vowel character.\n",
    "The sum() method is used to calculate the sum of the elements for each list.\n",
    "However, this program is slower as we iterate over the entire input string \n",
    "for each vowel."
   ]
  },
  {
   "cell_type": "code",
   "execution_count": 54,
   "metadata": {},
   "outputs": [
    {
     "name": "stdout",
     "output_type": "stream",
     "text": [
      "{'Math': 0, 'English': 0, 'Science': 0}\n",
      "('Math', 0)\n",
      "('English', 0)\n",
      "('Science', 0)\n",
      "['English', 'Math', 'Science']\n"
     ]
    }
   ],
   "source": [
    "# Dictionary Methods\n",
    "marks = {}.fromkeys(['Math', 'English', 'Science'], 0)\n",
    "# Output: {'English': 0, 'Math': 0, 'Science': 0}\n",
    "\n",
    "print(marks)\n",
    "\n",
    "for item in marks.items():\n",
    "    print(item)\n",
    "\n",
    "# Output: ['English', 'Math', 'Science']\n",
    "print(list(sorted(marks.keys())))"
   ]
  },
  {
   "cell_type": "markdown",
   "metadata": {},
   "source": [
    "#Python Dictionary Comprehension\n",
    "Dictionary comprehension is an elegant and concise way to create a \n",
    "new dictionary from an iterable in Python.\n",
    "Dictionary comprehension consists of an expression pair (key: value) followed by a for statement inside curly braces {}.\n",
    "Here is an example to make a dictionary with each item being a \n",
    "pair of a number and its square."
   ]
  },
  {
   "cell_type": "code",
   "execution_count": 55,
   "metadata": {},
   "outputs": [
    {
     "name": "stdout",
     "output_type": "stream",
     "text": [
      "{0: 0, 1: 1, 2: 4, 3: 9, 4: 16, 5: 25}\n"
     ]
    }
   ],
   "source": [
    "# Dictionary Comprehension\n",
    "squares = {x: x*x for x in range(6)}\n",
    "print(squares)"
   ]
  },
  {
   "cell_type": "code",
   "execution_count": 56,
   "metadata": {},
   "outputs": [
    {
     "name": "stdout",
     "output_type": "stream",
     "text": [
      "{0: 0, 1: 1, 2: 4, 3: 9, 4: 16, 5: 25}\n"
     ]
    }
   ],
   "source": [
    "#This code is equivalent to\n",
    "squares = {}\n",
    "for x in range(6):\n",
    "    squares[x] = x*x\n",
    "print(squares)"
   ]
  },
  {
   "cell_type": "markdown",
   "metadata": {},
   "source": [
    "A dictionary comprehension can optionally contain more for or if statements.\n",
    "An optional if statement can filter out items to form the new dictionary.\n",
    "Here are some examples to make a dictionary with only odd items."
   ]
  },
  {
   "cell_type": "code",
   "execution_count": 57,
   "metadata": {},
   "outputs": [
    {
     "name": "stdout",
     "output_type": "stream",
     "text": [
      "{0: 0, 2: 8, 4: 64, 6: 216, 8: 512, 10: 1000, 12: 1728, 14: 2744, 16: 4096, 18: 5832, 20: 8000, 22: 10648, 24: 13824, 26: 17576, 28: 21952, 30: 27000, 32: 32768, 34: 39304, 36: 46656, 38: 54872, 40: 64000, 42: 74088, 44: 85184, 46: 97336, 48: 110592}\n"
     ]
    }
   ],
   "source": [
    "# Dictionary Comprehension with if conditional\n",
    "odd_squares = {x: x*x*x for x in range(50) if x % 2 == 0}\n",
    "print(odd_squares)"
   ]
  },
  {
   "cell_type": "code",
   "execution_count": 58,
   "metadata": {},
   "outputs": [
    {
     "name": "stdout",
     "output_type": "stream",
     "text": [
      "True\n",
      "True\n",
      "False\n",
      "False\n"
     ]
    }
   ],
   "source": [
    "# Membership Test for Dictionary Keys\n",
    "squares = {1: 1, 3: 9, 5: 25, 7: 49, 9: 81}\n",
    "print(1 in squares)\n",
    "print(2 not in squares)\n",
    "print(49 in squares)\n",
    "print(81 in squares)"
   ]
  },
  {
   "cell_type": "code",
   "execution_count": 2,
   "metadata": {},
   "outputs": [],
   "source": [
    "# Python Program to Count the Number of unique elements(letters)\n",
    "# present in string using Dictionary"
   ]
  },
  {
   "cell_type": "code",
   "execution_count": 59,
   "metadata": {},
   "outputs": [
    {
     "name": "stdout",
     "output_type": "stream",
     "text": [
      "7\n"
     ]
    }
   ],
   "source": [
    "# Function to count the number of distinct\n",
    "# characters present in the string str\n",
    "     \n",
    "# Given string S\n",
    "Str = \"geeksforgeeks\" \n",
    "# Stores all distinct characters\n",
    "s = set(Str)\n",
    " \n",
    "# Return the size of the set\n",
    "print(len(s)) \n",
    " \n",
    " \n"
   ]
  },
  {
   "cell_type": "code",
   "execution_count": 60,
   "metadata": {},
   "outputs": [
    {
     "name": "stdout",
     "output_type": "stream",
     "text": [
      "{'Ten': 10, 'Twenty': 20, 'Thirty': 30, 'Forty': 40}\n"
     ]
    }
   ],
   "source": [
    "# Given 2 lists. \n",
    "# Write a Python program to convert them into a dictionary in a way \n",
    "# that item from list1 is the key and item from list2 is the value\n",
    "keys = ['Ten', 'Twenty', 'Thirty', 'Forty','Fifty']\n",
    "values = [10, 20, 30, 40]\n",
    "\n",
    "#Solution 1: The zip() function and a dict() constructor\n",
    "#Use the zip(keys, values) to aggregate two lists.\n",
    "#Wrap the result of a zip() function into a dict() constructor.\n",
    "res_dict = dict(zip(keys, values))\n",
    "print(res_dict)"
   ]
  },
  {
   "cell_type": "code",
   "execution_count": 62,
   "metadata": {},
   "outputs": [
    {
     "name": "stdout",
     "output_type": "stream",
     "text": [
      "{'Ten': 10, 'Twenty': 20, 'Thirty': 30}\n"
     ]
    }
   ],
   "source": [
    "#Solution 2: Using a loop and update() method of a dictionary\n",
    "keys = ['Ten', 'Twenty', 'Thirty']\n",
    "values = [10, 20, 30]\n",
    "# empty dictionary\n",
    "res_dict = dict()\n",
    "for i in range(len(keys)):\n",
    "    res_dict.update({keys[i]: values[i]})\n",
    "print(res_dict)"
   ]
  },
  {
   "cell_type": "code",
   "execution_count": 63,
   "metadata": {},
   "outputs": [
    {
     "name": "stdout",
     "output_type": "stream",
     "text": [
      "{'Ten': 10, 'Twenty': 20, 'Thirty': 30, 'Fourty': 40, 'Fifty': 50}\n"
     ]
    }
   ],
   "source": [
    "#Merge two Python dictionaries into one\n",
    "dict1 = {'Ten': 10, 'Twenty': 20, 'Thirty': 30}\n",
    "dict2 = {'Thirty': 30, 'Fourty': 40, 'Fifty': 50}\n",
    "dict3 = {**dict1, **dict2}\n",
    "print(dict3)"
   ]
  },
  {
   "cell_type": "code",
   "execution_count": 64,
   "metadata": {},
   "outputs": [
    {
     "name": "stdout",
     "output_type": "stream",
     "text": [
      "{'Ten': 10, 'Twenty': 20, 'Thirty': 30, 'Fourty': 40, 'Fifty': 50}\n"
     ]
    }
   ],
   "source": [
    "#Also\n",
    "dict1 = {'Ten': 10, 'Twenty': 20, 'Thirty': 30}\n",
    "dict2 = {'Thirty': 30, 'Fourty': 40, 'Fifty': 50}\n",
    "dict3 = dict1.copy()\n",
    "dict3.update(dict2)\n",
    "#dict3 = dict2.copy()\n",
    "print(dict3)"
   ]
  },
  {
   "cell_type": "code",
   "execution_count": 65,
   "metadata": {},
   "outputs": [
    {
     "name": "stdout",
     "output_type": "stream",
     "text": [
      "{'name': 'Kelly', 'age': 27, 'city': 'New york'}\n"
     ]
    }
   ],
   "source": [
    "#Delete a list of keys from a dictionary\n",
    "dict = {\n",
    "    \"name\": \"Kelly\",\n",
    "    \"age\": 27,\n",
    "    \"salary\": 10000,\n",
    "    \"city\": \"New york\"\n",
    "}\n",
    "# Keys to remove\n",
    "#keys = [\"name\", \"salary\"]\n",
    "keys = [\"salary\"]\n",
    "for k in keys:\n",
    "    dict.pop(k)\n",
    "print(dict)"
   ]
  },
  {
   "cell_type": "code",
   "execution_count": 28,
   "metadata": {},
   "outputs": [
    {
     "name": "stdout",
     "output_type": "stream",
     "text": [
      "{'name': 'Kelly', 'age': 25, 'salary': 8000, 'city': 'New york'}\n",
      "{'name': 'Kelly', 'age': 25, 'location': 'New york', 'payment': 8000}\n"
     ]
    }
   ],
   "source": [
    "#Rename key of a dictionary\n",
    "sample_dict = {\n",
    "    \"name\": \"Kelly\",\n",
    "    \"age\": 25,\n",
    "    \"salary\": 8000,\n",
    "    \"city\": \"New york\"\n",
    "}\n",
    "print(sample_dict)\n",
    "sample_dict['location'] = sample_dict.pop('city')\n",
    "sample_dict['payment'] = sample_dict.pop('salary')\n",
    "print(sample_dict)"
   ]
  },
  {
   "cell_type": "code",
   "execution_count": 32,
   "metadata": {},
   "outputs": [
    {
     "name": "stdout",
     "output_type": "stream",
     "text": [
      "Math\n"
     ]
    }
   ],
   "source": [
    "#Get the key of a minimum value from the following dictionary\n",
    "sample_dict = {\n",
    "    'Physics': 82,\n",
    "    'Math': 65,\n",
    "    'history': 75\n",
    "}\n",
    "print(min(sample_dict, key=sample_dict.get))"
   ]
  },
  {
   "cell_type": "code",
   "execution_count": 15,
   "metadata": {},
   "outputs": [
    {
     "name": "stdout",
     "output_type": "stream",
     "text": [
      "Math\n"
     ]
    }
   ],
   "source": [
    "min = min(sorted(sample_dict .keys()))\n",
    "print(min)"
   ]
  },
  {
   "cell_type": "code",
   "execution_count": 5,
   "metadata": {},
   "outputs": [
    {
     "name": "stdout",
     "output_type": "stream",
     "text": [
      "Math\n"
     ]
    }
   ],
   "source": [
    "sampleDict = {\n",
    "  'Physics': 82,\n",
    "  'Math': 65,\n",
    "  'history': 75}\n",
    "t=min(sampleDict.values())\n",
    "for i in sampleDict:\n",
    "     if(sampleDict[i]==t):\n",
    "         print(i)"
   ]
  },
  {
   "cell_type": "code",
   "execution_count": 62,
   "metadata": {},
   "outputs": [],
   "source": [
    "#1Exercise: Use the get method to print the value of the \"model\" key of the car \n",
    "#dictionary."
   ]
  },
  {
   "cell_type": "code",
   "execution_count": 63,
   "metadata": {},
   "outputs": [],
   "source": [
    "#1\n",
    "car ={\n",
    "  \"brand\": \"Ford\",\n",
    "  \"model\": \"Mustang\",\n",
    "  \"year\": 1964\n",
    "}\n",
    "print()"
   ]
  },
  {
   "cell_type": "code",
   "execution_count": null,
   "metadata": {},
   "outputs": [],
   "source": [
    "#2 .Change the \"year\" value from 1964 to 2020.\n",
    "#3.add the key/value pair \"color\" : \"red\" to the car dictionary.\n",
    "#4. Use the pop method to remove \"model\" from the car dictionary.\n",
    "#5. Use the clear method to empty the car dictionary."
   ]
  }
 ],
 "metadata": {
  "kernelspec": {
   "display_name": "Python 3",
   "language": "python",
   "name": "python3"
  },
  "language_info": {
   "codemirror_mode": {
    "name": "ipython",
    "version": 3
   },
   "file_extension": ".py",
   "mimetype": "text/x-python",
   "name": "python",
   "nbconvert_exporter": "python",
   "pygments_lexer": "ipython3",
   "version": "3.8.8"
  }
 },
 "nbformat": 4,
 "nbformat_minor": 2
}
