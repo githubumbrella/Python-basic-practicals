{
 "cells": [
  {
   "cell_type": "markdown",
   "metadata": {
    "id": "ba1rXIJ67Lvb"
   },
   "source": [
    "## Python Programming Lab [CCP202]\n",
    "## Practical no. 6"
   ]
  },
  {
   "cell_type": "markdown",
   "metadata": {
    "id": "Kcn0pz7D8AEq"
   },
   "source": [
    "## Name: Samruddhi Rathi"
   ]
  },
  {
   "cell_type": "markdown",
   "metadata": {
    "id": "1NqY80lC8AQq"
   },
   "source": [
    "## Roll no: C1-14"
   ]
  },
  {
   "cell_type": "markdown",
   "metadata": {
    "id": "NuJ12v1M8gRp"
   },
   "source": [
    "1. Write a python code for addition, subtraction and multiplication of two 4x4 matrices. [Use\n",
    "numpy]"
   ]
  },
  {
   "cell_type": "code",
   "execution_count": 2,
   "metadata": {
    "colab": {
     "base_uri": "https://localhost:8080/"
    },
    "id": "gt2ARMky8njB",
    "outputId": "6780e744-01dd-4413-92d3-a3d89468f31b"
   },
   "outputs": [
    {
     "name": "stdout",
     "output_type": "stream",
     "text": [
      "X= [[1 2 3 3]\n",
      " [3 4 5 6]\n",
      " [1 2 3 4]\n",
      " [1 7 8 9]]\n",
      "Y= [[1 1 1 1]\n",
      " [2 2 2 7]\n",
      " [9 8 9 7]\n",
      " [4 5 6 1]]\n"
     ]
    }
   ],
   "source": [
    "import numpy as np\n",
    "x = np.array([[1,2,3,3],[3,4,5,6],[1,2,3,4],[1,7,8,9]])\n",
    "y = np.array([[1,1,1,1],[2,2,2,7],[9,8,9,7],[4,5,6,1]])\n",
    "print(\"X=\",x)\n",
    "print(\"Y=\",y)"
   ]
  },
  {
   "cell_type": "code",
   "execution_count": 24,
   "metadata": {
    "colab": {
     "base_uri": "https://localhost:8080/"
    },
    "id": "X2MiWuec9Zuh",
    "outputId": "fcefcce5-2731-4386-8cfa-6f06dcf830e9"
   },
   "outputs": [
    {
     "name": "stdout",
     "output_type": "stream",
     "text": [
      "Addition is \n",
      " [[ 2  3  4  4]\n",
      " [ 5  6  7 13]\n",
      " [10 10 12 11]\n",
      " [ 5 12 14 10]]\n",
      "Subtraction is \n",
      "  [[ 0  1  2  2]\n",
      " [ 1  2  3 -1]\n",
      " [-8 -6 -6 -3]\n",
      " [-3  2  2  8]]\n",
      "Multiplication is\n",
      " [[ 44  44  50  39]\n",
      " [ 80  81  92  72]\n",
      " [ 48  49  56  40]\n",
      " [123 124 141 115]]\n",
      "Division is\n",
      " [[1.         2.         3.         3.        ]\n",
      " [1.5        2.         2.5        0.85714286]\n",
      " [0.11111111 0.25       0.33333333 0.57142857]\n",
      " [0.25       1.4        1.33333333 9.        ]]\n"
     ]
    }
   ],
   "source": [
    "print(\"Addition is \\n\",x+y)\n",
    "print(\"Subtraction is \\n \",x-y)\n",
    "print(\"Multiplication is\\n\",x.dot(y))\n",
    "print(\"Division is\\n\",x/y)"
   ]
  },
  {
   "cell_type": "markdown",
   "metadata": {
    "id": "k7YOs8FY-Rop"
   },
   "source": [
    "2. Write a NumPy program to compute the following for the given array.\n",
    "Mean, median, mode, variance, and standard deviation."
   ]
  },
  {
   "cell_type": "code",
   "execution_count": 8,
   "metadata": {
    "colab": {
     "base_uri": "https://localhost:8080/"
    },
    "id": "h_4U65cX-Uow",
    "outputId": "d0bd8ca5-bddb-47ef-8bb8-686e41690ce8"
   },
   "outputs": [
    {
     "name": "stdout",
     "output_type": "stream",
     "text": [
      "\n",
      "Mean= 5.5\n",
      "\n",
      "Variance= 8.25\n",
      "\n",
      "Standard Deviation= 2.8722813232690143\n",
      "\n",
      "Median= 5.5\n",
      "\n",
      "Mode= 1\n"
     ]
    }
   ],
   "source": [
    "import statistics as st\n",
    "arr=np.array([1,2,3,4,5,6,7,8,9,10])\n",
    "a=np.mean(arr)\n",
    "b=np.var(arr)\n",
    "c=np.std(arr)\n",
    "d=np.median(arr)\n",
    "print(\"\\nMean=\",a)\n",
    "print(\"\\nVariance=\",b)\n",
    "print(\"\\nStandard Deviation=\",c)\n",
    "print(\"\\nMedian=\",d)\n",
    "print(\"\\nMode=\",st.mode(arr))"
   ]
  },
  {
   "cell_type": "markdown",
   "metadata": {
    "id": "eoBchTKTBLPR"
   },
   "source": [
    "3. Randomly generate the marks of the 80 students in the range of 40 to 95. Write a NumPy\n",
    "program to compute the 70 percentiles for all elements in a given array. (Hint: use\n",
    "np.random.randint (start, stop, no_of_items) for list generation) (Hint: Use np.percentile)"
   ]
  },
  {
   "cell_type": "code",
   "execution_count": 9,
   "metadata": {
    "colab": {
     "base_uri": "https://localhost:8080/"
    },
    "id": "gqYHUME1BOB-",
    "outputId": "6c481f69-6be7-4bae-9cf3-3b18ac9deef2"
   },
   "outputs": [
    {
     "name": "stdout",
     "output_type": "stream",
     "text": [
      "[45 58 66 55 47 61 82 46 56 94 66 50 80 40 44 83 55 42 66 87 41 50 70 65\n",
      " 90 66 90 67 81 84 53 51 60 81 78 54 70 57 67 85 48 71 66 62 90 63 80 44\n",
      " 75 78 43 78 44 67 52 45 65 89 53 47 53 74 49 62 76 93 54 91 86 47 63 90\n",
      " 74 45 67 60 64 69 49 68]\n",
      "70th percentile of array:  74.0\n"
     ]
    }
   ],
   "source": [
    "array=np.random.randint(40,95,80)\n",
    "print(array)\n",
    "print(\"70th percentile of array: \",np.percentile(array,70))"
   ]
  },
  {
   "cell_type": "markdown",
   "metadata": {
    "id": "GkpYj4SUCt4g"
   },
   "source": [
    "4. You are given a space separated list of nine integers. Your task is to convert this list into\n",
    "a 3x3 NumPy array.Eg: input: 1 2 3 4 5 6 7 8 9\n",
    "Output:\n",
    "[ [1 2 3]\n",
    "[4 5 6]\n",
    "[7 8 9] ]\n",
    "Further, compute the determinant and inverse of the array manually as well as programmatically\n",
    "using python.\n",
    "[HINT: to find determinant use linear algebra package under numpy. Add these statements i.e.\n",
    "import numpy as np\n",
    "from numpy import linalg\n",
    "np.linalg.det(a)]"
   ]
  },
  {
   "cell_type": "code",
   "execution_count": 10,
   "metadata": {
    "colab": {
     "base_uri": "https://localhost:8080/"
    },
    "id": "1BfAHjtlDSvg",
    "outputId": "9810d476-18a3-4c4c-e417-559d0b0987f8"
   },
   "outputs": [
    {
     "name": "stdout",
     "output_type": "stream",
     "text": [
      "Input:  [1 2 3 4 5 6 7 8 9]\n",
      "Outout:\n",
      " [[1 2 3]\n",
      " [4 5 6]\n",
      " [7 8 9]]\n"
     ]
    }
   ],
   "source": [
    "import numpy as np\n",
    "from numpy import linalg\n",
    "arr1=np.arange(1,10)\n",
    "arr2=arr1.reshape(3,3)\n",
    "print(\"Input: \",arr1)\n",
    "print(\"Outout:\\n\",arr2)"
   ]
  },
  {
   "cell_type": "code",
   "execution_count": 61,
   "metadata": {
    "colab": {
     "base_uri": "https://localhost:8080/"
    },
    "id": "pErktFAjFGbW",
    "outputId": "cfae67ae-41ef-4a78-be91-aa26670e75ea"
   },
   "outputs": [
    {
     "name": "stdout",
     "output_type": "stream",
     "text": [
      "Determinant=  0\n"
     ]
    }
   ],
   "source": [
    "det = np.linalg.det(arr2)\n",
    "print(\"Determinant= \",int(det))"
   ]
  },
  {
   "cell_type": "code",
   "execution_count": 14,
   "metadata": {},
   "outputs": [
    {
     "name": "stdout",
     "output_type": "stream",
     "text": [
      "Inverse =\n",
      " [[ 3.15251974e+15 -6.30503948e+15  3.15251974e+15]\n",
      " [-6.30503948e+15  1.26100790e+16 -6.30503948e+15]\n",
      " [ 3.15251974e+15 -6.30503948e+15  3.15251974e+15]]\n"
     ]
    }
   ],
   "source": [
    "i = np.linalg.inv(arr2)\n",
    "print(\"Inverse =\\n\",i)"
   ]
  },
  {
   "cell_type": "markdown",
   "metadata": {
    "id": "8lS9sRUSJ221"
   },
   "source": [
    "5. Create a 5 by 2 integer array from a range between 100 to 200 such that the difference\n",
    "between each element is 10. Print the same."
   ]
  },
  {
   "cell_type": "code",
   "execution_count": 15,
   "metadata": {
    "colab": {
     "base_uri": "https://localhost:8080/"
    },
    "id": "Znd65PmhJ4YV",
    "outputId": "737649b2-5675-4ee5-8628-02d6694bebb6"
   },
   "outputs": [
    {
     "name": "stdout",
     "output_type": "stream",
     "text": [
      "[[100 110]\n",
      " [120 130]\n",
      " [140 150]\n",
      " [160 170]\n",
      " [180 190]]\n"
     ]
    }
   ],
   "source": [
    "array=np.arange(100,200,10)\n",
    "arr=array.reshape(5,2)\n",
    "print(arr)"
   ]
  },
  {
   "cell_type": "markdown",
   "metadata": {
    "id": "_u3BjmRhLITF"
   },
   "source": [
    "6) Write a program to print the checkerboard pattern of n x n using NumPy.\n",
    "The problem statement is given n, print the checkerboard pattern for a n x n matrix considering\n",
    "that 0 for black and 1 for white."
   ]
  },
  {
   "cell_type": "code",
   "execution_count": 16,
   "metadata": {
    "colab": {
     "base_uri": "https://localhost:8080/"
    },
    "id": "A9_jyHU_LI6s",
    "outputId": "f887c9fe-0c4c-41cf-8a75-a8faa5ec1ab2"
   },
   "outputs": [
    {
     "name": "stdout",
     "output_type": "stream",
     "text": [
      "Checkerboard pattern for n=10:\n",
      "0 1 0 1 0 1 0 1 0 1 \n",
      "1 0 1 0 1 0 1 0 1 0 \n",
      "0 1 0 1 0 1 0 1 0 1 \n",
      "1 0 1 0 1 0 1 0 1 0 \n",
      "0 1 0 1 0 1 0 1 0 1 \n",
      "1 0 1 0 1 0 1 0 1 0 \n",
      "0 1 0 1 0 1 0 1 0 1 \n",
      "1 0 1 0 1 0 1 0 1 0 \n",
      "0 1 0 1 0 1 0 1 0 1 \n",
      "1 0 1 0 1 0 1 0 1 0 \n"
     ]
    }
   ],
   "source": [
    "import numpy as np\n",
    " \n",
    "# function to print Checkerboard pattern\n",
    "def printcheckboard(n):\n",
    "     \n",
    "    print(\"Checkerboard pattern for n=10:\")\n",
    " \n",
    "    # create a n * n matrix\n",
    "    x = np.zeros((n, n), dtype = int)\n",
    " \n",
    "    # fill with 1 the alternate rows and columns\n",
    "    x[1::2, ::2] = 1\n",
    "    x[::2, 1::2] = 1\n",
    "     \n",
    "    # print the pattern\n",
    "    for i in range(n):\n",
    "        for j in range(n):\n",
    "            print(x[i][j], end =\" \")\n",
    "        print()\n",
    " \n",
    " \n",
    "# driver code\n",
    "n = 10\n",
    "printcheckboard(n)"
   ]
  },
  {
   "cell_type": "markdown",
   "metadata": {
    "id": "2iPsTATKMgOM"
   },
   "source": [
    "7) Write a program to sort a given array. sort an entire array, sort array in row wise, sort array in\n",
    "column wise.\n",
    "Note: Use sort method"
   ]
  },
  {
   "cell_type": "code",
   "execution_count": 17,
   "metadata": {
    "colab": {
     "base_uri": "https://localhost:8080/"
    },
    "id": "TtN70JnjMg5s",
    "outputId": "6da951a5-0100-46fe-ec8e-91cdf3a13189"
   },
   "outputs": [
    {
     "name": "stdout",
     "output_type": "stream",
     "text": [
      "[[ 10   2  36]\n",
      " [  4  50  16]\n",
      " [745  68  91]]\n"
     ]
    }
   ],
   "source": [
    "arr=np.array([[10,2,36],[4,50,16],[745,68,91]])\n",
    "print(arr)  "
   ]
  },
  {
   "cell_type": "code",
   "execution_count": 18,
   "metadata": {
    "colab": {
     "base_uri": "https://localhost:8080/"
    },
    "id": "f-StbWabNU98",
    "outputId": "10456890-fdcb-4290-8eb9-84cd0c4909d1"
   },
   "outputs": [
    {
     "name": "stdout",
     "output_type": "stream",
     "text": [
      "[[  2  10  36]\n",
      " [  4  16  50]\n",
      " [ 68  91 745]]\n"
     ]
    }
   ],
   "source": [
    "# sorting an entire array\n",
    "arr1=np.sort(arr)\n",
    "print(arr1)"
   ]
  },
  {
   "cell_type": "code",
   "execution_count": 19,
   "metadata": {
    "colab": {
     "base_uri": "https://localhost:8080/"
    },
    "id": "Why-BDtMNiar",
    "outputId": "e99c371a-618c-4e3b-933d-c762c287a209"
   },
   "outputs": [
    {
     "name": "stdout",
     "output_type": "stream",
     "text": [
      "After column sorting:\n",
      " [[  4   2  16]\n",
      " [ 10  50  36]\n",
      " [745  68  91]]\n"
     ]
    }
   ],
   "source": [
    "# sorting array column-wise\n",
    "arr2=np.sort(arr,axis=0)\n",
    "print(\"After column sorting:\\n\",arr2)"
   ]
  },
  {
   "cell_type": "code",
   "execution_count": 20,
   "metadata": {
    "colab": {
     "base_uri": "https://localhost:8080/"
    },
    "id": "eYy1q9kAN7Dc",
    "outputId": "fde3238d-46ee-4559-fa2e-c8b723911dbe"
   },
   "outputs": [
    {
     "name": "stdout",
     "output_type": "stream",
     "text": [
      "After row sorting:\n",
      " [[  2  10  36]\n",
      " [  4  16  50]\n",
      " [ 68  91 745]]\n"
     ]
    }
   ],
   "source": [
    "# sorting array row-wise\n",
    "arr3=np.sort(arr,axis=1)\n",
    "print(\"After row sorting:\\n\",arr3)"
   ]
  },
  {
   "cell_type": "code",
   "execution_count": null,
   "metadata": {
    "id": "9O7UjygCOBoj"
   },
   "outputs": [],
   "source": []
  }
 ],
 "metadata": {
  "colab": {
   "provenance": []
  },
  "kernelspec": {
   "display_name": "Python 3 (ipykernel)",
   "language": "python",
   "name": "python3"
  },
  "language_info": {
   "codemirror_mode": {
    "name": "ipython",
    "version": 3
   },
   "file_extension": ".py",
   "mimetype": "text/x-python",
   "name": "python",
   "nbconvert_exporter": "python",
   "pygments_lexer": "ipython3",
   "version": "3.9.13"
  }
 },
 "nbformat": 4,
 "nbformat_minor": 1
}
