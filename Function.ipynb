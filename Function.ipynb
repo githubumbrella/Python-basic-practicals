{
 "cells": [
  {
   "cell_type": "code",
   "execution_count": 35,
   "id": "ea2d10f0",
   "metadata": {},
   "outputs": [],
   "source": [
    "#Functions \n",
    "#Functions are the primary and most important method of code \n",
    "#organization #and reuse in Python. \n",
    "#Functions are declared with the def keyword and returned from with \n",
    "#the return keyword:\n",
    "Syntax: \n",
    "def function_name(parameters):\n",
    "    \"\"\"docstring\"\"\"\n",
    "    statement(s)\n"
   ]
  },
  {
   "cell_type": "code",
   "execution_count": null,
   "id": "a8dd710a",
   "metadata": {},
   "outputs": [],
   "source": [
    "Above shown is a function definition that consists of the following \n",
    "components.\n",
    "Keyword def that marks the start of the function header.\n",
    "A function name to uniquely identify the function. \n",
    "Function naming follows the same rules of writing identifiers in Python.\n",
    "Parameters (arguments) through which we pass values to a function.\n",
    "They are optional.\n",
    "A colon (:) to mark the end of the function header.\n",
    "Optional documentation string (docstring) to describe what the \n",
    "function does.One or more valid python statements that make up the \n",
    "function body. \n",
    "Statements must have the same indentation level.\n",
    "An optional return statement to return a value from the function."
   ]
  },
  {
   "cell_type": "code",
   "execution_count": null,
   "id": "f5387fbe",
   "metadata": {},
   "outputs": [],
   "source": [
    "#Scope and Lifetime of variables \n",
    "Scope of a variable is the portion of a program where the variable \n",
    "is recognized. Parameters and variables defined inside a function \n",
    "are not visible from outside the function. \n",
    "Hence, they have a local scope."
   ]
  },
  {
   "cell_type": "code",
   "execution_count": 3,
   "id": "fe6aacf0",
   "metadata": {},
   "outputs": [
    {
     "name": "stdout",
     "output_type": "stream",
     "text": [
      "the result is: 7\n",
      "c= 11\n",
      "ab\n"
     ]
    }
   ],
   "source": [
    "def add(x,y):\n",
    "    return(x+y)\n",
    "\n",
    "print(\"the result is:\",add(3,4))\n",
    "c=add(5,6)\n",
    "print(\"c=\",c)\n",
    "print(add('a','b'))"
   ]
  },
  {
   "cell_type": "code",
   "execution_count": 4,
   "id": "6da85498",
   "metadata": {},
   "outputs": [
    {
     "name": "stdout",
     "output_type": "stream",
     "text": [
      "Value inside function: 10\n",
      "Value outside function: 20\n"
     ]
    }
   ],
   "source": [
    "# Define a function\n",
    "def my_func():\n",
    "    x = 10\n",
    "    print(\"Value inside function:\",x)\n",
    "\n",
    "# Calling a Function\n",
    "x = 20\n",
    "my_func()\n",
    "print(\"Value outside function:\",x)"
   ]
  },
  {
   "cell_type": "code",
   "execution_count": null,
   "id": "d1b60646",
   "metadata": {},
   "outputs": [],
   "source": [
    "Types of Functions \n",
    "Basically, we can divide functions into the following two types:\n",
    "1.Built-in functions - Functions that are built into Python. \n",
    "2.User-defined functions - Functions defined by the users themselves."
   ]
  },
  {
   "cell_type": "code",
   "execution_count": 5,
   "id": "2a9ebd08",
   "metadata": {},
   "outputs": [
    {
     "data": {
      "text/plain": [
       "5"
      ]
     },
     "execution_count": 5,
     "metadata": {},
     "output_type": "execute_result"
    }
   ],
   "source": [
    "abs(-5)  # returns absolute value"
   ]
  },
  {
   "cell_type": "code",
   "execution_count": 6,
   "id": "da69e36c",
   "metadata": {},
   "outputs": [
    {
     "name": "stdout",
     "output_type": "stream",
     "text": [
      "Hello this is function\n",
      "Demo function\n"
     ]
    }
   ],
   "source": [
    "# Define a function\n",
    "def func1():\n",
    "  print(\"Hello this is function\")\n",
    "  print(\"Demo function\")\n",
    "\n",
    "# Calling a Function\n",
    "func1()\n"
   ]
  },
  {
   "cell_type": "code",
   "execution_count": 7,
   "id": "6ed7621a",
   "metadata": {},
   "outputs": [
    {
     "name": "stdout",
     "output_type": "stream",
     "text": [
      "Hello  abc xyz\n"
     ]
    }
   ],
   "source": [
    "# Creating parameterized function\n",
    "def func2(name1,name2):\n",
    "  print(\"Hello \" , name1, name2)\n",
    "# Calling a Function\n",
    "func2(\"abc\", \"xyz\")"
   ]
  },
  {
   "cell_type": "code",
   "execution_count": 8,
   "id": "e00e604a",
   "metadata": {},
   "outputs": [
    {
     "name": "stdout",
     "output_type": "stream",
     "text": [
      "I am Aatul\n",
      "I am Raj\n"
     ]
    }
   ],
   "source": [
    "# Setting default value for parameter\n",
    "def func3(name = \"Raj\"):\n",
    "  print(\"I am \" + name)\n",
    "\n",
    "func3(\"Aatul\")\n",
    "func3()   # Will use Raj as default value"
   ]
  },
  {
   "cell_type": "code",
   "execution_count": 9,
   "id": "b95c36af",
   "metadata": {},
   "outputs": [
    {
     "name": "stdout",
     "output_type": "stream",
     "text": [
      "a: 10\n",
      "b: 20\n"
     ]
    }
   ],
   "source": [
    "# Passing multiple values \n",
    "def func4(a, b): \n",
    "    print(\"a:\", a) \n",
    "    print(\"b:\", b) \n",
    "func4(10,20) "
   ]
  },
  {
   "cell_type": "code",
   "execution_count": 10,
   "id": "84a4a7bf",
   "metadata": {},
   "outputs": [
    {
     "ename": "SyntaxError",
     "evalue": "positional argument follows keyword argument (<ipython-input-10-6b2be8a5437a>, line 8)",
     "output_type": "error",
     "traceback": [
      "\u001b[1;36m  File \u001b[1;32m\"<ipython-input-10-6b2be8a5437a>\"\u001b[1;36m, line \u001b[1;32m8\u001b[0m\n\u001b[1;33m    func5(b=10,a=20, c)\u001b[0m\n\u001b[1;37m                     ^\u001b[0m\n\u001b[1;31mSyntaxError\u001b[0m\u001b[1;31m:\u001b[0m positional argument follows keyword argument\n"
     ]
    }
   ],
   "source": [
    "# Passing multiple values as Keyword arguments\n",
    "def func5(a, b, c): \n",
    "    print(\"a:\", a) \n",
    "    print(\"b:\", b) \n",
    "    print(\"c:\", c) \n",
    "    \n",
    "func5(a=10,b=20, c=15)\n",
    "func5(b=10,a=20, c)"
   ]
  },
  {
   "cell_type": "code",
   "execution_count": 16,
   "id": "0f5cfbd5",
   "metadata": {},
   "outputs": [],
   "source": [
    "def my_function(x, y, z=1.5):\n",
    "    if z > 1:\n",
    "        return z * (x + y)\n",
    "    else:\n",
    "        return z / (x + y)"
   ]
  },
  {
   "cell_type": "code",
   "execution_count": 17,
   "id": "d2f92fbb",
   "metadata": {},
   "outputs": [
    {
     "data": {
      "text/plain": [
       "0.06363636363636363"
      ]
     },
     "execution_count": 17,
     "metadata": {},
     "output_type": "execute_result"
    }
   ],
   "source": [
    "my_function(5, 6, 0.7)"
   ]
  },
  {
   "cell_type": "code",
   "execution_count": 18,
   "id": "bf23fddd",
   "metadata": {},
   "outputs": [
    {
     "data": {
      "text/plain": [
       "35.49"
      ]
     },
     "execution_count": 18,
     "metadata": {},
     "output_type": "execute_result"
    }
   ],
   "source": [
    "my_function(3.14, 7, 3.5)"
   ]
  },
  {
   "cell_type": "code",
   "execution_count": 19,
   "id": "9c9a09f5",
   "metadata": {},
   "outputs": [
    {
     "data": {
      "text/plain": [
       "45.0"
      ]
     },
     "execution_count": 19,
     "metadata": {},
     "output_type": "execute_result"
    }
   ],
   "source": [
    "my_function(10, 20)"
   ]
  },
  {
   "cell_type": "code",
   "execution_count": 20,
   "id": "ff4983cf",
   "metadata": {},
   "outputs": [
    {
     "data": {
      "text/plain": [
       "77"
      ]
     },
     "execution_count": 20,
     "metadata": {},
     "output_type": "execute_result"
    }
   ],
   "source": [
    "my_function(x=5, y=6, z=7)"
   ]
  },
  {
   "cell_type": "code",
   "execution_count": 21,
   "id": "f2dc0bfc",
   "metadata": {},
   "outputs": [
    {
     "data": {
      "text/plain": [
       "77"
      ]
     },
     "execution_count": 21,
     "metadata": {},
     "output_type": "execute_result"
    }
   ],
   "source": [
    "my_function(y=6, x=5, z=7)\n",
    "# In some cases this can help with readability"
   ]
  },
  {
   "cell_type": "code",
   "execution_count": 22,
   "id": "c80db605",
   "metadata": {},
   "outputs": [
    {
     "name": "stdout",
     "output_type": "stream",
     "text": [
      "Java\n",
      "C\n",
      "CPP\n",
      "Android\n",
      "HTML\n",
      "Dart\n",
      "Go\n"
     ]
    }
   ],
   "source": [
    "# Passing List as a parameter\n",
    "def func6(lang):\n",
    "  for x in lang:\n",
    "    print(x)\n",
    "# Driver Code\n",
    "list = [\"Java\",\"C\",\"CPP\",\"Android\",\"HTML\",\"Dart\",\"Go\"] \n",
    "func6(list)"
   ]
  },
  {
   "cell_type": "code",
   "execution_count": 23,
   "id": "3f3ae9ec",
   "metadata": {},
   "outputs": [
    {
     "name": "stdout",
     "output_type": "stream",
     "text": [
      "Hello\n",
      "\n",
      "Hello\n",
      "This\n",
      "is\n",
      "Python\n",
      "3\n",
      "\n",
      "Hi\n",
      "This\n",
      "is\n",
      "Python\n"
     ]
    }
   ],
   "source": [
    "\"\"\"\n",
    "Variable length arguments:\n",
    "We can have both normal and keyword variable number of arguments\n",
    "\"\"\"\n",
    "# *args for variable number of arguments \n",
    "def func8(*a):  \n",
    "    for x in a:  \n",
    "        print (x) \n",
    "        \n",
    "# Driver code to test above code\n",
    "func8('Hello\\n')\n",
    "func8('Hello', 'This', 'is', 'Python', '3')\n",
    "print()\n",
    "func8('Hi','This','is','Python')"
   ]
  },
  {
   "cell_type": "code",
   "execution_count": 24,
   "id": "e2519225",
   "metadata": {},
   "outputs": [
    {
     "name": "stdout",
     "output_type": "stream",
     "text": [
      "first == Beginner\n",
      "mid == Intermediate\n",
      "last == Expert\n"
     ]
    }
   ],
   "source": [
    "# **keyargs for variable number of keyword arguments \n",
    "def myFun(**keyargs):  \n",
    "    for key, value in keyargs.items(): \n",
    "        print (\"%s == %s\" %(key, value)) \n",
    "        \n",
    "# Driver code to test above code\n",
    "myFun(first ='Beginner', mid ='Intermediate', last='Expert')"
   ]
  },
  {
   "cell_type": "markdown",
   "id": "8cdf16cb",
   "metadata": {},
   "source": [
    "In Python, an anonymous function is a function that is defined without\n",
    "a name.While normal functions are defined using the def keyword in \n",
    "Python,anonymous functions are defined using the lambda keyword.\n",
    "Hence, anonymous functions are also called lambda functions.\n",
    "Syntax of Lambda Function in python lambda arguments: expression"
   ]
  },
  {
   "cell_type": "code",
   "execution_count": 26,
   "id": "7f2b19a1",
   "metadata": {},
   "outputs": [
    {
     "name": "stdout",
     "output_type": "stream",
     "text": [
      "The value is: 25\n"
     ]
    }
   ],
   "source": [
    "\"\"\"\n",
    "Anonymous functions: \n",
    "In Python, anonymous function means that a function is without a name. \n",
    "We know that def keyword is used to define the normal functions and the \n",
    "lambda keyword is used to create anonymous functions.\n",
    "\"\"\"\n",
    "# using labmda to create Anonymous function\n",
    "square = lambda x: x*x\n",
    "print(\"The value is:\" ,square (5))"
   ]
  },
  {
   "cell_type": "code",
   "execution_count": 27,
   "id": "d47290b4",
   "metadata": {},
   "outputs": [
    {
     "data": {
      "text/plain": [
       "9"
      ]
     },
     "execution_count": 27,
     "metadata": {},
     "output_type": "execute_result"
    }
   ],
   "source": [
    "equiv_anon = lambda x,y: x **y\n",
    "equiv_anon(3,2)"
   ]
  },
  {
   "cell_type": "code",
   "execution_count": 31,
   "id": "5a6b0aae",
   "metadata": {},
   "outputs": [
    {
     "name": "stdout",
     "output_type": "stream",
     "text": [
      "local x: 10\n",
      "global x: 5\n"
     ]
    }
   ],
   "source": [
    "x = 5\n",
    "def foo():\n",
    "    x = 10\n",
    "    print(\"local x:\", x)\n",
    "\n",
    "foo()\n",
    "print(\"global x:\", x)"
   ]
  },
  {
   "cell_type": "code",
   "execution_count": 32,
   "id": "85aefacd",
   "metadata": {},
   "outputs": [
    {
     "name": "stdout",
     "output_type": "stream",
     "text": [
      "1\n"
     ]
    }
   ],
   "source": [
    "# Accessing global Variable From Inside a Function\n",
    "c = 1 # global variable\n",
    "\n",
    "def add():\n",
    "    print(c)\n",
    "\n",
    "add()"
   ]
  },
  {
   "cell_type": "code",
   "execution_count": 33,
   "id": "c5a37903",
   "metadata": {},
   "outputs": [
    {
     "ename": "UnboundLocalError",
     "evalue": "local variable 'c' referenced before assignment",
     "output_type": "error",
     "traceback": [
      "\u001b[1;31m---------------------------------------------------------------------------\u001b[0m",
      "\u001b[1;31mUnboundLocalError\u001b[0m                         Traceback (most recent call last)",
      "\u001b[1;32m<ipython-input-33-a18784f328a4>\u001b[0m in \u001b[0;36m<module>\u001b[1;34m\u001b[0m\n\u001b[0;32m      6\u001b[0m     \u001b[0mprint\u001b[0m\u001b[1;33m(\u001b[0m\u001b[0mc\u001b[0m\u001b[1;33m)\u001b[0m\u001b[1;33m\u001b[0m\u001b[1;33m\u001b[0m\u001b[0m\n\u001b[0;32m      7\u001b[0m \u001b[1;33m\u001b[0m\u001b[0m\n\u001b[1;32m----> 8\u001b[1;33m \u001b[0madd\u001b[0m\u001b[1;33m(\u001b[0m\u001b[1;33m)\u001b[0m\u001b[1;33m\u001b[0m\u001b[1;33m\u001b[0m\u001b[0m\n\u001b[0m",
      "\u001b[1;32m<ipython-input-33-a18784f328a4>\u001b[0m in \u001b[0;36madd\u001b[1;34m()\u001b[0m\n\u001b[0;32m      3\u001b[0m \u001b[1;33m\u001b[0m\u001b[0m\n\u001b[0;32m      4\u001b[0m \u001b[1;32mdef\u001b[0m \u001b[0madd\u001b[0m\u001b[1;33m(\u001b[0m\u001b[1;33m)\u001b[0m\u001b[1;33m:\u001b[0m\u001b[1;33m\u001b[0m\u001b[1;33m\u001b[0m\u001b[0m\n\u001b[1;32m----> 5\u001b[1;33m     \u001b[0mc\u001b[0m \u001b[1;33m=\u001b[0m \u001b[0mc\u001b[0m \u001b[1;33m+\u001b[0m \u001b[1;36m2\u001b[0m \u001b[1;31m# increment c by 2\u001b[0m\u001b[1;33m\u001b[0m\u001b[1;33m\u001b[0m\u001b[0m\n\u001b[0m\u001b[0;32m      6\u001b[0m     \u001b[0mprint\u001b[0m\u001b[1;33m(\u001b[0m\u001b[0mc\u001b[0m\u001b[1;33m)\u001b[0m\u001b[1;33m\u001b[0m\u001b[1;33m\u001b[0m\u001b[0m\n\u001b[0;32m      7\u001b[0m \u001b[1;33m\u001b[0m\u001b[0m\n",
      "\u001b[1;31mUnboundLocalError\u001b[0m: local variable 'c' referenced before assignment"
     ]
    }
   ],
   "source": [
    "#Modifying Global Variable From Inside the Function\n",
    "c = 1 # global variable\n",
    "    \n",
    "def add():\n",
    "    c = c + 2 # increment c by 2\n",
    "    print(c)\n",
    "\n",
    "add()"
   ]
  },
  {
   "cell_type": "code",
   "execution_count": 34,
   "id": "2cc4a4ea",
   "metadata": {},
   "outputs": [
    {
     "name": "stdout",
     "output_type": "stream",
     "text": [
      "Inside add(): 2\n",
      "In main: 2\n"
     ]
    }
   ],
   "source": [
    "# Changing Global Variable From Inside a Function using global\n",
    "c = 0 # global variable\n",
    "def add():\n",
    "    global c\n",
    "    c = c + 2 # increment by 2\n",
    "    print(\"Inside add():\", c)\n",
    "\n",
    "add()\n",
    "print(\"In main:\", c)"
   ]
  },
  {
   "cell_type": "code",
   "execution_count": 35,
   "id": "7c6387e0",
   "metadata": {},
   "outputs": [
    {
     "name": "stdout",
     "output_type": "stream",
     "text": [
      "the first call= 1\n",
      "The second call= 4\n",
      "The third call= 9\n"
     ]
    }
   ],
   "source": [
    "\"\"\" Return Statement in Function\"\"\"\n",
    "\n",
    "# Function that returns value, using return statement\n",
    "def square(x):\n",
    "  return x * x\n",
    "\n",
    "# Call function to test above code\n",
    "print(\"the first call=\",square(1))\n",
    "print(\"The second call=\",square(2))\n",
    "print(\"The third call=\",square(3))"
   ]
  },
  {
   "cell_type": "code",
   "execution_count": 34,
   "id": "7d870548",
   "metadata": {},
   "outputs": [
    {
     "name": "stdout",
     "output_type": "stream",
     "text": [
      "168\n",
      "343\n"
     ]
    }
   ],
   "source": [
    "# cube v=a*a*a*a\n",
    "# cuboid v=l*w*h\n",
    "def vol(l,w=None,h=None):\n",
    "    if ((w==None)and(h==None)):\n",
    "        return(l**3)\n",
    "    else:\n",
    "        return(l*w*h)\n",
    "\n",
    "print(vol(4,6,7))\n",
    "print(vol(7))"
   ]
  },
  {
   "cell_type": "code",
   "execution_count": 10,
   "id": "1b670ad2",
   "metadata": {},
   "outputs": [],
   "source": [
    "#Calculate volume of a cube or cuboid\n",
    "def volume(l,b=None,h=None):\n",
    "    if((b==None)and (h==None)):\n",
    "        return (l**3)\n",
    "    else:\n",
    "        return (l*b*h)\n",
    "\n",
    "#print(volume(3,2,4))\n",
    "#print(volume(5))"
   ]
  },
  {
   "cell_type": "code",
   "execution_count": 37,
   "id": "548b892e",
   "metadata": {},
   "outputs": [
    {
     "data": {
      "text/plain": [
       "' Returning values from a method using class '"
      ]
     },
     "execution_count": 37,
     "metadata": {},
     "output_type": "execute_result"
    }
   ],
   "source": [
    "\"\"\"\n",
    "Returning Multiple Values in Python\n",
    "There are four ways to return multiple values in Python;\n",
    "1. Using Object : \n",
    "Similar to C/C++ and Java, we can create a class to hold multiple values and \n",
    "return an object of the class.\n",
    "2. Using Tuple : \n",
    "A Tuple is a comma separated sequence of items. It is created with or \n",
    "without (). Tuples are immutable.\n",
    "3. Using List : \n",
    "A list is like an array of items created using square brackets. \n",
    "They are different from arrays as they can contain items of different types. Lists are different from tuples as they are mutable.\n",
    "4. Using Dictionary :\n",
    "A Dictionary is similar to hash or map in other languages. \n",
    "See this for details of dictionary.\n",
    "\"\"\"\n",
    "\n",
    "\"\"\" Returning values from a method using class \"\"\""
   ]
  },
  {
   "cell_type": "code",
   "execution_count": 39,
   "id": "ba385c24",
   "metadata": {},
   "outputs": [
    {
     "name": "stdout",
     "output_type": "stream",
     "text": [
      "<class 'str'>\n",
      "('Java', 20)\n",
      "('Java', 20)\n"
     ]
    }
   ],
   "source": [
    "\"\"\" Returning values from a method using tuple \"\"\"\n",
    "\n",
    "# This function returns a tuple \n",
    "def funTuple(): \n",
    "    str = \"Java\"\n",
    "    x = 20\n",
    "    return str, x \n",
    "    # Return tuple, we could also write (str, x) \n",
    "\n",
    "# Driver code to test above method \n",
    "x= funTuple() # Assign returned tuple \n",
    "print(str) \n",
    "print(x) \n",
    "print(funTuple())"
   ]
  },
  {
   "cell_type": "code",
   "execution_count": 40,
   "id": "289eabe9",
   "metadata": {},
   "outputs": [
    {
     "name": "stdout",
     "output_type": "stream",
     "text": [
      "['Android', 20]\n"
     ]
    }
   ],
   "source": [
    "\"\"\" Returning values from a method using list \"\"\"\n",
    "\n",
    "# This function returns a list \n",
    "def funList(): \n",
    "    str = \"Android\"\n",
    "    x = 20\n",
    "    return [str, x] \n",
    "\n",
    "# Driver code to test above method \n",
    "list = funList() \n",
    "print(list) "
   ]
  },
  {
   "cell_type": "code",
   "execution_count": 41,
   "id": "7c7b630f",
   "metadata": {},
   "outputs": [
    {
     "name": "stdout",
     "output_type": "stream",
     "text": [
      "{'str': 'Dictionary', 'x': 20}\n"
     ]
    }
   ],
   "source": [
    "\"\"\" Returning values from a method using dictionary \"\"\"\n",
    "# This function returns a dictionary \n",
    "def funDict(): \n",
    "    d = dict() \n",
    "    d['str'] = \"Dictionary\"\n",
    "    d['x'] = 20\n",
    "    return d \n",
    "# Driver code to test above method \n",
    "d = funDict() \n",
    "print(d) \n"
   ]
  },
  {
   "cell_type": "code",
   "execution_count": 42,
   "id": "ac89f6eb",
   "metadata": {},
   "outputs": [
    {
     "name": "stdout",
     "output_type": "stream",
     "text": [
      "Enter a number: 4\n",
      "The factorial of 4 is 24\n"
     ]
    }
   ],
   "source": [
    "# Recursion\n",
    "def factorial(n):  \n",
    "   if n == 1:  \n",
    "       return n  \n",
    "   else:  \n",
    "       return n*factorial(n-1)  \n",
    "\n",
    "# take input from the user  \n",
    "num = int(input(\"Enter a number: \"))  \n",
    "\n",
    "# check is the number is negative  \n",
    "if num < 0:  \n",
    "   print(\"Sorry, factorial does not exist for negative numbers\")  \n",
    "elif num == 0:  \n",
    "   print(\"The factorial of 0 is 1\")  \n",
    "else:  \n",
    "   print(\"The factorial of\",num,\"is\",factorial(num))  "
   ]
  },
  {
   "cell_type": "code",
   "execution_count": 43,
   "id": "2f2d9f78",
   "metadata": {},
   "outputs": [
    {
     "name": "stdout",
     "output_type": "stream",
     "text": [
      "25.0\n",
      "3628800\n",
      "3.141592653589793\n",
      "13\n",
      "['__doc__', '__loader__', '__name__', '__package__', '__spec__', 'acos', 'acosh', 'asin', 'asinh', 'atan', 'atan2', 'atanh', 'ceil', 'comb', 'copysign', 'cos', 'cosh', 'degrees', 'dist', 'e', 'erf', 'erfc', 'exp', 'expm1', 'fabs', 'factorial', 'floor', 'fmod', 'frexp', 'fsum', 'gamma', 'gcd', 'hypot', 'inf', 'isclose', 'isfinite', 'isinf', 'isnan', 'isqrt', 'ldexp', 'lgamma', 'log', 'log10', 'log1p', 'log2', 'modf', 'nan', 'perm', 'pi', 'pow', 'prod', 'radians', 'remainder', 'sin', 'sinh', 'sqrt', 'tan', 'tanh', 'tau', 'trunc']\n"
     ]
    }
   ],
   "source": [
    "\"\"\"\n",
    "Modules in Python\n",
    "Modules are primarily the (.py) files which contain Python code defining \n",
    "functions, class, variables, etc. with a suffix .py appended in its file name.\n",
    "They can have different functions, variables, and classes in one file. \n",
    "We can also call them libraries.\n",
    "A Python module brings certain benefits such as we can reduce redundancy \n",
    "in the code. It can let us maintain uniformity in the coding style.\n",
    "\"\"\"\n",
    "#we can write multiple modules in one import statement.\n",
    "import math, random \n",
    "print (math.sqrt(625)) #prints square root of number 625\n",
    "print (math.factorial(10)) #prints factorial of a number 10\n",
    "print (math.pi) #prints value of pi according to the built-in module\n",
    "print (random.randint(1,20)) #prints a random value from integers 1-20\n",
    "print (dir(math)) #prints function name, variables, etc. in math module"
   ]
  },
  {
   "cell_type": "code",
   "execution_count": 44,
   "id": "2cfe125a",
   "metadata": {},
   "outputs": [
    {
     "name": "stdout",
     "output_type": "stream",
     "text": [
      "The factorial of 5 is 120\n"
     ]
    }
   ],
   "source": [
    "def factorial():\n",
    "    fact = 1\n",
    "    if num < 0:\n",
    "        print(\"Sorry, factorial does not exist for negative numbers\")\n",
    "    elif num == 0:\n",
    "        print(\"The factorial of 0 is 1\")\n",
    "    else:\n",
    "        for i in range(1, num + 1):\n",
    "            fact = fact*i\n",
    "    return fact\n",
    "\n",
    "# For testing purpose:\n",
    "num = 5\n",
    "print(\"The factorial of\",num,\"is\",factorial())"
   ]
  },
  {
   "cell_type": "code",
   "execution_count": null,
   "id": "032e276c",
   "metadata": {},
   "outputs": [],
   "source": []
  }
 ],
 "metadata": {
  "kernelspec": {
   "display_name": "Python 3",
   "language": "python",
   "name": "python3"
  },
  "language_info": {
   "codemirror_mode": {
    "name": "ipython",
    "version": 3
   },
   "file_extension": ".py",
   "mimetype": "text/x-python",
   "name": "python",
   "nbconvert_exporter": "python",
   "pygments_lexer": "ipython3",
   "version": "3.8.8"
  }
 },
 "nbformat": 4,
 "nbformat_minor": 5
}
