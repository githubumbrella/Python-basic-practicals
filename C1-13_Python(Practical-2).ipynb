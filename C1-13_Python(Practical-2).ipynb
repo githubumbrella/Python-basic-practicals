{
 "cells": [
  {
   "cell_type": "markdown",
   "metadata": {},
   "source": [
    "# Practical 2 "
   ]
  },
  {
   "cell_type": "markdown",
   "metadata": {},
   "source": [
    "## Roll No:13\n",
    "## Batch : C1\n",
    "## Name: Saloni Vishwakarma"
   ]
  },
  {
   "cell_type": "markdown",
   "metadata": {},
   "source": [
    "# PART-A"
   ]
  },
  {
   "cell_type": "code",
   "execution_count": 13,
   "metadata": {},
   "outputs": [],
   "source": [
    "# List of order ID’s which are processed \n",
    "processed_orders = [1152, 1154, 1155, 1156, 1157, 1160, 1161, 1162, 1166, 1169, 1170, 1172, 1176, 1050, 1178, 1051, 1052, 1054, 1058, 1060, 1061, 1062, 1065, 1066, 1067, 1068, 1069, 1076, 1077, 1080, 1081, 1083, 1091, 1085, 1088, 1089, 1131, 1092, 1094, 1095, 1099, 1102, 1103, 1104, 1106, 1107, 1108, 1109, 1111, 1117, 1119, 1121, 1150, 1128, 1129, 1136, 1137, 1139, 1140, 1141, 1144, 1148, 1124]\n",
    "# List of order ID’s which are returned\n",
    "returned_orders = [1153, 1158, 1159, 1163, 1164, 1165, 1167, 1168, 1171, 1173, 1174, 1175, 1177, 1053, 1055, 1056, 1057, 1059, 1063, 1064, 1070, 1071, 1072, 1073, 1074, 1075, 1078, 1079, 1082, 1084, 1086, 1087, 1090, 1093, 1096, 1097, 1098, 1100, 1101, 1105, 1110, 1112, 1113, 1114, 1115, 1116, 1118, 1120, 1122, 1123, 1125, 1126, 1127, 1130, 1132, 1133, 1134, 1135, 1138, 1142, 1143, 1145, 1146, 1147, 1149, 1151]\n",
    "\n",
    "# Consider the information available in the above two lists and answer the \n",
    "#question given below"
   ]
  },
  {
   "cell_type": "markdown",
   "metadata": {},
   "source": [
    "#### Count the total number of orders [ Orders include both processed and returned orders]\n",
    "\n",
    "- 63\n",
    "- 66\n",
    "- 126\n",
    "- 129"
   ]
  },
  {
   "cell_type": "code",
   "execution_count": 14,
   "metadata": {},
   "outputs": [
    {
     "name": "stdout",
     "output_type": "stream",
     "text": [
      "129\n"
     ]
    }
   ],
   "source": [
    "total=processed_orders+returned_orders\n",
    "print(len(total))\n"
   ]
  },
  {
   "cell_type": "markdown",
   "metadata": {},
   "source": [
    "#### In the total orders, identify the 50th order [ Note: Assume the order ID’s are being generated in a consecutive manner]\n",
    "\n",
    "- 1152\n",
    "- 1099\n",
    "- 1154\n",
    "- 1100\n"
   ]
  },
  {
   "cell_type": "code",
   "execution_count": 15,
   "metadata": {},
   "outputs": [
    {
     "name": "stdout",
     "output_type": "stream",
     "text": [
      "50th order is:  1099\n"
     ]
    }
   ],
   "source": [
    "r=processed_orders+returned_orders\n",
    "r.sort()\n",
    "print(\"50th order is: \",r[49])    "
   ]
  },
  {
   "cell_type": "markdown",
   "metadata": {},
   "source": [
    "#### Is 50th order a returned order or processed order?\n",
    "\n",
    "- Returned Order\n",
    "- Processed Order\n"
   ]
  },
  {
   "cell_type": "code",
   "execution_count": 16,
   "metadata": {},
   "outputs": [
    {
     "name": "stdout",
     "output_type": "stream",
     "text": [
      "50th element is a processed order\n",
      "50th element is not a returned order\n"
     ]
    }
   ],
   "source": [
    "c1=0\n",
    "for ele in range(0,len(processed_orders)):\n",
    "    if(processed_orders[ele]==1099):\n",
    "        c1=1\n",
    "if(c1==1):\n",
    "    print(\"50th element is a processed order\")\n",
    "else:\n",
    "    print(\"50th element is not a processed order\")\n",
    "c2=0\n",
    "for ele in range(0,len(returned_orders)):\n",
    "    if(returned_orders[ele]==1099):\n",
    "        c2=1\n",
    "if(c2==1):\n",
    "    print(\"50th element is a returned order\")\n",
    "else:\n",
    "    print(\"50th element is not a returned order\")    "
   ]
  },
  {
   "cell_type": "markdown",
   "metadata": {},
   "source": [
    "#### What is the last processed order ID ? [ Note: Assume the order ID’s are being generated in a consecutive manner]\n",
    "\n",
    "- 1050\n",
    "- 1178\n",
    "- 1124\n",
    "- 1177\n",
    "\n"
   ]
  },
  {
   "cell_type": "code",
   "execution_count": 21,
   "metadata": {},
   "outputs": [
    {
     "name": "stdout",
     "output_type": "stream",
     "text": [
      "1178\n"
     ]
    }
   ],
   "source": [
    "processed_orders.sort()\n",
    "print(processed_orders[-1])"
   ]
  },
  {
   "cell_type": "markdown",
   "metadata": {},
   "source": [
    "#### Identify the first 4 orders which are processed?\n",
    "\n",
    "- 1152, 1154, 1155, 1156\n",
    "- 1051, 1152, 1153, 1154\n",
    "- 1050, 1051, 1052, 1054\n",
    "- 1050, 1051, 1052, 1053"
   ]
  },
  {
   "cell_type": "code",
   "execution_count": 24,
   "metadata": {},
   "outputs": [
    {
     "name": "stdout",
     "output_type": "stream",
     "text": [
      "[1050, 1051, 1052, 1054]\n"
     ]
    }
   ],
   "source": [
    "print(processed_orders[0:4])"
   ]
  },
  {
   "cell_type": "markdown",
   "metadata": {},
   "source": [
    "# PART-B"
   ]
  },
  {
   "cell_type": "code",
   "execution_count": 2,
   "metadata": {},
   "outputs": [],
   "source": [
    "number = [8, 9, 9, 1, 6, 9, 5, 7, 3, 9, 7, 3, 4, 8, 3, 5, 8, 4, 8, 7, 5, 7, 3, 6, 1, 2, 7, 4, 7, 7, 8, 4, 3, 4, 2, 2, 2, 7, 3, 5, 6, 1, 1, 3, 2, 1, 1, 7, 7, 1, 4, 4, 5, 6, 1, 2, 7, 4, 5, 8, 1, 4, 8, 6, 2, 4, 3, 7, 3, 6, 2, 3, 3, 3, 2, 4, 6, 8, 9, 3, 9, 3, 1, 8, 6, 6, 3, 3, 9, 4, 6, 4, 9, 6, 7, 1, 2, 8, 7, 8, 1, 4]\n",
    "price = [195, 225, 150, 150, 90, 60, 75, 255, 270, 225, 135, 195, 30, 15, 210, 105, 15, 30, 180, 60, 165, 60, 45, 225, 180, 90, 30, 210, 150, 15, 270, 60, 210, 180, 60, 225, 150, 150, 120, 195, 75, 240, 60, 45, 30, 180, 240, 285, 135, 165, 180, 240, 60, 105, 165, 240, 120, 45, 120, 165, 285, 225, 90, 105, 225, 45, 45, 45, 75, 180, 90, 240, 30, 30, 60, 135, 180, 15, 255, 180, 270, 135, 105, 135, 210, 180, 135, 195, 225, 75, 225, 15, 240, 60, 15, 180, 255, 90, 15, 150, 230, 150]"
   ]
  },
  {
   "cell_type": "markdown",
   "metadata": {},
   "source": [
    "#### How many different products are sold by the company in total?\n",
    "\n",
    "-  99\n",
    "-  100\n",
    "-  101\n",
    "-  102\n"
   ]
  },
  {
   "cell_type": "code",
   "execution_count": 3,
   "metadata": {},
   "outputs": [
    {
     "name": "stdout",
     "output_type": "stream",
     "text": [
      "102\n",
      "102\n"
     ]
    }
   ],
   "source": [
    "print(len(number))\n",
    "print(len(price))"
   ]
  },
  {
   "cell_type": "markdown",
   "metadata": {},
   "source": [
    "####  How many items were sold in total?\n",
    "- 460\n",
    "- 490\n",
    "- 500\n",
    "- 520"
   ]
  },
  {
   "cell_type": "code",
   "execution_count": 4,
   "metadata": {},
   "outputs": [
    {
     "name": "stdout",
     "output_type": "stream",
     "text": [
      "Total number of elements:  490\n"
     ]
    }
   ],
   "source": [
    "total=0\n",
    "for ele in range(0,len(number)):\n",
    "    total=total+number[ele]\n",
    "print(\"Total number of elements: \",total)    "
   ]
  },
  {
   "cell_type": "markdown",
   "metadata": {},
   "source": [
    "#### What is the average price of the products sold by the ecommerce company?\n",
    "(a) 139\n",
    "(b) 151\n",
    "(c) 142\n",
    "(d) 128"
   ]
  },
  {
   "cell_type": "code",
   "execution_count": 8,
   "metadata": {},
   "outputs": [
    {
     "name": "stdout",
     "output_type": "stream",
     "text": [
      "Average price of the products: 139\n"
     ]
    }
   ],
   "source": [
    "total=0\n",
    "for ele in range(0,len(price)):\n",
    "    total=total+price[ele]\n",
    "avg=int(total/len(price))    \n",
    "print(\"Average price of the products:\",avg)"
   ]
  },
  {
   "cell_type": "markdown",
   "metadata": {},
   "source": [
    "#### What is the price of the costliest item sold?\n",
    "\n",
    "-  225\n",
    "-  310\n",
    "-  280\n",
    "-  285"
   ]
  },
  {
   "cell_type": "code",
   "execution_count": 9,
   "metadata": {},
   "outputs": [
    {
     "name": "stdout",
     "output_type": "stream",
     "text": [
      "Price of the costliest element is:  285\n"
     ]
    }
   ],
   "source": [
    "print(\"Price of the costliest element is: \",max(price))"
   ]
  },
  {
   "cell_type": "markdown",
   "metadata": {},
   "source": [
    "#### What is the total revenue of the company? [Revenue = Price*Quantity]\n",
    "- 67100\n",
    "- 53900\n",
    "- 45300\n",
    "- 71200"
   ]
  },
  {
   "cell_type": "code",
   "execution_count": 10,
   "metadata": {},
   "outputs": [
    {
     "name": "stdout",
     "output_type": "stream",
     "text": [
      "Total revenue of the company:  67100\n"
     ]
    }
   ],
   "source": [
    "revenue=0\n",
    "for ele in range(0,len(price)):\n",
    "    revenue=revenue+number[ele]*price[ele]\n",
    "print(\"Total revenue of the company: \",revenue)\n"
   ]
  },
  {
   "cell_type": "markdown",
   "metadata": {},
   "source": [
    "#### Demand for the 20th product in the list is more than the 50th product. [True/False]\n",
    "- True\n",
    "- False\n",
    "- Can't be calculated"
   ]
  },
  {
   "cell_type": "code",
   "execution_count": 11,
   "metadata": {},
   "outputs": [
    {
     "name": "stdout",
     "output_type": "stream",
     "text": [
      "True\n"
     ]
    }
   ],
   "source": [
    "if(number[19]>number[49]):\n",
    "    print(\"True\")\n",
    "else:\n",
    "    print(\"False\")\n"
   ]
  },
  {
   "cell_type": "markdown",
   "metadata": {},
   "source": [
    "#### How many products fall under the category of expensive goods?\n",
    "#### An expensive good is that good whose price is more than the average price of the products sold by the company.\n",
    "\n",
    "- 48\n",
    "- 50\n",
    "- 52\n",
    "- 54"
   ]
  },
  {
   "cell_type": "code",
   "execution_count": 12,
   "metadata": {},
   "outputs": [
    {
     "name": "stdout",
     "output_type": "stream",
     "text": [
      "Number of expensive goods are:  52\n"
     ]
    }
   ],
   "source": [
    "count=0\n",
    "for ele in range(0,len(price)):\n",
    "    if(price[ele]>139):\n",
    "        count=count+1\n",
    "print(\"Number of expensive goods are: \",count)"
   ]
  },
  {
   "cell_type": "markdown",
   "metadata": {},
   "source": [
    "### 2.Write a program to count the occurrences of vowels in a list =\n",
    "### [&#39;s&#39;,&#39;h&#39;,&#39;r&#39;,&#39;i&#39;,&#39;r&#39;,&#39;a&#39;,&#39;m&#39;,&#39;d&#39;,&#39;e&#39;,&#39;o&#39;,&#39;b&#39;,&#39;a&#39;,&#39;b&#39;,&#39;a&#39;,&#39;c&#39;,&#39;o&#39;,&#39;l&#39;,&#39;l&#39;,&#39;e&#39;,&#39;g&#39;,&#39;e&#39;]"
   ]
  },
  {
   "cell_type": "code",
   "execution_count": 26,
   "metadata": {},
   "outputs": [
    {
     "name": "stdout",
     "output_type": "stream",
     "text": [
      "Given list is:  ['s', 'h', 'r', 'i', 'r', 'a', 'm', 'd', 'e', 'o', 'b', 'a', 'b', 'a', 'c', 'o', 'l', 'l', 'e', 'g', 'e']\n",
      "Vowel count: 9\n"
     ]
    }
   ],
   "source": [
    "list=['s','h','r','i','r','a','m','d','e','o','b','a','b','a','c','o','l','l','e','g','e']\n",
    "print(\"Given list is: \",list)\n",
    "count=0\n",
    "for ele in list:\n",
    "    if (ele=='a'or ele=='e'or ele=='i'or ele=='o'or ele=='u'):\n",
    "        count=count+1\n",
    "print(\"Vowel count:\",count)   "
   ]
  },
  {
   "cell_type": "markdown",
   "metadata": {},
   "source": [
    "### 3. Write a program to find the repeated items of a tuple. Print item and find how many times it is repeated."
   ]
  },
  {
   "cell_type": "code",
   "execution_count": 27,
   "metadata": {},
   "outputs": [
    {
     "name": "stdout",
     "output_type": "stream",
     "text": [
      "(2, 6, 4, 7, 6, 5, 2, 1, 6, 7, 4)\n",
      "Item: 2          Count: 2\n",
      "Item: 6          Count: 3\n",
      "Item: 4          Count: 2\n",
      "Item: 7          Count: 2\n",
      "Item: 6          Count: 3\n",
      "Item: 5          Count: 1\n",
      "Item: 2          Count: 2\n",
      "Item: 1          Count: 1\n",
      "Item: 6          Count: 3\n",
      "Item: 7          Count: 2\n",
      "Item: 4          Count: 2\n"
     ]
    }
   ],
   "source": [
    "my_tuple=(2,6,4,7,6,5,2,1,6,7,4)\n",
    "print(my_tuple)\n",
    "for y in my_tuple:\n",
    "    \n",
    "    print(\"Item:\",y,\"         Count:\",my_tuple.count(y))"
   ]
  },
  {
   "cell_type": "markdown",
   "metadata": {},
   "source": [
    "### 4. Given a list, slice it into two equal sized chunks. Your chunk size should be the maximum size possible and reverse each chunk and print the list."
   ]
  },
  {
   "cell_type": "code",
   "execution_count": 30,
   "metadata": {},
   "outputs": [
    {
     "name": "stdout",
     "output_type": "stream",
     "text": [
      "8\n"
     ]
    }
   ],
   "source": [
    "list=[2,4,32,1,5,6,8,9]\n",
    "a=len(list)\n",
    "print(a)"
   ]
  },
  {
   "cell_type": "code",
   "execution_count": 31,
   "metadata": {},
   "outputs": [
    {
     "name": "stdout",
     "output_type": "stream",
     "text": [
      "Chunk 1: [2, 4, 32, 1]\n",
      "Chunk 2: [5, 6, 8, 9]\n",
      "Reversed chunk 1: [1, 32, 4, 2]\n",
      "Reversed Chunk 2: [9, 8, 6, 5]\n"
     ]
    }
   ],
   "source": [
    "\n",
    "\n",
    "l1=list[0:int(a/2)]\n",
    "l2=list[int(a/2):a]\n",
    "print(\"Chunk 1:\",l1)\n",
    "print(\"Chunk 2:\",l2)\n",
    "l1.reverse()\n",
    "print(\"Reversed chunk 1:\",l1)\n",
    "l2.reverse()\n",
    "print(\"Reversed Chunk 2:\",l2)\n"
   ]
  },
  {
   "cell_type": "markdown",
   "metadata": {},
   "source": [
    "### 5. Python program that displays i) which letters present in the first string but not in the second string.ii) check common letters present in two input string"
   ]
  },
  {
   "cell_type": "code",
   "execution_count": 34,
   "metadata": {},
   "outputs": [
    {
     "name": "stdout",
     "output_type": "stream",
     "text": [
      "Enter First String:Saloni\n",
      "Enter second string:Siya\n",
      "Present in first string: l\n",
      "Present in first string: o\n",
      "Present in first string: n\n"
     ]
    }
   ],
   "source": [
    "x=input(\"Enter First String:\")\n",
    "y=input(\"Enter second string:\")\n",
    "for ele in x:\n",
    "    if(ele  not in y):\n",
    "        print(\"Present in first string:\",ele)\n"
   ]
  },
  {
   "cell_type": "code",
   "execution_count": 35,
   "metadata": {},
   "outputs": [
    {
     "name": "stdout",
     "output_type": "stream",
     "text": [
      "Common letters: S\n",
      "Common letters: a\n",
      "Common letters: i\n"
     ]
    }
   ],
   "source": [
    "for a in x:\n",
    "    if(a in y):\n",
    "        print(\"Common letters:\",a)"
   ]
  }
 ],
 "metadata": {
  "kernelspec": {
   "display_name": "Python 3 (ipykernel)",
   "language": "python",
   "name": "python3"
  },
  "language_info": {
   "codemirror_mode": {
    "name": "ipython",
    "version": 3
   },
   "file_extension": ".py",
   "mimetype": "text/x-python",
   "name": "python",
   "nbconvert_exporter": "python",
   "pygments_lexer": "ipython3",
   "version": "3.9.13"
  }
 },
 "nbformat": 4,
 "nbformat_minor": 2
}
