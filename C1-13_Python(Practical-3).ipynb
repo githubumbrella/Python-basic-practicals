{
 "cells": [
  {
   "cell_type": "markdown",
   "id": "9e40bbf8",
   "metadata": {},
   "source": [
    "## Python Programming Lab [CCP202]\n",
    "## Practical no. 3\n",
    "## Name: Saloni VIshwakarma\n",
    "## Roll no: C1-13"
   ]
  },
  {
   "cell_type": "markdown",
   "id": "c2d19c61",
   "metadata": {},
   "source": [
    "AIM: 1. Let’s say you have a huge list that contains student grades:\n",
    "Grades = [&#39;A&#39;, &#39;A&#39;, &#39;B&#39;, &#39;C&#39;, &#39;D&#39;, &#39;B&#39;, &#39;B&#39;, &#39;C&#39;, &#39;D&#39;, &#39;E&#39;, &#39;C&#39;, &#39;C&#39;, &#39;A&#39;, &#39;B&#39;, &#39;F&#39;, &#39;D&#39;, &#39;C&#39;, &#39;B&#39;, &#39;C&#39;, &#39;A&#39;, &#39;B&#39;, &#39;F&#39;,\n",
    "&#39;B&#39;, &#39;A&#39;, &#39;E&#39;, &#39;B&#39;, &#39;B&#39;, &#39;C&#39;, &#39;D&#39;] You want to identify distinct grades allotted to students."
   ]
  },
  {
   "cell_type": "markdown",
   "id": "77f8a576",
   "metadata": {},
   "source": [
    "grades=['A','A','B','C','D','B','B','C','D','E','C','C','A','B','F','D','C','B','C','A','B','F','B','A','E','B','B','C','D']\n",
    "my_set=set(grades)\n",
    "print(\"Distinct grades alloted to the students are: \")\n",
    "for ele in my_set:\n",
    "    print(ele)"
   ]
  },
  {
   "cell_type": "markdown",
   "id": "c54490b6",
   "metadata": {},
   "source": [
    "2. Let’s say you have two lists A and B. Identify the elements which are common in the two lists\n",
    "A and B and return them in a sorted manner. For example\n",
    "Sample Input: A = [5,1,3,4,4,5,6,7] B = [3,3,5,5, 1 ,7 ,2] Sample Output: [1,3,5,7]"
   ]
  },
  {
   "cell_type": "code",
   "execution_count": 1,
   "id": "ce41f1a1",
   "metadata": {},
   "outputs": [
    {
     "name": "stdout",
     "output_type": "stream",
     "text": [
      "In sorted manner:  {4, 5, 6, 7}\n"
     ]
    }
   ],
   "source": [
    "A=[3,4,5,6,7,8,9]\n",
    "a=set(A)\n",
    "B=[1,11,12,6,4,5,7]\n",
    "b=set(B)\n",
    "c=a & b\n",
    "sorted(c)\n",
    "print(\"In sorted manner: \",c)"
   ]
  },
  {
   "cell_type": "markdown",
   "id": "c7d5832a",
   "metadata": {},
   "source": [
    "3. Write a Python program to extract numbers from a given string.\n",
    "Example: Original string: Sachin Tendular scores 100 runs in 2001.\n",
    "Extract numbers from the said string:\n",
    "[100, 2001]"
   ]
  },
  {
   "cell_type": "code",
   "execution_count": 3,
   "id": "6fe721aa",
   "metadata": {},
   "outputs": [
    {
     "name": "stdout",
     "output_type": "stream",
     "text": [
      "Enter the string: \n",
      "sv56yh\n",
      "\n",
      "Numbers list in string: \n",
      "['5', '6']\n"
     ]
    }
   ],
   "source": [
    "print(\"Enter the string: \")\n",
    "text=input()\n",
    "nums=[]\n",
    "for i in range(0,len(text)):\n",
    "    if(text[i]>='0' and text[i]<='9'):\n",
    "        nums.append(text[i])\n",
    "print(\"\\nNumbers list in string: \")\n",
    "print(nums)"
   ]
  },
  {
   "cell_type": "markdown",
   "id": "8caf1dcd",
   "metadata": {},
   "source": [
    "4. In a competition, a school awarded medals in different categories. 36 medals in dance, 12\n",
    "medals in dramatics and 18 medals in music. If these medals went to a total of 45 persons and\n",
    "only 4 persons got medals in all the three categories, how many received medals in exactly two\n",
    "of these categories?"
   ]
  },
  {
   "cell_type": "code",
   "execution_count": 7,
   "id": "1a1290b1",
   "metadata": {},
   "outputs": [
    {
     "name": "stdout",
     "output_type": "stream",
     "text": [
      "13\n"
     ]
    }
   ],
   "source": [
    "# Let A=number of persons who got medals in dance\n",
    "# Let B=number of persons who got medals in dramatics\n",
    "# Let C=number of persons who got medals in music\n",
    "A=36\n",
    "B=12\n",
    "C=18\n",
    "T=45 #total number of students who got medals(union)\n",
    "I=4 #students who got medals in all 3 categories(intersection)\n",
    "# Let,P be the required number i.e,medals received in exactly two categories\n",
    "P=A+B+C-T+I-3*I\n",
    "print(P)"
   ]
  },
  {
   "cell_type": "markdown",
   "id": "f118d9ac",
   "metadata": {},
   "source": [
    "5. In a group of 100 persons, 72 people can speak English and 43 can speak French. How many\n",
    "can speak English only? How many can speak French only and how many can speak both\n",
    "English and French?"
   ]
  },
  {
   "cell_type": "code",
   "execution_count": 8,
   "id": "6d9f9ab4",
   "metadata": {},
   "outputs": [
    {
     "name": "stdout",
     "output_type": "stream",
     "text": [
      "Persons who can speak both English and French:  15\n",
      "Persons who can speak only English:  57\n",
      "Persons who can speak only French:  28\n"
     ]
    }
   ],
   "source": [
    "T=100 #total persons\n",
    "E=72 #those who can speak English\n",
    "F=43 #those who can speak French\n",
    "C=E+F-T #those who can speak both English and French\n",
    "print(\"Persons who can speak both English and French: \",C)\n",
    "print(\"Persons who can speak only English: \",E-C)\n",
    "print(\"Persons who can speak only French: \",F-C)\n"
   ]
  },
  {
   "cell_type": "markdown",
   "id": "edbf1a90",
   "metadata": {},
   "source": [
    "6. Scenario: In a survey of 500 students of a college, it was found that 49% liked watching\n",
    "football, 53% liked watching hockey and 62% liked watching basketball. Also, 27% liked\n",
    "watching football and hockey both, 29% liked watching basketball and hockey both and 28%\n",
    "liked watching football and basketball both. 5% liked watching none of these games.\n",
    " 1. How many students like watching all the three games?\n"
   ]
  },
  {
   "cell_type": "code",
   "execution_count": 15,
   "id": "073aee7c",
   "metadata": {},
   "outputs": [
    {
     "name": "stdout",
     "output_type": "stream",
     "text": [
      "Students watching all three games:  75.0\n"
     ]
    }
   ],
   "source": [
    "F=49\n",
    "H=53\n",
    "B=62\n",
    "FH=27\n",
    "BH=29\n",
    "FB=28\n",
    "TOTAL=100-5\n",
    "ALL=TOTAL-(F+H+B-FH-FB-BH) #ALL=students watching all three games\n",
    "print(\"Students watching all three games: \",ALL*500/100)"
   ]
  },
  {
   "cell_type": "markdown",
   "id": "f91718a7",
   "metadata": {},
   "source": [
    "\n",
    "2. Find the ratio of number of students who like watching only football to those who like watching only hockey."
   ]
  },
  {
   "cell_type": "code",
   "execution_count": 16,
   "id": "c57206a6",
   "metadata": {},
   "outputs": [
    {
     "name": "stdout",
     "output_type": "stream",
     "text": [
      "Ratio required:  0.75\n"
     ]
    }
   ],
   "source": [
    "ALL=TOTAL-(F+H+B-FH-FB-BH)\n",
    "ONLYF=F-(FH+FB-ALL-ALL+ALL)\n",
    "ONLYH=H-(BH+FH-ALL-ALL+ALL)\n",
    "print(\"Ratio required: \",ONLYF/ONLYH)"
   ]
  },
  {
   "cell_type": "markdown",
   "id": "63e58611",
   "metadata": {},
   "source": [
    "3. Find the number of students who like watching only one of the three given games."
   ]
  },
  {
   "cell_type": "code",
   "execution_count": 17,
   "id": "635a1d56",
   "metadata": {},
   "outputs": [
    {
     "name": "stdout",
     "output_type": "stream",
     "text": [
      "No. of students who like watching only one of the three given games:  205.0\n"
     ]
    }
   ],
   "source": [
    "ONLYB=B-(FB+BH-ALL-ALL+ALL)\n",
    "Z=(ONLYF+ONLYB+ONLYH)*500/100\n",
    "print(\"No. of students who like watching only one of the three given games: \",Z)"
   ]
  },
  {
   "cell_type": "markdown",
   "id": "73292619",
   "metadata": {},
   "source": [
    " 4. Find the number of students who like watching at least two of the given games."
   ]
  },
  {
   "cell_type": "code",
   "execution_count": 18,
   "id": "79aef159",
   "metadata": {},
   "outputs": [
    {
     "name": "stdout",
     "output_type": "stream",
     "text": [
      "No. of students who like watching at least two of the given games:  270.0\n"
     ]
    }
   ],
   "source": [
    "TWO=(FH+FB+BH-2*ALL)*500/100\n",
    "print(\"No. of students who like watching at least two of the given games: \",TWO)"
   ]
  },
  {
   "cell_type": "code",
   "execution_count": null,
   "id": "51e11454",
   "metadata": {},
   "outputs": [],
   "source": []
  }
 ],
 "metadata": {
  "kernelspec": {
   "display_name": "Python 3 (ipykernel)",
   "language": "python",
   "name": "python3"
  },
  "language_info": {
   "codemirror_mode": {
    "name": "ipython",
    "version": 3
   },
   "file_extension": ".py",
   "mimetype": "text/x-python",
   "name": "python",
   "nbconvert_exporter": "python",
   "pygments_lexer": "ipython3",
   "version": "3.9.13"
  }
 },
 "nbformat": 4,
 "nbformat_minor": 5
}
