{
 "cells": [
  {
   "cell_type": "markdown",
   "metadata": {},
   "source": [
    "String in Python\n",
    "A string is a sequence of characters. A character is simply a symbol. \n",
    "\n",
    "String is a collection of alphabets, words or other characters. It is one of the primitive data structures and are the building blocks for data manipulation. Python has a built-in string class named str. \n",
    "\n",
    "Python strings are \"immutable\" which means they cannot be changed after they are created. For string manipulation, we create new strings as we go to represent computed values because of their immutable property."
   ]
  },
  {
   "cell_type": "code",
   "execution_count": 1,
   "metadata": {},
   "outputs": [
    {
     "name": "stdout",
     "output_type": "stream",
     "text": [
      "Hello World\n",
      "Enter stringCSE\n",
      "CSE\n"
     ]
    }
   ],
   "source": [
    "# defining strings in Python\n",
    "# all of the following are equivalent\n",
    "my_string = \"Hello World\"\n",
    "print(my_string)\n",
    "str1=input(\"Enter string\")\n",
    "print(str1)"
   ]
  },
  {
   "cell_type": "code",
   "execution_count": 2,
   "metadata": {},
   "outputs": [
    {
     "name": "stdout",
     "output_type": "stream",
     "text": [
      "Hello Students\n"
     ]
    }
   ],
   "source": [
    "my_string = \"Hello Students\"\n",
    "print(my_string)"
   ]
  },
  {
   "cell_type": "code",
   "execution_count": 3,
   "metadata": {},
   "outputs": [
    {
     "name": "stdout",
     "output_type": "stream",
     "text": [
      "Python strings are \"immutable\" which means they cannot be \n",
      "changed after they are created. For string manipulation, we create new strings as \n",
      "we go to represent computed values because of their immutable property.\n"
     ]
    }
   ],
   "source": [
    "my_string = \"\"\"Python strings are \"immutable\" which means they cannot be \n",
    "changed after they are created. For string manipulation, we create new strings as \n",
    "we go to represent computed values because of their immutable property.\"\"\"\n",
    "print(my_string)\n"
   ]
  },
  {
   "cell_type": "code",
   "execution_count": 4,
   "metadata": {},
   "outputs": [
    {
     "name": "stdout",
     "output_type": "stream",
     "text": [
      "Hello, welcome to\n",
      "the world of Python\n",
      "Hello welcome to the world of Python\n"
     ]
    }
   ],
   "source": [
    "# triple quotes string can extend multiple lines\n",
    "my_string = \"\"\"Hello, welcome to\n",
    "the world of Python\"\"\"\n",
    "print(my_string)\n",
    "my_string = \"Hello welcome to the world of Python\"\n",
    "print(my_string)"
   ]
  },
  {
   "cell_type": "code",
   "execution_count": 5,
   "metadata": {},
   "outputs": [
    {
     "name": "stdout",
     "output_type": "stream",
     "text": [
      "str =  Ramdeobaba\n",
      "str[0] =  R\n",
      "str[-1] =  a\n",
      "str[1:5] =  amde\n",
      "str[5:-2] =  eobab\n"
     ]
    },
    {
     "ename": "IndexError",
     "evalue": "string index out of range",
     "output_type": "error",
     "traceback": [
      "\u001b[1;31m---------------------------------------------------------------------------\u001b[0m",
      "\u001b[1;31mIndexError\u001b[0m                                Traceback (most recent call last)",
      "\u001b[1;32m<ipython-input-5-02d5c2f0c69f>\u001b[0m in \u001b[0;36m<module>\u001b[1;34m\u001b[0m\n\u001b[0;32m     15\u001b[0m \u001b[0mprint\u001b[0m\u001b[1;33m(\u001b[0m\u001b[1;34m'str[5:-2] = '\u001b[0m\u001b[1;33m,\u001b[0m \u001b[0mstr\u001b[0m\u001b[1;33m[\u001b[0m\u001b[1;36m4\u001b[0m\u001b[1;33m:\u001b[0m\u001b[1;33m-\u001b[0m\u001b[1;36m1\u001b[0m\u001b[1;33m]\u001b[0m\u001b[1;33m)\u001b[0m\u001b[1;33m\u001b[0m\u001b[1;33m\u001b[0m\u001b[0m\n\u001b[0;32m     16\u001b[0m \u001b[1;33m\u001b[0m\u001b[0m\n\u001b[1;32m---> 17\u001b[1;33m \u001b[0mprint\u001b[0m\u001b[1;33m(\u001b[0m\u001b[0mstr\u001b[0m\u001b[1;33m[\u001b[0m\u001b[1;36m10\u001b[0m\u001b[1;33m]\u001b[0m\u001b[1;33m)\u001b[0m\u001b[1;33m\u001b[0m\u001b[1;33m\u001b[0m\u001b[0m\n\u001b[0m",
      "\u001b[1;31mIndexError\u001b[0m: string index out of range"
     ]
    }
   ],
   "source": [
    "#Accessing string characters in Python\n",
    "str = 'Ramdeobaba'\n",
    "print('str = ', str)\n",
    "\n",
    "#first character\n",
    "print('str[0] = ', str[0])\n",
    "\n",
    "#last character\n",
    "print('str[-1] = ', str[-1])\n",
    "\n",
    "#slicing 2nd to 5th character\n",
    "print('str[1:5] = ', str[1:5])   # [start:end(but not includuing):stepcount]\n",
    "\n",
    "#slicing 6th to 2nd last character\n",
    "print('str[5:-2] = ', str[4:-1])\n",
    "\n",
    "print(str[10])"
   ]
  },
  {
   "cell_type": "code",
   "execution_count": 6,
   "metadata": {},
   "outputs": [
    {
     "name": "stdout",
     "output_type": "stream",
     "text": [
      "o\n"
     ]
    },
    {
     "ename": "TypeError",
     "evalue": "string indices must be integers",
     "output_type": "error",
     "traceback": [
      "\u001b[1;31m---------------------------------------------------------------------------\u001b[0m",
      "\u001b[1;31mTypeError\u001b[0m                                 Traceback (most recent call last)",
      "\u001b[1;32m<ipython-input-6-8413e38cec63>\u001b[0m in \u001b[0;36m<module>\u001b[1;34m\u001b[0m\n\u001b[0;32m      3\u001b[0m \u001b[1;33m\u001b[0m\u001b[0m\n\u001b[0;32m      4\u001b[0m \u001b[1;31m# index must be an integer\u001b[0m\u001b[1;33m\u001b[0m\u001b[1;33m\u001b[0m\u001b[1;33m\u001b[0m\u001b[0m\n\u001b[1;32m----> 5\u001b[1;33m \u001b[0mprint\u001b[0m\u001b[1;33m(\u001b[0m\u001b[0mmy_string\u001b[0m\u001b[1;33m[\u001b[0m\u001b[1;36m1.5\u001b[0m\u001b[1;33m]\u001b[0m\u001b[1;33m)\u001b[0m        \u001b[1;31m# TypeError: string indices must be integers\u001b[0m\u001b[1;33m\u001b[0m\u001b[1;33m\u001b[0m\u001b[0m\n\u001b[0m",
      "\u001b[1;31mTypeError\u001b[0m: string indices must be integers"
     ]
    }
   ],
   "source": [
    "# index must be in range\n",
    "print(my_string[15])        # IndexError: string index out of range\n",
    "\n",
    "# index must be an integer\n",
    "print(my_string[1.5])        # TypeError: string indices must be integers"
   ]
  },
  {
   "cell_type": "markdown",
   "metadata": {},
   "source": [
    "Concatenation of Two or More Strings\n",
    "Joining of two or more strings into a single one is called concatenation.\n",
    "\n",
    "The + operator does this in Python. Simply writing two string literals together also concatenates them.\n",
    "\n",
    "The * operator can be used to repeat the string for a given number of times."
   ]
  },
  {
   "cell_type": "code",
   "execution_count": 7,
   "metadata": {},
   "outputs": [
    {
     "data": {
      "text/plain": [
       "'abcd'"
      ]
     },
     "execution_count": 7,
     "metadata": {},
     "output_type": "execute_result"
    }
   ],
   "source": [
    "'ab'+'cd'    # opeartor overloading imp feature of OOP\n"
   ]
  },
  {
   "cell_type": "code",
   "execution_count": 8,
   "metadata": {},
   "outputs": [
    {
     "name": "stdout",
     "output_type": "stream",
     "text": [
      "str1 + str2 =  Hello World!\n",
      "str1 * 3 = Hello Hello Hello \n",
      "str2 * 10 = World!World!World!World!World!World!World!World!World!World!\n"
     ]
    }
   ],
   "source": [
    "# Python String Operations\n",
    "str1 = 'Hello '\n",
    "str2 ='World!'\n",
    "\n",
    "# using +\n",
    "print('str1 + str2 = ', str1 + str2)\n",
    "\n",
    "# using *\n",
    "print('str1 * 3 =', str1 * 3)\n",
    "print('str2 * 10 =', str2 * 10)"
   ]
  },
  {
   "cell_type": "code",
   "execution_count": 9,
   "metadata": {},
   "outputs": [
    {
     "name": "stdout",
     "output_type": "stream",
     "text": [
      "H\n",
      "0 letters found\n",
      "e\n",
      "0 letters found\n",
      "l\n",
      "0 letters found\n",
      "l\n",
      "0 letters found\n",
      "o\n",
      "0 letters found\n",
      " \n",
      "1 letters found\n",
      "W\n",
      "1 letters found\n",
      "o\n",
      "1 letters found\n",
      "r\n",
      "2 letters found\n",
      "l\n",
      "2 letters found\n",
      "d\n",
      "2 letters found\n"
     ]
    }
   ],
   "source": [
    "# Iterating through a string\n",
    "str='Hello World'\n",
    "count = 0\n",
    "for letter in str:\n",
    "    print(letter)\n",
    "    print(count,'letters found')\n",
    "    \n",
    "    if(letter == 'o'):\n",
    "        count += 1\n",
    "    "
   ]
  },
  {
   "cell_type": "code",
   "execution_count": 23,
   "metadata": {},
   "outputs": [
    {
     "name": "stdout",
     "output_type": "stream",
     "text": [
      "True\n",
      "True\n"
     ]
    }
   ],
   "source": [
    "# String Membership Test\n",
    "print('a' in 'program')\n",
    "print('ab' not in 'battle')\n"
   ]
  },
  {
   "cell_type": "markdown",
   "metadata": {},
   "source": [
    "Built-in functions to Work with Python\n",
    "Various built-in functions that work with sequence work with strings as well.\n",
    "\n",
    "Some of the commonly used ones are enumerate() and len(). \n",
    "The enumerate() function returns an enumerate object. It contains the index and value of all the items in the string as pairs. This can be useful for iteration.\n",
    "\n",
    "Similarly, len() returns the length (number of characters) of the string."
   ]
  },
  {
   "cell_type": "code",
   "execution_count": 10,
   "metadata": {},
   "outputs": [
    {
     "name": "stdout",
     "output_type": "stream",
     "text": [
      "list(enumerate(str) =  [(0, 'R'), (1, 'A'), (2, 'M'), (3, 'D'), (4, 'E'), (5, 'O'), (6, 'B'), (7, 'A'), (8, 'B'), (9, 'A'), (10, ' '), (11, 'C'), (12, 'O'), (13, 'L'), (14, 'L'), (15, 'E'), (16, 'G'), (17, 'E')]\n",
      "len(str) =  18\n"
     ]
    }
   ],
   "source": [
    "str = 'RAMDEOBABA COLLEGE'\n",
    "\n",
    "# enumerate()\n",
    "list_enumerate = list(enumerate(str))\n",
    "print('list(enumerate(str) = ', list_enumerate)\n",
    "\n",
    "#character count\n",
    "print('len(str) = ', len(str))"
   ]
  },
  {
   "cell_type": "code",
   "execution_count": 11,
   "metadata": {},
   "outputs": [
    {
     "name": "stdout",
     "output_type": "stream",
     "text": [
      "Ramdeobaba\n",
      "ramdeobaba\n",
      "ramdeobaba\n",
      "False\n"
     ]
    }
   ],
   "source": [
    "str1 = 'ramdeobaba'\n",
    "print(str1.capitalize())\n",
    "str2 = 'RAMDEOBABA'\n",
    "print(str1.casefold())\n",
    "print(str2.casefold())\n",
    "print(str1.isnumeric())"
   ]
  },
  {
   "cell_type": "code",
   "execution_count": 12,
   "metadata": {},
   "outputs": [
    {
     "ename": "SyntaxError",
     "evalue": "invalid syntax (<ipython-input-12-3c4ea9477823>, line 1)",
     "output_type": "error",
     "traceback": [
      "\u001b[1;36m  File \u001b[1;32m\"<ipython-input-12-3c4ea9477823>\"\u001b[1;36m, line \u001b[1;32m1\u001b[0m\n\u001b[1;33m    Method\t                  Description\u001b[0m\n\u001b[1;37m          \t                  ^\u001b[0m\n\u001b[1;31mSyntaxError\u001b[0m\u001b[1;31m:\u001b[0m invalid syntax\n"
     ]
    }
   ],
   "source": [
    "\n",
    "Method\t                  Description\n",
    "capitalize()\t          Converts the first character to upper case\n",
    "casefold()\t              Converts string into lower case\n",
    "center()\t              Returns a centered string\n",
    "count()\t                  Returns the number of times a specified value occurs in a string\n",
    "encode()\t              Returns an encoded version of the string\n",
    "endswith()\t              Returns true if the string ends with the specified value\n",
    "expandtabs()\t          Sets the tab size of the string\n",
    "find()\t                  Searches the string for a specified value and returns the \n",
    "                           position of where it was found\n",
    "format()\t              Formats specified values in a string\n",
    "format_map()\t          Formats specified values in a string\n",
    "index()\t                  Searches the string for a specified value and returns \n",
    "                          the position of where it was found\n",
    "isalnum()\t              Returns True if all characters in the string are alphanumeric\n",
    "isalpha()\t              Returns True if all characters in the string are in the alphabet\n",
    "isdecimal()\t              Returns True if all characters in the string are decimals\n",
    "isdigit()\t              Returns True if all characters in the string are digits\n",
    "isidentifier()\t          Returns True if the string is an identifier\n",
    "islower()\t              Returns True if all characters in the string are lower case\n",
    "isnumeric()\t              Returns True if all characters in the string are numeric\n",
    "isprintable()\t          Returns True if all characters in the string are printable\n",
    "isspace()\t              Returns True if all characters in the string are whitespaces\n",
    "istitle()\t              Returns True if the string follows the rules of a title\n",
    "isupper()\t              Returns True if all characters in the string are upper case\n",
    "join()\t                  Joins the elements of an iterable to the end of the string\n",
    "ljust()\t                  Returns a left justified version of the string\n",
    "lower()\t                  Converts a string into lower case\n",
    "lstrip()\t              Returns a left trim version of the string\n",
    "maketrans()\t              Returns a translation table to be used in translations\n",
    "partition()\t              Returns a tuple where the string is parted into three parts\n",
    "replace()\t              Returns a string where a specified value is replaced with a specified value\n",
    "rfind()\t                  Searches the string for a specified value and returns the \n",
    "                          last position of where it was found\n",
    "rindex()\t              Searches the string for a specified value and returns the \n",
    "                          last position of where it was found\n",
    "rjust()\t                  Returns a right justified version of the string\n",
    "rpartition()\t          Returns a tuple where the string is parted into three parts\n",
    "rsplit()\t              Splits the string at the specified separator, and returns a list\n",
    "rstrip()\t              Returns a right trim version of the string\n",
    "split()\t                  Splits the string at the specified separator, and returns a list\n",
    "splitlines()\t          Splits the string at line breaks and returns a list\n",
    "startswith()\t          Returns true if the string starts with the specified value\n",
    "strip()\t                  Returns a trimmed version of the string\n",
    "swapcase()\t              Swaps cases, lower case becomes upper case and vice versa\n",
    "title()\t                  Converts the first character of each word to upper case\n",
    "translate()\t              Returns a translated string\n",
    "upper()\t                  Converts a string into upper case\n",
    "zfill()\t                  Fills the string with a specified number of 0 values at the beginning\n"
   ]
  },
  {
   "cell_type": "code",
   "execution_count": 13,
   "metadata": {},
   "outputs": [
    {
     "name": "stdout",
     "output_type": "stream",
     "text": [
      "\n",
      "--- Default Order ---\n",
      "Ram, Lakshman and Bharat\n",
      "\n",
      "--- Positional Order ---\n",
      "Lakshman, Bharat and Ram\n",
      "\n",
      "--- Keyword Order ---\n",
      "Lakshman, Python,Bharat and Ram\n"
     ]
    }
   ],
   "source": [
    "# The format() Method for Formatting Strings\n",
    "# Python string format() method\n",
    "# default(implicit) order  printf(\"rno=%d\",rno)\n",
    "default_order = \"{}, {} and {}\".format('Ram','Lakshman','Bharat')\n",
    "print('\\n--- Default Order ---')\n",
    "print(default_order)\n",
    "\n",
    "# order using positional argument\n",
    "positional_order = \"{1}, {2} and {0}\".format('Ram','Lakshman','Bharat')\n",
    "print('\\n--- Positional Order ---')\n",
    "print(positional_order)\n",
    "\n",
    "# order using keyword argument\n",
    "keyword_order = \"{L}, {o},{b} and {r}\".format(L='Lakshman',b='Bharat',r='Ram', o='Python')\n",
    "print('\\n--- Keyword Order ---')\n",
    "print(keyword_order)"
   ]
  },
  {
   "cell_type": "code",
   "execution_count": 14,
   "metadata": {},
   "outputs": [
    {
     "name": "stdout",
     "output_type": "stream",
     "text": [
      "My name is abc, and I am 36\n"
     ]
    }
   ],
   "source": [
    "age = 36\n",
    "txt = \"My name is abc, and I am {}\"\n",
    "print(txt.format(age))"
   ]
  },
  {
   "cell_type": "code",
   "execution_count": 15,
   "metadata": {},
   "outputs": [
    {
     "name": "stdout",
     "output_type": "stream",
     "text": [
      "I want 3 pieces of item 567 for 49.95 dollars.\n"
     ]
    }
   ],
   "source": [
    "quantity = 3\n",
    "itemno = 567\n",
    "price = 49.95\n",
    "myorder = \"I want {} pieces of item {} for {} dollars.\"\n",
    "print(myorder.format(quantity, itemno, price))"
   ]
  },
  {
   "cell_type": "code",
   "execution_count": 16,
   "metadata": {},
   "outputs": [
    {
     "name": "stdout",
     "output_type": "stream",
     "text": [
      "I want to pay 49.95 dollars for 3 pieces of item 567.\n"
     ]
    }
   ],
   "source": [
    "quantity = 3\n",
    "itemno = 567\n",
    "price = 49.95\n",
    "myorder = \"I want to pay {2} dollars for {0} pieces of item {1}.\"\n",
    "print(myorder.format(quantity, itemno, price))"
   ]
  },
  {
   "cell_type": "code",
   "execution_count": 17,
   "metadata": {},
   "outputs": [
    {
     "name": "stdout",
     "output_type": "stream",
     "text": [
      "str1= malayalam\n",
      "str2= malayalam\n",
      "palindrome\n"
     ]
    }
   ],
   "source": [
    "# Python program to check if a string is palindrome or not \n",
    "str1 ='malayalam'\n",
    "str2 = str1[::-1]      # Reverse\n",
    "print(\"str1=\",str1)\n",
    "print(\"str2=\",str2)\n",
    "if(str1==str2):\n",
    "    print(\"palindrome\")\n",
    "else:\n",
    "    print(\"Not Palindrome\")"
   ]
  },
  {
   "cell_type": "code",
   "execution_count": 18,
   "metadata": {},
   "outputs": [
    {
     "name": "stdout",
     "output_type": "stream",
     "text": [
      "[9, 8, 7, 6, 5, 4, 3, 2, 1, 0, 8]\n",
      "[9, 7, 5, 3, 1, 8]\n",
      "[8, 0, 1, 2, 3, 4, 5, 6, 7, 8]\n",
      "[8, 0, 1, 2, 3, 4, 5, 6, 7, 8, 9]\n"
     ]
    }
   ],
   "source": [
    "# Extended Slices\n",
    "L= [9, 8, 7, 6, 5, 4, 3, 2, 1, 0, 8]\n",
    "\n",
    "# Negative values also work to make a copy of the same list in reverse order:\n",
    "# print(start:end(not including):step)\n",
    "\n",
    "print(L[::1])   \n",
    "print(L[::2])\n",
    "print(L[-1:0:-1])\n",
    "print(L[::-1]) # reverse"
   ]
  },
  {
   "cell_type": "code",
   "execution_count": 19,
   "metadata": {},
   "outputs": [],
   "source": [
    "# Python Program to Remove Punctuations From a String define punctuation\n",
    "punctuations = '''!()-[]{};:\"'\\,<>./?@#$%^&*_~'''\n",
    "str11=\"How are you? well done! abc@rknec.edu, \""
   ]
  },
  {
   "cell_type": "code",
   "execution_count": null,
   "metadata": {},
   "outputs": [],
   "source": [
    "# Python Program to Remove vowels From a String "
   ]
  },
  {
   "cell_type": "code",
   "execution_count": 33,
   "metadata": {},
   "outputs": [],
   "source": [
    "# Python Program to Sort Words in Alphabetic Order\n",
    "# Program to sort alphabetically the words form a string provided by the user   "
   ]
  },
  {
   "cell_type": "code",
   "execution_count": 20,
   "metadata": {},
   "outputs": [
    {
     "name": "stdout",
     "output_type": "stream",
     "text": [
      "How are you well done abcrknecedu\n"
     ]
    }
   ],
   "source": [
    "# define punctuation\n",
    "punctuations = '''!()-[]{};:'\"\\,<>./?@#$%^&*_~'''\n",
    "my_str = \"How are you? well done! abc@rknec.edu,\"\n",
    "\n",
    "# To take input from the user\n",
    "# my_str = input(\"Enter a string: \")\n",
    "\n",
    "# remove punctuation from the string\n",
    "no_punct = \"\"\n",
    "for char in my_str:\n",
    "   if char not in punctuations:\n",
    "       no_punct = no_punct + char\n",
    "\n",
    "# display the unpunctuated string\n",
    "print(no_punct)"
   ]
  },
  {
   "cell_type": "code",
   "execution_count": null,
   "metadata": {},
   "outputs": [],
   "source": [
    "print(\"Enter the String: \")\n",
    "text = input()\n",
    "vowels = ['a', 'e', 'i', 'o', 'u', 'A', 'E', 'I', 'O', 'U']\n",
    "newtext = \"\"\n",
    "length = len(text)\n",
    "\n",
    "for i in range(length):\n",
    "    if text[i] not in vowels:\n",
    "        newtext = newtext + text[i]\n",
    "\n",
    "print(\"\\nString after removing Vowels: \")\n",
    "text = newtext\n",
    "print(text)"
   ]
  },
  {
   "cell_type": "code",
   "execution_count": null,
   "metadata": {},
   "outputs": [],
   "source": [
    "# Program to sort alphabetically the words form a string provided by the user\n",
    "\n",
    "my_str = \"Hello this Is an Example With cased letters\"\n",
    "\n",
    "# To take input from the user\n",
    "#my_str = input(\"Enter a string: \")\n",
    "\n",
    "# breakdown the string into a list of words\n",
    "words=my_str.split()\n",
    "#words = [words.lower() for word in my_str.split()]\n",
    "\n",
    "# sort the list\n",
    "words.sort()\n",
    "\n",
    "# display the sorted words\n",
    "\n",
    "print(\"The sorted words are:\")\n",
    "for word in words:\n",
    "   print(word)"
   ]
  },
  {
   "cell_type": "code",
   "execution_count": null,
   "metadata": {},
   "outputs": [],
   "source": [
    "my_str = input(\"Enter a string: \")  \n",
    "# breakdown the string into a list of words  \n",
    "words = my_str.split()  \n",
    "# sort the list  \n",
    "words.sort()  \n",
    "# display the sorted words  \n",
    "for word in words:  \n",
    "   print(word)  "
   ]
  },
  {
   "cell_type": "code",
   "execution_count": 35,
   "metadata": {},
   "outputs": [
    {
     "name": "stdout",
     "output_type": "stream",
     "text": [
      "True\n"
     ]
    }
   ],
   "source": [
    "txt = \"The best things in life are free!\"\n",
    "print(\"free\" in txt)"
   ]
  },
  {
   "cell_type": "code",
   "execution_count": 3,
   "metadata": {},
   "outputs": [
    {
     "name": "stdout",
     "output_type": "stream",
     "text": [
      "Yes, 'free' is present.\n"
     ]
    }
   ],
   "source": [
    "txt = \"The best things in life are free!\"\n",
    "if \"free\" in txt:\n",
    "  print(\"Yes, 'free' is present.\")"
   ]
  },
  {
   "cell_type": "code",
   "execution_count": 36,
   "metadata": {},
   "outputs": [
    {
     "ename": "SyntaxError",
     "evalue": "invalid syntax (<ipython-input-36-5b2db8c64782>, line 1)",
     "output_type": "error",
     "traceback": [
      "\u001b[1;36m  File \u001b[1;32m\"<ipython-input-36-5b2db8c64782>\"\u001b[1;36m, line \u001b[1;32m1\u001b[0m\n\u001b[1;33m    print(\"He said, \"What's there?\"\")\u001b[0m\n\u001b[1;37m                     ^\u001b[0m\n\u001b[1;31mSyntaxError\u001b[0m\u001b[1;31m:\u001b[0m invalid syntax\n"
     ]
    }
   ],
   "source": [
    "print(\"He said, \"What's there?\"\")\n"
   ]
  },
  {
   "cell_type": "code",
   "execution_count": null,
   "metadata": {},
   "outputs": [],
   "source": [
    "One way to get around this problem is to use triple quotes. \n",
    "Alternatively, we can use escape sequences.\n",
    "An escape sequence starts with a backslash and is interpreted differently. \n",
    "If we use a single quote to represent a string, \n",
    "all the single quotes inside the string must be escaped.\n",
    "Similar is the case with double quotes. Here is how it can be done to represent\n",
    "the above text."
   ]
  },
  {
   "cell_type": "code",
   "execution_count": 37,
   "metadata": {},
   "outputs": [
    {
     "name": "stdout",
     "output_type": "stream",
     "text": [
      "He said, \"What's there?\"\n",
      "He said, \"What's there?\"\n",
      "He said, \"What's there?\"\n"
     ]
    }
   ],
   "source": [
    "# using triple quotes\n",
    "print('''He said, \"What's there?\"''')\n",
    "\n",
    "# escaping single quotes\n",
    "print('He said, \"What\\'s there?\"')\n",
    "\n",
    "# escaping double quotes\n",
    "print(\"He said, \\\"What's there?\\\"\")"
   ]
  },
  {
   "cell_type": "code",
   "execution_count": 38,
   "metadata": {},
   "outputs": [
    {
     "name": "stdout",
     "output_type": "stream",
     "text": [
      "This is printed\n",
      "in two lines\n"
     ]
    }
   ],
   "source": [
    "print(\"This is printed\\nin two lines\")"
   ]
  },
  {
   "cell_type": "code",
   "execution_count": 40,
   "metadata": {},
   "outputs": [
    {
     "name": "stdout",
     "output_type": "stream",
     "text": [
      "orl\n"
     ]
    }
   ],
   "source": [
    "b = \"Hello, World!\"\n",
    "print(b[-5:-2])"
   ]
  },
  {
   "cell_type": "code",
   "execution_count": 41,
   "metadata": {},
   "outputs": [
    {
     "name": "stdout",
     "output_type": "stream",
     "text": [
      "Jello, World!\n"
     ]
    }
   ],
   "source": [
    "a = \"Hello, World!\"\n",
    "print(a.replace(\"H\", \"J\"))"
   ]
  },
  {
   "cell_type": "code",
   "execution_count": 42,
   "metadata": {},
   "outputs": [
    {
     "name": "stdout",
     "output_type": "stream",
     "text": [
      "['Hello', ' World!']\n"
     ]
    }
   ],
   "source": [
    "#Split String\n",
    "a = \"Hello, World!\"\n",
    "print(a.split(\",\")) "
   ]
  },
  {
   "cell_type": "code",
   "execution_count": 45,
   "metadata": {},
   "outputs": [
    {
     "name": "stdout",
     "output_type": "stream",
     "text": [
      "Enter first stringab\n",
      "Enter second stringcd\n",
      "Error in input!\n"
     ]
    }
   ],
   "source": [
    "n1=input(\"Enter first string\")\n",
    "n2=input(\"Enter second string\")\n",
    "if (n1.isnumeric() and n2.isnumeric()):\n",
    "     str(int(n1) + int(n2))\n",
    "else:\n",
    "    print( 'Error in input!')\n"
   ]
  },
  {
   "cell_type": "code",
   "execution_count": 31,
   "metadata": {},
   "outputs": [
    {
     "name": "stdout",
     "output_type": "stream",
     "text": [
      "Enter  stringabc\n",
      "The string is abcing\n"
     ]
    }
   ],
   "source": [
    "#Write a Python program to add 'ion' at the end of a given string \n",
    "#(length should be at least 3). \n",
    "#If the given string already ends with 'ion' then add 'ly' instead. \n",
    "#If the string length of the given string is less than 3, leave it unchanged.\n",
    "\n",
    "str=input(\"Enter  string\")\n",
    "length = len(str)\n",
    "\n",
    "if length > 2:\n",
    "    if str[-3:] == 'ion':\n",
    "      str += 'ly'\n",
    "    else:\n",
    "      str += 'ing'\n",
    "\n",
    "print(\"The string is\", str)\n"
   ]
  },
  {
   "cell_type": "code",
   "execution_count": null,
   "metadata": {},
   "outputs": [],
   "source": [
    "Write a Python function that takes a list of words and return the longest word\n",
    "and the length of the longest one."
   ]
  },
  {
   "cell_type": "code",
   "execution_count": 35,
   "metadata": {},
   "outputs": [
    {
     "name": "stdout",
     "output_type": "stream",
     "text": [
      "Enter  stringpython prog java prog\n",
      "{'python': 1, 'prog': 2, 'java': 1}\n"
     ]
    }
   ],
   "source": [
    "str=input(\"Enter  string\")\n",
    "counts = dict()\n",
    "words = str.split()\n",
    "\n",
    "for word in words:\n",
    "    if word in counts:\n",
    "        counts[word] += 1\n",
    "    else:\n",
    "        counts[word] = 1\n",
    "print(counts)        \n",
    "        \n",
    "\n",
    "    \n",
    "\n",
    "#print( word_count('the quick brown fox jumps over the lazy dog.'))"
   ]
  },
  {
   "cell_type": "code",
   "execution_count": null,
   "metadata": {},
   "outputs": [],
   "source": [
    "Write a Python function to reverses a string if it's length is a multiple of 5."
   ]
  },
  {
   "cell_type": "code",
   "execution_count": 2,
   "metadata": {},
   "outputs": [
    {
     "name": "stdout",
     "output_type": "stream",
     "text": [
      "Python Exercises\n",
      "\n",
      "Python Exercises\n",
      "\n"
     ]
    }
   ],
   "source": [
    "#python: Remove a newline in Python\n",
    "str1=\"Python Exercises\\n\"\n",
    "print(str1)\n",
    "print(str1.lstrip())"
   ]
  },
  {
   "cell_type": "code",
   "execution_count": null,
   "metadata": {},
   "outputs": [],
   "source": []
  },
  {
   "cell_type": "code",
   "execution_count": null,
   "metadata": {},
   "outputs": [],
   "source": []
  }
 ],
 "metadata": {
  "kernelspec": {
   "display_name": "Python 3",
   "language": "python",
   "name": "python3"
  },
  "language_info": {
   "codemirror_mode": {
    "name": "ipython",
    "version": 3
   },
   "file_extension": ".py",
   "mimetype": "text/x-python",
   "name": "python",
   "nbconvert_exporter": "python",
   "pygments_lexer": "ipython3",
   "version": "3.8.8"
  }
 },
 "nbformat": 4,
 "nbformat_minor": 2
}
